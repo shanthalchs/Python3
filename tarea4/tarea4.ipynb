{
 "cells": [
  {
   "cell_type": "code",
   "execution_count": 2,
   "metadata": {},
   "outputs": [],
   "source": [
    "import os\n",
    "import pandas as pd\n",
    "import numpy  as np\n",
    "from predictPy import Analisis_Predictivo\n",
    "from sklearn.svm import SVC\n",
    "from sklearn.preprocessing import StandardScaler\n"
   ]
  },
  {
   "cell_type": "markdown",
   "metadata": {},
   "source": [
    "<p style = \"color: blue; font-size :40px;text-align:center;font-family:Times New Roman\"> Tarea 4\n"
   ]
  },
  {
   "cell_type": "markdown",
   "metadata": {},
   "source": [
    "# Ejercicio 1: [30 puntos] En este ejercicio vamos a usar la tabla de datos `potabilidad_v2.csv`, que contiene diferentes métricas de calidad del agua para cuerpos de agua distintos. Para esta tabla, las 9 primeras columnas corresponden a las variables predictoras y la variable `Potability` es la variable a predecir, la cual indica si el agua es segura para el consumo humano o no.\n",
    "\n",
    "Realice lo siguiente:"
   ]
  },
  {
   "cell_type": "code",
   "execution_count": 53,
   "metadata": {},
   "outputs": [
    {
     "name": "stdout",
     "output_type": "stream",
     "text": [
      "<class 'pandas.core.frame.DataFrame'>\n",
      "Int64Index: 2011 entries, 4 to 3272\n",
      "Data columns (total 10 columns):\n",
      " #   Column           Non-Null Count  Dtype  \n",
      "---  ------           --------------  -----  \n",
      " 0   ph               2011 non-null   float64\n",
      " 1   Hardness         2011 non-null   float64\n",
      " 2   Solids           2011 non-null   float64\n",
      " 3   Chloramines      2011 non-null   float64\n",
      " 4   Sulfate          2011 non-null   float64\n",
      " 5   Conductivity     2011 non-null   float64\n",
      " 6   Organic_carbon   2011 non-null   float64\n",
      " 7   Trihalomethanes  2011 non-null   float64\n",
      " 8   Turbidity        2011 non-null   float64\n",
      " 9   Potability       2011 non-null   object \n",
      "dtypes: float64(9), object(1)\n",
      "memory usage: 172.8+ KB\n",
      "None \n",
      "\n"
     ]
    },
    {
     "data": {
      "text/html": [
       "<div>\n",
       "<style scoped>\n",
       "    .dataframe tbody tr th:only-of-type {\n",
       "        vertical-align: middle;\n",
       "    }\n",
       "\n",
       "    .dataframe tbody tr th {\n",
       "        vertical-align: top;\n",
       "    }\n",
       "\n",
       "    .dataframe thead th {\n",
       "        text-align: right;\n",
       "    }\n",
       "</style>\n",
       "<table border=\"1\" class=\"dataframe\">\n",
       "  <thead>\n",
       "    <tr style=\"text-align: right;\">\n",
       "      <th></th>\n",
       "      <th>ph</th>\n",
       "      <th>Hardness</th>\n",
       "      <th>Solids</th>\n",
       "      <th>Chloramines</th>\n",
       "      <th>Sulfate</th>\n",
       "      <th>Conductivity</th>\n",
       "      <th>Organic_carbon</th>\n",
       "      <th>Trihalomethanes</th>\n",
       "      <th>Turbidity</th>\n",
       "      <th>Potability</th>\n",
       "    </tr>\n",
       "  </thead>\n",
       "  <tbody>\n",
       "    <tr>\n",
       "      <th>4</th>\n",
       "      <td>8.316766</td>\n",
       "      <td>214.373394</td>\n",
       "      <td>22018.417441</td>\n",
       "      <td>8.059332</td>\n",
       "      <td>356.886136</td>\n",
       "      <td>363.266516</td>\n",
       "      <td>18.436524</td>\n",
       "      <td>100.341674</td>\n",
       "      <td>4.628771</td>\n",
       "      <td>No</td>\n",
       "    </tr>\n",
       "    <tr>\n",
       "      <th>5</th>\n",
       "      <td>9.092223</td>\n",
       "      <td>181.101509</td>\n",
       "      <td>17978.986339</td>\n",
       "      <td>6.546600</td>\n",
       "      <td>310.135738</td>\n",
       "      <td>398.410813</td>\n",
       "      <td>11.558279</td>\n",
       "      <td>31.997993</td>\n",
       "      <td>4.075075</td>\n",
       "      <td>No</td>\n",
       "    </tr>\n",
       "    <tr>\n",
       "      <th>6</th>\n",
       "      <td>5.584087</td>\n",
       "      <td>188.313324</td>\n",
       "      <td>28748.687739</td>\n",
       "      <td>7.544869</td>\n",
       "      <td>326.678363</td>\n",
       "      <td>280.467916</td>\n",
       "      <td>8.399735</td>\n",
       "      <td>54.917862</td>\n",
       "      <td>2.559708</td>\n",
       "      <td>No</td>\n",
       "    </tr>\n",
       "    <tr>\n",
       "      <th>7</th>\n",
       "      <td>10.223862</td>\n",
       "      <td>248.071735</td>\n",
       "      <td>28749.716544</td>\n",
       "      <td>7.513408</td>\n",
       "      <td>393.663396</td>\n",
       "      <td>283.651634</td>\n",
       "      <td>13.789695</td>\n",
       "      <td>84.603556</td>\n",
       "      <td>2.672989</td>\n",
       "      <td>No</td>\n",
       "    </tr>\n",
       "    <tr>\n",
       "      <th>8</th>\n",
       "      <td>8.635849</td>\n",
       "      <td>203.361523</td>\n",
       "      <td>13672.091764</td>\n",
       "      <td>4.563009</td>\n",
       "      <td>303.309771</td>\n",
       "      <td>474.607645</td>\n",
       "      <td>12.363817</td>\n",
       "      <td>62.798309</td>\n",
       "      <td>4.401425</td>\n",
       "      <td>No</td>\n",
       "    </tr>\n",
       "  </tbody>\n",
       "</table>\n",
       "</div>"
      ],
      "text/plain": [
       "          ph    Hardness        Solids  Chloramines     Sulfate  Conductivity  \\\n",
       "4   8.316766  214.373394  22018.417441     8.059332  356.886136    363.266516   \n",
       "5   9.092223  181.101509  17978.986339     6.546600  310.135738    398.410813   \n",
       "6   5.584087  188.313324  28748.687739     7.544869  326.678363    280.467916   \n",
       "7  10.223862  248.071735  28749.716544     7.513408  393.663396    283.651634   \n",
       "8   8.635849  203.361523  13672.091764     4.563009  303.309771    474.607645   \n",
       "\n",
       "   Organic_carbon  Trihalomethanes  Turbidity Potability  \n",
       "4       18.436524       100.341674   4.628771         No  \n",
       "5       11.558279        31.997993   4.075075         No  \n",
       "6        8.399735        54.917862   2.559708         No  \n",
       "7       13.789695        84.603556   2.672989         No  \n",
       "8       12.363817        62.798309   4.401425         No  "
      ]
     },
     "execution_count": 53,
     "metadata": {},
     "output_type": "execute_result"
    }
   ],
   "source": [
    "datos = pd.read_csv('../datos/potabilidad_v2.csv',delimiter=',',decimal=\".\", index_col =0 )\n",
    "\n",
    "print(datos.info(), \"\\n\")\n",
    "datos.head()"
   ]
  },
  {
   "cell_type": "markdown",
   "metadata": {},
   "source": [
    "## 1. Use Máquinas de Soporte Vectorial en Python para generar un modelo predictivo para la tabla `potabilidad_v2.csv` usando el 75 % de los datos para la tabla aprendizaje y un 25 % para la tabla testing. Obtenga los índices de precisión e interprete los resultados. Utilice los parámetros por defecto."
   ]
  },
  {
   "cell_type": "code",
   "execution_count": 54,
   "metadata": {},
   "outputs": [
    {
     "name": "stdout",
     "output_type": "stream",
     "text": [
      "\n",
      "Matriz de Confusión:\n",
      "[[281  28]\n",
      " [117  77]]\n",
      "\n",
      "Precisión Global:\n",
      "0.7117296222664016\n",
      "\n",
      "Error Global:\n",
      "0.2882703777335984\n",
      "\n",
      "Precisión por categoría:\n",
      "         No        Si\n",
      "0  0.909385  0.396907\n"
     ]
    }
   ],
   "source": [
    "instancia_svm = SVC(random_state = 0)\n",
    "\n",
    "analisis = Analisis_Predictivo(datos,predecir= \"Potability\",modelo=instancia_svm, train_size= 0.75, random_state = 0)\n",
    "\n",
    "resultados = analisis.fit_predict_resultados()\n"
   ]
  },
  {
   "cell_type": "markdown",
   "metadata": {},
   "source": [
    "## 2. Repita el ítem anterior pero intente identificar el mejor núcleo(kernel) y valor para el parámetro de regularización C. ¿Mejora la predicción?\n"
   ]
  },
  {
   "cell_type": "code",
   "execution_count": 55,
   "metadata": {},
   "outputs": [
    {
     "name": "stdout",
     "output_type": "stream",
     "text": [
      "\n",
      "Matriz de Confusión:\n",
      "[[257  52]\n",
      " [ 92 102]]\n",
      "\n",
      "Precisión Global:\n",
      "0.7137176938369781\n",
      "\n",
      "Error Global:\n",
      "0.28628230616302186\n",
      "\n",
      "Precisión por categoría:\n",
      "         No        Si\n",
      "0  0.831715  0.525773\n"
     ]
    }
   ],
   "source": [
    "instancia_svm = SVC(kernel=\"rbf\", degree = 3, random_state = 0, C = 4)\n",
    "\n",
    "analisis = Analisis_Predictivo(datos,predecir= \"Potability\",modelo=instancia_svm, train_size= 0.75, random_state = 0)\n",
    "\n",
    "resultados = analisis.fit_predict_resultados()"
   ]
  },
  {
   "cell_type": "markdown",
   "metadata": {},
   "source": [
    "+ Mejor núcleo \"rbf\" y mejor parámetro 4"
   ]
  },
  {
   "cell_type": "markdown",
   "metadata": {},
   "source": [
    "## 3. Construya un `DataFrame` que compare el modelo construido arriba con los mejores modelos generados en tareas anteriores para la tabla `potabilidad_v2.csv`. Para esto en cada una de las filas debe aparecer un modelo predictivo y en las columnas aparezcan los índices Precisión Global, Error Global, Precisión Positiva (PP) y Precisión Negativa (PN). ¿Cuál de los modelos es mejor para estos datos? Guarde los datos de este DataFrame, ya que se irá modificando en próximas tareas."
   ]
  },
  {
   "cell_type": "code",
   "execution_count": 56,
   "metadata": {},
   "outputs": [],
   "source": [
    "### SVM\n",
    "\n",
    "resultados.pop(\"Matriz de Confusión\")\n",
    "\n",
    "categorias = resultados[\"Precisión por categoría\"]\n",
    "\n",
    "resultados.pop(\"Precisión por categoría\")\n",
    "\n",
    "categorias = categorias.rename(columns={'No': 'PN', 'Si':\"PP\"},index = {0:'svm'})\n",
    "\n",
    "\n",
    "SVM = pd.concat([pd.DataFrame([resultados], index = ['svm']), categorias], axis=1)"
   ]
  },
  {
   "cell_type": "code",
   "execution_count": 57,
   "metadata": {},
   "outputs": [
    {
     "data": {
      "text/html": [
       "<div>\n",
       "<style scoped>\n",
       "    .dataframe tbody tr th:only-of-type {\n",
       "        vertical-align: middle;\n",
       "    }\n",
       "\n",
       "    .dataframe tbody tr th {\n",
       "        vertical-align: top;\n",
       "    }\n",
       "\n",
       "    .dataframe thead th {\n",
       "        text-align: right;\n",
       "    }\n",
       "</style>\n",
       "<table border=\"1\" class=\"dataframe\">\n",
       "  <thead>\n",
       "    <tr style=\"text-align: right;\">\n",
       "      <th></th>\n",
       "      <th>Precisión Global</th>\n",
       "      <th>Error Global</th>\n",
       "      <th>PN</th>\n",
       "      <th>PP</th>\n",
       "    </tr>\n",
       "  </thead>\n",
       "  <tbody>\n",
       "    <tr>\n",
       "      <th>svm</th>\n",
       "      <td>0.713718</td>\n",
       "      <td>0.286282</td>\n",
       "      <td>0.831715</td>\n",
       "      <td>0.525773</td>\n",
       "    </tr>\n",
       "    <tr>\n",
       "      <th>bosques</th>\n",
       "      <td>0.614314</td>\n",
       "      <td>0.385686</td>\n",
       "      <td>0.750809</td>\n",
       "      <td>0.396907</td>\n",
       "    </tr>\n",
       "    <tr>\n",
       "      <th>ADA</th>\n",
       "      <td>0.654076</td>\n",
       "      <td>0.345924</td>\n",
       "      <td>0.872483</td>\n",
       "      <td>0.336585</td>\n",
       "    </tr>\n",
       "    <tr>\n",
       "      <th>XG Boosting</th>\n",
       "      <td>0.660040</td>\n",
       "      <td>0.339960</td>\n",
       "      <td>0.864078</td>\n",
       "      <td>0.335052</td>\n",
       "    </tr>\n",
       "    <tr>\n",
       "      <th>arboles</th>\n",
       "      <td>0.689861</td>\n",
       "      <td>0.310139</td>\n",
       "      <td>0.851133</td>\n",
       "      <td>0.432990</td>\n",
       "    </tr>\n",
       "    <tr>\n",
       "      <th>KNN</th>\n",
       "      <td>0.644135</td>\n",
       "      <td>0.355865</td>\n",
       "      <td>0.760518</td>\n",
       "      <td>0.458763</td>\n",
       "    </tr>\n",
       "  </tbody>\n",
       "</table>\n",
       "</div>"
      ],
      "text/plain": [
       "             Precisión Global  Error Global        PN        PP\n",
       "svm                  0.713718      0.286282  0.831715  0.525773\n",
       "bosques              0.614314      0.385686  0.750809  0.396907\n",
       "ADA                  0.654076      0.345924  0.872483  0.336585\n",
       "XG Boosting          0.660040      0.339960  0.864078  0.335052\n",
       "arboles              0.689861      0.310139  0.851133  0.432990\n",
       "KNN                  0.644135      0.355865  0.760518  0.458763"
      ]
     },
     "execution_count": 57,
     "metadata": {},
     "output_type": "execute_result"
    }
   ],
   "source": [
    "indices2 = pd.read_csv('tabla_comparativa2.csv',delimiter=',',decimal=\".\",index_col=0)\n",
    "\n",
    "indices = pd.concat([SVM, indices2], axis=0)\n",
    "\n",
    "indices"
   ]
  },
  {
   "cell_type": "code",
   "execution_count": 58,
   "metadata": {},
   "outputs": [],
   "source": [
    "indices.to_csv('tabla_comparativa3.csv', index = True)"
   ]
  },
  {
   "cell_type": "markdown",
   "metadata": {},
   "source": [
    "El mejor de los modelos es `SVM` en cualquiera de los índices."
   ]
  },
  {
   "cell_type": "markdown",
   "metadata": {},
   "source": [
    "# Ejercicio 2: [45 puntos] Este conjunto de datos es originalmente del Instituto Nacional de Diabetes y Enfermedades Digestivas y Renales. El objetivo del conjunto de datos es predecir de forma diagnóstica si un paciente tiene diabetes o no, basándose en determinadas medidas de diagnóstico incluidas en el conjunto de datos.\n",
    "\n",
    "Realice lo siguiente:"
   ]
  },
  {
   "cell_type": "markdown",
   "metadata": {},
   "source": [
    "# 1. Cargue en Python la tabla de datos `diabetes.csv`."
   ]
  },
  {
   "cell_type": "code",
   "execution_count": 166,
   "metadata": {},
   "outputs": [
    {
     "name": "stdout",
     "output_type": "stream",
     "text": [
      "<class 'pandas.core.frame.DataFrame'>\n",
      "Int64Index: 390 entries, 1 to 390\n",
      "Data columns (total 15 columns):\n",
      " #   Column         Non-Null Count  Dtype  \n",
      "---  ------         --------------  -----  \n",
      " 0   colesterol     390 non-null    int64  \n",
      " 1   glucosa        390 non-null    int64  \n",
      " 2   hdl_chol       390 non-null    int64  \n",
      " 3   prop_col_hdl   390 non-null    float64\n",
      " 4   edad           390 non-null    int64  \n",
      " 5   genero         390 non-null    object \n",
      " 6   altura         390 non-null    int64  \n",
      " 7   peso           390 non-null    int64  \n",
      " 8   IMC            390 non-null    float64\n",
      " 9   ps_sistolica   390 non-null    int64  \n",
      " 10  ps_diastolica  390 non-null    int64  \n",
      " 11  cintura        390 non-null    int64  \n",
      " 12  caderas        390 non-null    int64  \n",
      " 13  prop_cin_cad   390 non-null    float64\n",
      " 14  diabetes       390 non-null    object \n",
      "dtypes: float64(3), int64(10), object(2)\n",
      "memory usage: 48.8+ KB\n",
      "None \n",
      "\n",
      "(390, 15)\n"
     ]
    }
   ],
   "source": [
    "datos = pd.read_csv('../datos/diabetes_V2.csv',delimiter=',',decimal=\".\",index_col=0)\n",
    "print(datos.info(), \"\\n\")\n",
    "print(datos.shape)\n",
    "\n",
    "# Convierte las variables de object a categórica\n",
    "datos['genero'] = datos['genero'].astype('category')\n",
    "\n",
    "#Convertimos a Dummy algunas de las variables predictoras\n",
    "datos = pd.get_dummies(datos,columns=[\"genero\"])"
   ]
  },
  {
   "cell_type": "markdown",
   "metadata": {},
   "source": [
    "# 2. Use Máquinas de Soporte Vectorial en Python (con los parámetros por defecto) para generar un modelo predictivo para la tabla `diabetes.csv` usando el 75% de los datos para la tabla aprendizaje y un 25% para la tabla testing, luego calcule para los datos de testing la matriz de confusión, la precisión global y la precisión para cada una de las dos categorías. ¿Son buenos los resultados? Explique."
   ]
  },
  {
   "cell_type": "code",
   "execution_count": 168,
   "metadata": {},
   "outputs": [
    {
     "name": "stdout",
     "output_type": "stream",
     "text": [
      "\n",
      "Matriz de Confusión:\n",
      "[[ 9 11]\n",
      " [ 0 78]]\n",
      "\n",
      "Precisión Global:\n",
      "0.8877551020408163\n",
      "\n",
      "Error Global:\n",
      "0.11224489795918369\n",
      "\n",
      "Precisión por categoría:\n",
      "   Diabetes  No diabetes\n",
      "0      0.45          1.0\n"
     ]
    }
   ],
   "source": [
    "instancia_svm = SVC(random_state = 0)\n",
    "\n",
    "analisis = Analisis_Predictivo(datos,predecir= \"diabetes\",modelo=instancia_svm, train_size= 0.75, random_state = 0)\n",
    "\n",
    "resultados = analisis.fit_predict_resultados()\n"
   ]
  },
  {
   "cell_type": "markdown",
   "metadata": {},
   "source": [
    "+ Aunque la precisión global es buena no predice bien para la variable `diabetes` que es la de interés, por lo tanto no son buenos resultados."
   ]
  },
  {
   "cell_type": "markdown",
   "metadata": {},
   "source": [
    "## 3. Repita el ítem anterior pero intente identificar el mejor núcleo(kernel) y valor para el parámetro de regularización C. ¿Mejora la predicción?"
   ]
  },
  {
   "cell_type": "code",
   "execution_count": 169,
   "metadata": {},
   "outputs": [
    {
     "name": "stdout",
     "output_type": "stream",
     "text": [
      "\n",
      "Matriz de Confusión:\n",
      "[[12  8]\n",
      " [ 1 77]]\n",
      "\n",
      "Precisión Global:\n",
      "0.9081632653061225\n",
      "\n",
      "Error Global:\n",
      "0.09183673469387754\n",
      "\n",
      "Precisión por categoría:\n",
      "   Diabetes  No diabetes\n",
      "0       0.6     0.987179\n"
     ]
    }
   ],
   "source": [
    "instancia_svm = SVC(kernel=\"rbf\", degree = 3, random_state = 0, C = 7)\n",
    "\n",
    "analisis = Analisis_Predictivo(datos,predecir= \"diabetes\",modelo=instancia_svm, train_size= 0.75, random_state = 0)\n",
    "\n",
    "resultados = analisis.fit_predict_resultados()"
   ]
  },
  {
   "cell_type": "markdown",
   "metadata": {},
   "source": [
    "+ Sí mejora bastante."
   ]
  },
  {
   "cell_type": "markdown",
   "metadata": {},
   "source": [
    "## 4. Con los mejores parámetros identificados en el ítem anterior realice un nuevo modelo pero haciendo selección de 6 variables. ¿Mejoran los resultados?"
   ]
  },
  {
   "cell_type": "code",
   "execution_count": 170,
   "metadata": {},
   "outputs": [
    {
     "name": "stdout",
     "output_type": "stream",
     "text": [
      "\n",
      "Matriz de Confusión:\n",
      "[[10 10]\n",
      " [ 0 78]]\n",
      "\n",
      "Precisión Global:\n",
      "0.8979591836734694\n",
      "\n",
      "Error Global:\n",
      "0.10204081632653061\n",
      "\n",
      "Precisión por categoría:\n",
      "   Diabetes  No diabetes\n",
      "0       0.5          1.0\n"
     ]
    }
   ],
   "source": [
    "datos1 = datos[[\"glucosa\",\"edad\",\"prop_col_hdl\",\"colesterol\",\"peso\",\"hdl_chol\",\"diabetes\"]]\n",
    "\n",
    "instancia_svm = SVC(kernel=\"rbf\", degree = 3, random_state = 0, C = 7)\n",
    "\n",
    "analisis = Analisis_Predictivo(datos1,predecir= \"diabetes\",modelo=instancia_svm, train_size= 0.75, random_state = 0)\n",
    "\n",
    "resultados1 = analisis.fit_predict_resultados()"
   ]
  },
  {
   "cell_type": "markdown",
   "metadata": {},
   "source": [
    "+ En lugar de mejorar, empeoran"
   ]
  },
  {
   "cell_type": "markdown",
   "metadata": {},
   "source": [
    "## 5. Construya un `DataFrame` que compare el mejor modelo construido arriba con los mejores modelos generados en tareas anteriores para la tabla `diabetes.csv`. Para esto en cada una de las filas debe aparecer un modelo predictivo y en las columnas aparezcan los índices Precisión Global, Error Global, Precisión Positiva (PP) y Precisión Negativa (PN). ¿Cuál de los modelos es mejor para estos datos? Guarde los datos de este DataFrame, ya que se irá modificando en próximas tareas.\n"
   ]
  },
  {
   "cell_type": "code",
   "execution_count": 171,
   "metadata": {},
   "outputs": [],
   "source": [
    "### SVM\n",
    "\n",
    "resultados.pop(\"Matriz de Confusión\")\n",
    "\n",
    "categorias = resultados[\"Precisión por categoría\"]\n",
    "\n",
    "resultados.pop(\"Precisión por categoría\")\n",
    "\n",
    "categorias = categorias.rename(columns={'No diabetes': 'PN', 'diabetes':\"PP\"},index = {0:'svm'})\n",
    "\n",
    "\n",
    "SVM = pd.concat([pd.DataFrame([resultados], index = ['svm']), categorias], axis=1)"
   ]
  },
  {
   "cell_type": "code",
   "execution_count": 172,
   "metadata": {},
   "outputs": [
    {
     "data": {
      "text/html": [
       "<div>\n",
       "<style scoped>\n",
       "    .dataframe tbody tr th:only-of-type {\n",
       "        vertical-align: middle;\n",
       "    }\n",
       "\n",
       "    .dataframe tbody tr th {\n",
       "        vertical-align: top;\n",
       "    }\n",
       "\n",
       "    .dataframe thead th {\n",
       "        text-align: right;\n",
       "    }\n",
       "</style>\n",
       "<table border=\"1\" class=\"dataframe\">\n",
       "  <thead>\n",
       "    <tr style=\"text-align: right;\">\n",
       "      <th></th>\n",
       "      <th>Precisión Global</th>\n",
       "      <th>Error Global</th>\n",
       "      <th>Diabetes</th>\n",
       "      <th>PN</th>\n",
       "    </tr>\n",
       "  </thead>\n",
       "  <tbody>\n",
       "    <tr>\n",
       "      <th>svm</th>\n",
       "      <td>0.908163</td>\n",
       "      <td>0.091837</td>\n",
       "      <td>0.600000</td>\n",
       "      <td>0.987179</td>\n",
       "    </tr>\n",
       "    <tr>\n",
       "      <th>bosques</th>\n",
       "      <td>0.877551</td>\n",
       "      <td>0.122449</td>\n",
       "      <td>0.450000</td>\n",
       "      <td>0.987179</td>\n",
       "    </tr>\n",
       "    <tr>\n",
       "      <th>ADA</th>\n",
       "      <td>0.948980</td>\n",
       "      <td>0.051020</td>\n",
       "      <td>0.666667</td>\n",
       "      <td>1.000000</td>\n",
       "    </tr>\n",
       "    <tr>\n",
       "      <th>XG Boosting</th>\n",
       "      <td>0.867347</td>\n",
       "      <td>0.132653</td>\n",
       "      <td>0.550000</td>\n",
       "      <td>0.948718</td>\n",
       "    </tr>\n",
       "    <tr>\n",
       "      <th>arboles</th>\n",
       "      <td>0.887755</td>\n",
       "      <td>0.112245</td>\n",
       "      <td>0.600000</td>\n",
       "      <td>0.961538</td>\n",
       "    </tr>\n",
       "    <tr>\n",
       "      <th>KNN</th>\n",
       "      <td>0.877551</td>\n",
       "      <td>0.122449</td>\n",
       "      <td>0.650000</td>\n",
       "      <td>0.935897</td>\n",
       "    </tr>\n",
       "  </tbody>\n",
       "</table>\n",
       "</div>"
      ],
      "text/plain": [
       "             Precisión Global  Error Global  Diabetes        PN\n",
       "svm                  0.908163      0.091837  0.600000  0.987179\n",
       "bosques              0.877551      0.122449  0.450000  0.987179\n",
       "ADA                  0.948980      0.051020  0.666667  1.000000\n",
       "XG Boosting          0.867347      0.132653  0.550000  0.948718\n",
       "arboles              0.887755      0.112245  0.600000  0.961538\n",
       "KNN                  0.877551      0.122449  0.650000  0.935897"
      ]
     },
     "execution_count": 172,
     "metadata": {},
     "output_type": "execute_result"
    }
   ],
   "source": [
    "indices2 = pd.read_csv('tabla_comparativa2.2.csv',delimiter=',',decimal=\".\",index_col=0)\n",
    "\n",
    "indices = pd.concat([SVM, indices2], axis=0)\n",
    "\n",
    "indices"
   ]
  },
  {
   "cell_type": "code",
   "execution_count": 173,
   "metadata": {},
   "outputs": [],
   "source": [
    "indices.to_csv('tabla_comparativa2.3.csv', index = True)"
   ]
  },
  {
   "cell_type": "markdown",
   "metadata": {},
   "source": [
    "## 6. Utilizando el mejor modelo construido prediga los nuevos individuos que se encuentran en el archivo `nuevos_individuos_diabetes.csv`. Recuerde que si estandarizó los datos para entrenar el modelo debe guardar valores como la media y desviación estándar para estandarizar los nuevos individuos."
   ]
  },
  {
   "cell_type": "code",
   "execution_count": 182,
   "metadata": {},
   "outputs": [],
   "source": [
    "#elimino variable a predecir\n",
    "datos1 = datos.drop(['diabetes'], axis=1)"
   ]
  },
  {
   "cell_type": "code",
   "execution_count": 183,
   "metadata": {},
   "outputs": [],
   "source": [
    "y_train = datos.iloc[:,13]"
   ]
  },
  {
   "cell_type": "code",
   "execution_count": 184,
   "metadata": {},
   "outputs": [
    {
     "name": "stdout",
     "output_type": "stream",
     "text": [
      "Desviaciones estándar\n",
      " colesterol       44.608704\n",
      "glucosa          53.729172\n",
      "hdl_chol         17.256902\n",
      "prop_col_hdl      1.734406\n",
      "edad             16.414826\n",
      "altura            3.913839\n",
      "peso             40.355986\n",
      "IMC               6.592447\n",
      "ps_sistolica     22.830202\n",
      "ps_diastolica    13.480875\n",
      "cintura           5.753556\n",
      "caderas           5.657076\n",
      "prop_cin_cad      0.073118\n",
      "genero_female     0.492788\n",
      "genero_male       0.492788\n",
      "dtype: float64 \n",
      "\n",
      "Medias\n",
      " colesterol       207.230769\n",
      "glucosa          107.338462\n",
      "hdl_chol          50.266667\n",
      "prop_col_hdl       4.524615\n",
      "edad              46.774359\n",
      "altura            65.951282\n",
      "peso             177.407692\n",
      "IMC               28.775641\n",
      "ps_sistolica     137.133333\n",
      "ps_diastolica     83.289744\n",
      "cintura           37.869231\n",
      "caderas           42.992308\n",
      "prop_cin_cad       0.881385\n",
      "genero_female      0.584615\n",
      "genero_male        0.415385\n",
      "dtype: float64 \n",
      "\n"
     ]
    }
   ],
   "source": [
    "#Desviación estándar poblacional\n",
    "desviaciones = datos1.std(ddof= 0)\n",
    "print(\"Desviaciones estándar\\n\", desviaciones, \"\\n\")\n",
    "\n",
    "#Medias\n",
    "medias = datos1.mean()\n",
    "print(\"Medias\\n\", medias, \"\\n\")"
   ]
  },
  {
   "cell_type": "code",
   "execution_count": 185,
   "metadata": {},
   "outputs": [
    {
     "data": {
      "text/html": [
       "<div>\n",
       "<style scoped>\n",
       "    .dataframe tbody tr th:only-of-type {\n",
       "        vertical-align: middle;\n",
       "    }\n",
       "\n",
       "    .dataframe tbody tr th {\n",
       "        vertical-align: top;\n",
       "    }\n",
       "\n",
       "    .dataframe thead th {\n",
       "        text-align: right;\n",
       "    }\n",
       "</style>\n",
       "<table border=\"1\" class=\"dataframe\">\n",
       "  <thead>\n",
       "    <tr style=\"text-align: right;\">\n",
       "      <th></th>\n",
       "      <th>colesterol</th>\n",
       "      <th>glucosa</th>\n",
       "      <th>hdl_chol</th>\n",
       "      <th>prop_col_hdl</th>\n",
       "      <th>edad</th>\n",
       "      <th>altura</th>\n",
       "      <th>peso</th>\n",
       "      <th>IMC</th>\n",
       "      <th>ps_sistolica</th>\n",
       "      <th>ps_diastolica</th>\n",
       "      <th>cintura</th>\n",
       "      <th>caderas</th>\n",
       "      <th>prop_cin_cad</th>\n",
       "      <th>genero_female</th>\n",
       "      <th>genero_male</th>\n",
       "    </tr>\n",
       "  </thead>\n",
       "  <tbody>\n",
       "    <tr>\n",
       "      <th>0</th>\n",
       "      <td>-0.319013</td>\n",
       "      <td>-0.564655</td>\n",
       "      <td>-0.073401</td>\n",
       "      <td>-0.360132</td>\n",
       "      <td>-1.692029</td>\n",
       "      <td>-1.265070</td>\n",
       "      <td>-1.447312</td>\n",
       "      <td>-0.951944</td>\n",
       "      <td>-0.838071</td>\n",
       "      <td>-0.985822</td>\n",
       "      <td>-1.020105</td>\n",
       "      <td>-0.882489</td>\n",
       "      <td>-0.565995</td>\n",
       "      <td>0.842927</td>\n",
       "      <td>-0.842927</td>\n",
       "    </tr>\n",
       "    <tr>\n",
       "      <th>1</th>\n",
       "      <td>-1.372619</td>\n",
       "      <td>-0.527432</td>\n",
       "      <td>-0.536983</td>\n",
       "      <td>-0.533102</td>\n",
       "      <td>-1.692029</td>\n",
       "      <td>-1.520574</td>\n",
       "      <td>-1.050840</td>\n",
       "      <td>-0.360358</td>\n",
       "      <td>-1.276087</td>\n",
       "      <td>-1.875972</td>\n",
       "      <td>-0.846299</td>\n",
       "      <td>-0.528950</td>\n",
       "      <td>-0.702760</td>\n",
       "      <td>0.842927</td>\n",
       "      <td>-0.842927</td>\n",
       "    </tr>\n",
       "    <tr>\n",
       "      <th>2</th>\n",
       "      <td>0.218998</td>\n",
       "      <td>-0.601879</td>\n",
       "      <td>0.216339</td>\n",
       "      <td>-0.302476</td>\n",
       "      <td>-1.631108</td>\n",
       "      <td>0.267951</td>\n",
       "      <td>0.237692</td>\n",
       "      <td>0.079539</td>\n",
       "      <td>-1.188484</td>\n",
       "      <td>-0.837464</td>\n",
       "      <td>0.370339</td>\n",
       "      <td>0.354899</td>\n",
       "      <td>0.117828</td>\n",
       "      <td>0.842927</td>\n",
       "      <td>-0.842927</td>\n",
       "    </tr>\n",
       "    <tr>\n",
       "      <th>3</th>\n",
       "      <td>0.420753</td>\n",
       "      <td>-0.192418</td>\n",
       "      <td>1.143504</td>\n",
       "      <td>-0.763729</td>\n",
       "      <td>-1.631108</td>\n",
       "      <td>-0.498560</td>\n",
       "      <td>-1.571209</td>\n",
       "      <td>-1.391841</td>\n",
       "      <td>-0.662865</td>\n",
       "      <td>-1.430897</td>\n",
       "      <td>-1.193910</td>\n",
       "      <td>-0.705719</td>\n",
       "      <td>-1.249818</td>\n",
       "      <td>0.842927</td>\n",
       "      <td>-0.842927</td>\n",
       "    </tr>\n",
       "    <tr>\n",
       "      <th>4</th>\n",
       "      <td>-0.969111</td>\n",
       "      <td>-0.304089</td>\n",
       "      <td>0.969660</td>\n",
       "      <td>-1.224982</td>\n",
       "      <td>-1.631108</td>\n",
       "      <td>1.034462</td>\n",
       "      <td>-0.902163</td>\n",
       "      <td>-1.300828</td>\n",
       "      <td>-0.662865</td>\n",
       "      <td>0.201045</td>\n",
       "      <td>-1.020105</td>\n",
       "      <td>-0.705719</td>\n",
       "      <td>-0.839524</td>\n",
       "      <td>0.842927</td>\n",
       "      <td>-0.842927</td>\n",
       "    </tr>\n",
       "    <tr>\n",
       "      <th>...</th>\n",
       "      <td>...</td>\n",
       "      <td>...</td>\n",
       "      <td>...</td>\n",
       "      <td>...</td>\n",
       "      <td>...</td>\n",
       "      <td>...</td>\n",
       "      <td>...</td>\n",
       "      <td>...</td>\n",
       "      <td>...</td>\n",
       "      <td>...</td>\n",
       "      <td>...</td>\n",
       "      <td>...</td>\n",
       "      <td>...</td>\n",
       "      <td>...</td>\n",
       "      <td>...</td>\n",
       "    </tr>\n",
       "    <tr>\n",
       "      <th>385</th>\n",
       "      <td>0.443170</td>\n",
       "      <td>-0.043523</td>\n",
       "      <td>-0.363140</td>\n",
       "      <td>0.389404</td>\n",
       "      <td>2.206885</td>\n",
       "      <td>-1.776077</td>\n",
       "      <td>-1.298635</td>\n",
       "      <td>-0.542385</td>\n",
       "      <td>0.563581</td>\n",
       "      <td>0.497761</td>\n",
       "      <td>-0.498688</td>\n",
       "      <td>-0.528950</td>\n",
       "      <td>-0.018937</td>\n",
       "      <td>0.842927</td>\n",
       "      <td>-0.842927</td>\n",
       "    </tr>\n",
       "    <tr>\n",
       "      <th>386</th>\n",
       "      <td>0.420753</td>\n",
       "      <td>3.194941</td>\n",
       "      <td>0.100443</td>\n",
       "      <td>-0.129506</td>\n",
       "      <td>2.267806</td>\n",
       "      <td>-1.520574</td>\n",
       "      <td>0.361590</td>\n",
       "      <td>1.323387</td>\n",
       "      <td>0.300771</td>\n",
       "      <td>0.349403</td>\n",
       "      <td>0.544145</td>\n",
       "      <td>0.885209</td>\n",
       "      <td>-0.429231</td>\n",
       "      <td>0.842927</td>\n",
       "      <td>-0.842927</td>\n",
       "    </tr>\n",
       "    <tr>\n",
       "      <th>387</th>\n",
       "      <td>2.102039</td>\n",
       "      <td>-0.322701</td>\n",
       "      <td>3.924999</td>\n",
       "      <td>-1.109668</td>\n",
       "      <td>2.572409</td>\n",
       "      <td>-1.265070</td>\n",
       "      <td>-1.546430</td>\n",
       "      <td>-1.073295</td>\n",
       "      <td>3.542092</td>\n",
       "      <td>0.497761</td>\n",
       "      <td>-1.193910</td>\n",
       "      <td>-0.352180</td>\n",
       "      <td>-1.660112</td>\n",
       "      <td>0.842927</td>\n",
       "      <td>-0.842927</td>\n",
       "    </tr>\n",
       "    <tr>\n",
       "      <th>388</th>\n",
       "      <td>0.555256</td>\n",
       "      <td>1.426814</td>\n",
       "      <td>3.693208</td>\n",
       "      <td>-1.455608</td>\n",
       "      <td>2.694250</td>\n",
       "      <td>-1.265070</td>\n",
       "      <td>-1.249076</td>\n",
       "      <td>-0.724411</td>\n",
       "      <td>1.439613</td>\n",
       "      <td>-0.095672</td>\n",
       "      <td>-0.498688</td>\n",
       "      <td>-0.882489</td>\n",
       "      <td>0.528122</td>\n",
       "      <td>0.842927</td>\n",
       "      <td>-0.842927</td>\n",
       "    </tr>\n",
       "    <tr>\n",
       "      <th>389</th>\n",
       "      <td>-0.946693</td>\n",
       "      <td>-0.248254</td>\n",
       "      <td>1.085556</td>\n",
       "      <td>-1.224982</td>\n",
       "      <td>2.755170</td>\n",
       "      <td>-1.009567</td>\n",
       "      <td>0.981076</td>\n",
       "      <td>1.657102</td>\n",
       "      <td>1.001597</td>\n",
       "      <td>-0.095672</td>\n",
       "      <td>2.282200</td>\n",
       "      <td>1.415518</td>\n",
       "      <td>1.622239</td>\n",
       "      <td>0.842927</td>\n",
       "      <td>-0.842927</td>\n",
       "    </tr>\n",
       "  </tbody>\n",
       "</table>\n",
       "<p>390 rows × 15 columns</p>\n",
       "</div>"
      ],
      "text/plain": [
       "     colesterol   glucosa  hdl_chol  prop_col_hdl      edad    altura  \\\n",
       "0     -0.319013 -0.564655 -0.073401     -0.360132 -1.692029 -1.265070   \n",
       "1     -1.372619 -0.527432 -0.536983     -0.533102 -1.692029 -1.520574   \n",
       "2      0.218998 -0.601879  0.216339     -0.302476 -1.631108  0.267951   \n",
       "3      0.420753 -0.192418  1.143504     -0.763729 -1.631108 -0.498560   \n",
       "4     -0.969111 -0.304089  0.969660     -1.224982 -1.631108  1.034462   \n",
       "..          ...       ...       ...           ...       ...       ...   \n",
       "385    0.443170 -0.043523 -0.363140      0.389404  2.206885 -1.776077   \n",
       "386    0.420753  3.194941  0.100443     -0.129506  2.267806 -1.520574   \n",
       "387    2.102039 -0.322701  3.924999     -1.109668  2.572409 -1.265070   \n",
       "388    0.555256  1.426814  3.693208     -1.455608  2.694250 -1.265070   \n",
       "389   -0.946693 -0.248254  1.085556     -1.224982  2.755170 -1.009567   \n",
       "\n",
       "         peso       IMC  ps_sistolica  ps_diastolica   cintura   caderas  \\\n",
       "0   -1.447312 -0.951944     -0.838071      -0.985822 -1.020105 -0.882489   \n",
       "1   -1.050840 -0.360358     -1.276087      -1.875972 -0.846299 -0.528950   \n",
       "2    0.237692  0.079539     -1.188484      -0.837464  0.370339  0.354899   \n",
       "3   -1.571209 -1.391841     -0.662865      -1.430897 -1.193910 -0.705719   \n",
       "4   -0.902163 -1.300828     -0.662865       0.201045 -1.020105 -0.705719   \n",
       "..        ...       ...           ...            ...       ...       ...   \n",
       "385 -1.298635 -0.542385      0.563581       0.497761 -0.498688 -0.528950   \n",
       "386  0.361590  1.323387      0.300771       0.349403  0.544145  0.885209   \n",
       "387 -1.546430 -1.073295      3.542092       0.497761 -1.193910 -0.352180   \n",
       "388 -1.249076 -0.724411      1.439613      -0.095672 -0.498688 -0.882489   \n",
       "389  0.981076  1.657102      1.001597      -0.095672  2.282200  1.415518   \n",
       "\n",
       "     prop_cin_cad  genero_female  genero_male  \n",
       "0       -0.565995       0.842927    -0.842927  \n",
       "1       -0.702760       0.842927    -0.842927  \n",
       "2        0.117828       0.842927    -0.842927  \n",
       "3       -1.249818       0.842927    -0.842927  \n",
       "4       -0.839524       0.842927    -0.842927  \n",
       "..            ...            ...          ...  \n",
       "385     -0.018937       0.842927    -0.842927  \n",
       "386     -0.429231       0.842927    -0.842927  \n",
       "387     -1.660112       0.842927    -0.842927  \n",
       "388      0.528122       0.842927    -0.842927  \n",
       "389      1.622239       0.842927    -0.842927  \n",
       "\n",
       "[390 rows x 15 columns]"
      ]
     },
     "execution_count": 185,
     "metadata": {},
     "output_type": "execute_result"
    }
   ],
   "source": [
    "estandarizador = StandardScaler()\n",
    "\n",
    "\n",
    "datos2 = datos1.copy()\n",
    "\n",
    "datos2 = pd.DataFrame(estandarizador.fit_transform(datos2), columns= datos1.columns)\n",
    "datos2"
   ]
  },
  {
   "cell_type": "code",
   "execution_count": 201,
   "metadata": {},
   "outputs": [],
   "source": [
    "datos_nuevos = pd.read_csv('../datos/nuevos_individuos_diabetes.csv',delimiter=',',decimal=\".\",index_col=0)\n",
    "\n",
    "\n",
    "\n",
    "# Convierte las variables de object a categórica\n",
    "datos_nuevos['genero'] = datos_nuevos['genero'].astype('category')\n",
    "\n",
    "#Convertimos a Dummy algunas de las variables predictoras\n",
    "datos_nuevos = pd.get_dummies(datos_nuevos,columns=[\"genero\"])\n",
    "\n",
    "#elimino variable a predecir\n",
    "datos_nuevos1 = datos_nuevos.drop(['diabetes'], axis=1)\n"
   ]
  },
  {
   "cell_type": "code",
   "execution_count": 202,
   "metadata": {},
   "outputs": [],
   "source": [
    "y_test = datos_nuevos.iloc[:,13]"
   ]
  },
  {
   "cell_type": "code",
   "execution_count": 203,
   "metadata": {},
   "outputs": [
    {
     "data": {
      "text/html": [
       "<div>\n",
       "<style scoped>\n",
       "    .dataframe tbody tr th:only-of-type {\n",
       "        vertical-align: middle;\n",
       "    }\n",
       "\n",
       "    .dataframe tbody tr th {\n",
       "        vertical-align: top;\n",
       "    }\n",
       "\n",
       "    .dataframe thead th {\n",
       "        text-align: right;\n",
       "    }\n",
       "</style>\n",
       "<table border=\"1\" class=\"dataframe\">\n",
       "  <thead>\n",
       "    <tr style=\"text-align: right;\">\n",
       "      <th></th>\n",
       "      <th>colesterol</th>\n",
       "      <th>glucosa</th>\n",
       "      <th>hdl_chol</th>\n",
       "      <th>prop_col_hdl</th>\n",
       "      <th>edad</th>\n",
       "      <th>altura</th>\n",
       "      <th>peso</th>\n",
       "      <th>IMC</th>\n",
       "      <th>ps_sistolica</th>\n",
       "      <th>ps_diastolica</th>\n",
       "      <th>cintura</th>\n",
       "      <th>caderas</th>\n",
       "      <th>prop_cin_cad</th>\n",
       "      <th>genero_female</th>\n",
       "      <th>genero_male</th>\n",
       "    </tr>\n",
       "  </thead>\n",
       "  <tbody>\n",
       "    <tr>\n",
       "      <th>0</th>\n",
       "      <td>-0.319013</td>\n",
       "      <td>2.617973</td>\n",
       "      <td>-1.522096</td>\n",
       "      <td>2.003790</td>\n",
       "      <td>0.744793</td>\n",
       "      <td>0.012448</td>\n",
       "      <td>0.287251</td>\n",
       "      <td>0.261566</td>\n",
       "      <td>0.125565</td>\n",
       "      <td>0.497761</td>\n",
       "      <td>0.022728</td>\n",
       "      <td>0.354899</td>\n",
       "      <td>-0.565995</td>\n",
       "      <td>0.842927</td>\n",
       "      <td>-0.842927</td>\n",
       "    </tr>\n",
       "    <tr>\n",
       "      <th>1</th>\n",
       "      <td>-0.274179</td>\n",
       "      <td>0.012312</td>\n",
       "      <td>-0.247244</td>\n",
       "      <td>-0.187162</td>\n",
       "      <td>0.744793</td>\n",
       "      <td>0.267951</td>\n",
       "      <td>-0.134000</td>\n",
       "      <td>-0.284514</td>\n",
       "      <td>0.563581</td>\n",
       "      <td>1.387911</td>\n",
       "      <td>0.022728</td>\n",
       "      <td>0.001360</td>\n",
       "      <td>-0.018937</td>\n",
       "      <td>0.842927</td>\n",
       "      <td>-0.842927</td>\n",
       "    </tr>\n",
       "    <tr>\n",
       "      <th>2</th>\n",
       "      <td>0.263833</td>\n",
       "      <td>0.086760</td>\n",
       "      <td>1.317347</td>\n",
       "      <td>-0.879042</td>\n",
       "      <td>0.744793</td>\n",
       "      <td>0.012448</td>\n",
       "      <td>-0.183559</td>\n",
       "      <td>-0.208669</td>\n",
       "      <td>0.388374</td>\n",
       "      <td>0.646120</td>\n",
       "      <td>-0.151077</td>\n",
       "      <td>-0.528950</td>\n",
       "      <td>0.664887</td>\n",
       "      <td>-1.186342</td>\n",
       "      <td>1.186342</td>\n",
       "    </tr>\n",
       "    <tr>\n",
       "      <th>3</th>\n",
       "      <td>1.833033</td>\n",
       "      <td>2.971599</td>\n",
       "      <td>-0.710827</td>\n",
       "      <td>1.773163</td>\n",
       "      <td>0.744793</td>\n",
       "      <td>0.523455</td>\n",
       "      <td>-0.208338</td>\n",
       "      <td>-0.466540</td>\n",
       "      <td>0.213168</td>\n",
       "      <td>-0.318210</td>\n",
       "      <td>-0.324883</td>\n",
       "      <td>-0.882489</td>\n",
       "      <td>0.938416</td>\n",
       "      <td>-1.186342</td>\n",
       "      <td>1.186342</td>\n",
       "    </tr>\n",
       "    <tr>\n",
       "      <th>4</th>\n",
       "      <td>0.622507</td>\n",
       "      <td>-0.099359</td>\n",
       "      <td>-0.479035</td>\n",
       "      <td>0.620031</td>\n",
       "      <td>0.805713</td>\n",
       "      <td>0.778958</td>\n",
       "      <td>0.212913</td>\n",
       "      <td>-0.193500</td>\n",
       "      <td>0.475978</td>\n",
       "      <td>1.091194</td>\n",
       "      <td>0.370339</td>\n",
       "      <td>-0.175410</td>\n",
       "      <td>0.938416</td>\n",
       "      <td>-1.186342</td>\n",
       "      <td>1.186342</td>\n",
       "    </tr>\n",
       "    <tr>\n",
       "      <th>5</th>\n",
       "      <td>1.564027</td>\n",
       "      <td>0.217043</td>\n",
       "      <td>0.679921</td>\n",
       "      <td>-0.014192</td>\n",
       "      <td>0.805713</td>\n",
       "      <td>-1.265070</td>\n",
       "      <td>-1.224297</td>\n",
       "      <td>-0.694073</td>\n",
       "      <td>0.125565</td>\n",
       "      <td>0.201045</td>\n",
       "      <td>-0.846299</td>\n",
       "      <td>-0.705719</td>\n",
       "      <td>-0.429231</td>\n",
       "      <td>0.842927</td>\n",
       "      <td>-0.842927</td>\n",
       "    </tr>\n",
       "    <tr>\n",
       "      <th>6</th>\n",
       "      <td>-1.013945</td>\n",
       "      <td>-0.322701</td>\n",
       "      <td>-0.247244</td>\n",
       "      <td>-0.590759</td>\n",
       "      <td>0.805713</td>\n",
       "      <td>-0.754063</td>\n",
       "      <td>-1.397753</td>\n",
       "      <td>-1.118802</td>\n",
       "      <td>-1.188484</td>\n",
       "      <td>-1.430897</td>\n",
       "      <td>-1.020105</td>\n",
       "      <td>-1.589568</td>\n",
       "      <td>0.801651</td>\n",
       "      <td>0.842927</td>\n",
       "      <td>-0.842927</td>\n",
       "    </tr>\n",
       "    <tr>\n",
       "      <th>7</th>\n",
       "      <td>2.483130</td>\n",
       "      <td>3.027434</td>\n",
       "      <td>3.345521</td>\n",
       "      <td>-0.936699</td>\n",
       "      <td>0.805713</td>\n",
       "      <td>-0.243056</td>\n",
       "      <td>-0.257897</td>\n",
       "      <td>-0.147994</td>\n",
       "      <td>-0.224848</td>\n",
       "      <td>-0.837464</td>\n",
       "      <td>0.022728</td>\n",
       "      <td>0.178130</td>\n",
       "      <td>-0.292466</td>\n",
       "      <td>0.842927</td>\n",
       "      <td>-0.842927</td>\n",
       "    </tr>\n",
       "    <tr>\n",
       "      <th>8</th>\n",
       "      <td>1.608862</td>\n",
       "      <td>3.027434</td>\n",
       "      <td>-0.594931</td>\n",
       "      <td>1.427223</td>\n",
       "      <td>0.805713</td>\n",
       "      <td>0.523455</td>\n",
       "      <td>1.154533</td>\n",
       "      <td>0.807645</td>\n",
       "      <td>1.614820</td>\n",
       "      <td>0.497761</td>\n",
       "      <td>1.760784</td>\n",
       "      <td>1.238748</td>\n",
       "      <td>1.075180</td>\n",
       "      <td>0.842927</td>\n",
       "      <td>-0.842927</td>\n",
       "    </tr>\n",
       "    <tr>\n",
       "      <th>9</th>\n",
       "      <td>-1.776128</td>\n",
       "      <td>2.152677</td>\n",
       "      <td>-1.522096</td>\n",
       "      <td>0.447061</td>\n",
       "      <td>0.805713</td>\n",
       "      <td>0.267951</td>\n",
       "      <td>0.460708</td>\n",
       "      <td>0.291904</td>\n",
       "      <td>-1.188484</td>\n",
       "      <td>-1.134180</td>\n",
       "      <td>0.717951</td>\n",
       "      <td>0.001360</td>\n",
       "      <td>1.348710</td>\n",
       "      <td>-1.186342</td>\n",
       "      <td>1.186342</td>\n",
       "    </tr>\n",
       "    <tr>\n",
       "      <th>10</th>\n",
       "      <td>-0.094842</td>\n",
       "      <td>-0.322701</td>\n",
       "      <td>0.042495</td>\n",
       "      <td>-0.302476</td>\n",
       "      <td>0.805713</td>\n",
       "      <td>-1.776077</td>\n",
       "      <td>-1.348194</td>\n",
       "      <td>-0.603060</td>\n",
       "      <td>-0.312452</td>\n",
       "      <td>-0.837464</td>\n",
       "      <td>-0.324883</td>\n",
       "      <td>-0.352180</td>\n",
       "      <td>-0.018937</td>\n",
       "      <td>0.842927</td>\n",
       "      <td>-0.842927</td>\n",
       "    </tr>\n",
       "    <tr>\n",
       "      <th>11</th>\n",
       "      <td>-1.439871</td>\n",
       "      <td>-0.304089</td>\n",
       "      <td>-0.768775</td>\n",
       "      <td>-0.360132</td>\n",
       "      <td>0.866634</td>\n",
       "      <td>-0.243056</td>\n",
       "      <td>1.055415</td>\n",
       "      <td>1.186867</td>\n",
       "      <td>1.001597</td>\n",
       "      <td>0.646120</td>\n",
       "      <td>0.370339</td>\n",
       "      <td>1.238748</td>\n",
       "      <td>-1.113054</td>\n",
       "      <td>0.842927</td>\n",
       "      <td>-0.842927</td>\n",
       "    </tr>\n",
       "    <tr>\n",
       "      <th>12</th>\n",
       "      <td>2.079622</td>\n",
       "      <td>-0.080747</td>\n",
       "      <td>-0.363140</td>\n",
       "      <td>1.311910</td>\n",
       "      <td>0.866634</td>\n",
       "      <td>0.267951</td>\n",
       "      <td>-0.208338</td>\n",
       "      <td>-0.345189</td>\n",
       "      <td>0.037961</td>\n",
       "      <td>-0.392389</td>\n",
       "      <td>0.370339</td>\n",
       "      <td>0.178130</td>\n",
       "      <td>0.391357</td>\n",
       "      <td>0.842927</td>\n",
       "      <td>-0.842927</td>\n",
       "    </tr>\n",
       "    <tr>\n",
       "      <th>13</th>\n",
       "      <td>0.084495</td>\n",
       "      <td>2.189900</td>\n",
       "      <td>-1.232357</td>\n",
       "      <td>1.600193</td>\n",
       "      <td>0.866634</td>\n",
       "      <td>-0.754063</td>\n",
       "      <td>-0.827825</td>\n",
       "      <td>-0.496878</td>\n",
       "      <td>2.315646</td>\n",
       "      <td>1.239553</td>\n",
       "      <td>0.370339</td>\n",
       "      <td>-0.175410</td>\n",
       "      <td>0.938416</td>\n",
       "      <td>0.842927</td>\n",
       "      <td>-0.842927</td>\n",
       "    </tr>\n",
       "    <tr>\n",
       "      <th>14</th>\n",
       "      <td>1.295021</td>\n",
       "      <td>4.144146</td>\n",
       "      <td>-0.942618</td>\n",
       "      <td>1.888477</td>\n",
       "      <td>0.866634</td>\n",
       "      <td>2.056476</td>\n",
       "      <td>0.336810</td>\n",
       "      <td>-0.648567</td>\n",
       "      <td>1.439613</td>\n",
       "      <td>0.349403</td>\n",
       "      <td>0.196534</td>\n",
       "      <td>-0.352180</td>\n",
       "      <td>0.938416</td>\n",
       "      <td>-1.186342</td>\n",
       "      <td>1.186342</td>\n",
       "    </tr>\n",
       "    <tr>\n",
       "      <th>15</th>\n",
       "      <td>-0.072425</td>\n",
       "      <td>0.384550</td>\n",
       "      <td>0.621973</td>\n",
       "      <td>-0.706072</td>\n",
       "      <td>0.927554</td>\n",
       "      <td>0.523455</td>\n",
       "      <td>0.064236</td>\n",
       "      <td>-0.208669</td>\n",
       "      <td>0.169366</td>\n",
       "      <td>-0.169851</td>\n",
       "      <td>0.022728</td>\n",
       "      <td>-0.352180</td>\n",
       "      <td>0.664887</td>\n",
       "      <td>-1.186342</td>\n",
       "      <td>1.186342</td>\n",
       "    </tr>\n",
       "    <tr>\n",
       "      <th>16</th>\n",
       "      <td>-0.857025</td>\n",
       "      <td>-0.229642</td>\n",
       "      <td>-1.232357</td>\n",
       "      <td>0.735344</td>\n",
       "      <td>0.927554</td>\n",
       "      <td>0.012448</td>\n",
       "      <td>1.823578</td>\n",
       "      <td>1.778453</td>\n",
       "      <td>-0.838071</td>\n",
       "      <td>-0.837464</td>\n",
       "      <td>2.108395</td>\n",
       "      <td>0.708439</td>\n",
       "      <td>2.442827</td>\n",
       "      <td>-1.186342</td>\n",
       "      <td>1.186342</td>\n",
       "    </tr>\n",
       "    <tr>\n",
       "      <th>17</th>\n",
       "      <td>0.644924</td>\n",
       "      <td>-0.099359</td>\n",
       "      <td>-0.826722</td>\n",
       "      <td>1.196597</td>\n",
       "      <td>0.927554</td>\n",
       "      <td>2.567483</td>\n",
       "      <td>-0.431353</td>\n",
       "      <td>-1.407010</td>\n",
       "      <td>0.563581</td>\n",
       "      <td>-0.244030</td>\n",
       "      <td>-0.498688</td>\n",
       "      <td>-0.705719</td>\n",
       "      <td>0.254593</td>\n",
       "      <td>-1.186342</td>\n",
       "      <td>1.186342</td>\n",
       "    </tr>\n",
       "    <tr>\n",
       "      <th>18</th>\n",
       "      <td>0.622507</td>\n",
       "      <td>0.030924</td>\n",
       "      <td>0.506078</td>\n",
       "      <td>-0.302476</td>\n",
       "      <td>0.927554</td>\n",
       "      <td>-0.754063</td>\n",
       "      <td>2.789978</td>\n",
       "      <td>3.431861</td>\n",
       "      <td>1.658622</td>\n",
       "      <td>-0.244030</td>\n",
       "      <td>2.977423</td>\n",
       "      <td>3.359986</td>\n",
       "      <td>0.117828</td>\n",
       "      <td>0.842927</td>\n",
       "      <td>-0.842927</td>\n",
       "    </tr>\n",
       "  </tbody>\n",
       "</table>\n",
       "</div>"
      ],
      "text/plain": [
       "    colesterol   glucosa  hdl_chol  prop_col_hdl      edad    altura  \\\n",
       "0    -0.319013  2.617973 -1.522096      2.003790  0.744793  0.012448   \n",
       "1    -0.274179  0.012312 -0.247244     -0.187162  0.744793  0.267951   \n",
       "2     0.263833  0.086760  1.317347     -0.879042  0.744793  0.012448   \n",
       "3     1.833033  2.971599 -0.710827      1.773163  0.744793  0.523455   \n",
       "4     0.622507 -0.099359 -0.479035      0.620031  0.805713  0.778958   \n",
       "5     1.564027  0.217043  0.679921     -0.014192  0.805713 -1.265070   \n",
       "6    -1.013945 -0.322701 -0.247244     -0.590759  0.805713 -0.754063   \n",
       "7     2.483130  3.027434  3.345521     -0.936699  0.805713 -0.243056   \n",
       "8     1.608862  3.027434 -0.594931      1.427223  0.805713  0.523455   \n",
       "9    -1.776128  2.152677 -1.522096      0.447061  0.805713  0.267951   \n",
       "10   -0.094842 -0.322701  0.042495     -0.302476  0.805713 -1.776077   \n",
       "11   -1.439871 -0.304089 -0.768775     -0.360132  0.866634 -0.243056   \n",
       "12    2.079622 -0.080747 -0.363140      1.311910  0.866634  0.267951   \n",
       "13    0.084495  2.189900 -1.232357      1.600193  0.866634 -0.754063   \n",
       "14    1.295021  4.144146 -0.942618      1.888477  0.866634  2.056476   \n",
       "15   -0.072425  0.384550  0.621973     -0.706072  0.927554  0.523455   \n",
       "16   -0.857025 -0.229642 -1.232357      0.735344  0.927554  0.012448   \n",
       "17    0.644924 -0.099359 -0.826722      1.196597  0.927554  2.567483   \n",
       "18    0.622507  0.030924  0.506078     -0.302476  0.927554 -0.754063   \n",
       "\n",
       "        peso       IMC  ps_sistolica  ps_diastolica   cintura   caderas  \\\n",
       "0   0.287251  0.261566      0.125565       0.497761  0.022728  0.354899   \n",
       "1  -0.134000 -0.284514      0.563581       1.387911  0.022728  0.001360   \n",
       "2  -0.183559 -0.208669      0.388374       0.646120 -0.151077 -0.528950   \n",
       "3  -0.208338 -0.466540      0.213168      -0.318210 -0.324883 -0.882489   \n",
       "4   0.212913 -0.193500      0.475978       1.091194  0.370339 -0.175410   \n",
       "5  -1.224297 -0.694073      0.125565       0.201045 -0.846299 -0.705719   \n",
       "6  -1.397753 -1.118802     -1.188484      -1.430897 -1.020105 -1.589568   \n",
       "7  -0.257897 -0.147994     -0.224848      -0.837464  0.022728  0.178130   \n",
       "8   1.154533  0.807645      1.614820       0.497761  1.760784  1.238748   \n",
       "9   0.460708  0.291904     -1.188484      -1.134180  0.717951  0.001360   \n",
       "10 -1.348194 -0.603060     -0.312452      -0.837464 -0.324883 -0.352180   \n",
       "11  1.055415  1.186867      1.001597       0.646120  0.370339  1.238748   \n",
       "12 -0.208338 -0.345189      0.037961      -0.392389  0.370339  0.178130   \n",
       "13 -0.827825 -0.496878      2.315646       1.239553  0.370339 -0.175410   \n",
       "14  0.336810 -0.648567      1.439613       0.349403  0.196534 -0.352180   \n",
       "15  0.064236 -0.208669      0.169366      -0.169851  0.022728 -0.352180   \n",
       "16  1.823578  1.778453     -0.838071      -0.837464  2.108395  0.708439   \n",
       "17 -0.431353 -1.407010      0.563581      -0.244030 -0.498688 -0.705719   \n",
       "18  2.789978  3.431861      1.658622      -0.244030  2.977423  3.359986   \n",
       "\n",
       "    prop_cin_cad  genero_female  genero_male  \n",
       "0      -0.565995       0.842927    -0.842927  \n",
       "1      -0.018937       0.842927    -0.842927  \n",
       "2       0.664887      -1.186342     1.186342  \n",
       "3       0.938416      -1.186342     1.186342  \n",
       "4       0.938416      -1.186342     1.186342  \n",
       "5      -0.429231       0.842927    -0.842927  \n",
       "6       0.801651       0.842927    -0.842927  \n",
       "7      -0.292466       0.842927    -0.842927  \n",
       "8       1.075180       0.842927    -0.842927  \n",
       "9       1.348710      -1.186342     1.186342  \n",
       "10     -0.018937       0.842927    -0.842927  \n",
       "11     -1.113054       0.842927    -0.842927  \n",
       "12      0.391357       0.842927    -0.842927  \n",
       "13      0.938416       0.842927    -0.842927  \n",
       "14      0.938416      -1.186342     1.186342  \n",
       "15      0.664887      -1.186342     1.186342  \n",
       "16      2.442827      -1.186342     1.186342  \n",
       "17      0.254593      -1.186342     1.186342  \n",
       "18      0.117828       0.842927    -0.842927  "
      ]
     },
     "execution_count": 203,
     "metadata": {},
     "output_type": "execute_result"
    }
   ],
   "source": [
    "datos_nuevos3 = datos_nuevos1.copy()\n",
    "\n",
    "#No debemos utilizar fit\n",
    "datos_nuevos3 = pd.DataFrame(estandarizador.transform(datos_nuevos3), columns= datos_nuevos1.columns)\n",
    "datos_nuevos3"
   ]
  },
  {
   "cell_type": "code",
   "execution_count": 206,
   "metadata": {},
   "outputs": [
    {
     "name": "stdout",
     "output_type": "stream",
     "text": [
      "\n",
      "Matriz de Confusión:\n",
      "[[7 3]\n",
      " [0 9]]\n",
      "\n",
      "Precisión Global:\n",
      "0.8421052631578947\n",
      "\n",
      "Error Global:\n",
      "0.1578947368421053\n",
      "\n",
      "Precisión por categoría:\n",
      "   Diabetes  No diabetes\n",
      "0       0.7          1.0\n"
     ]
    }
   ],
   "source": [
    "from sklearn.metrics import confusion_matrix\n",
    "\n",
    "def indices_general(MC, nombres = None):\n",
    "    precision_global = np.sum(MC.diagonal()) / np.sum(MC)\n",
    "    error_global = 1 - precision_global\n",
    "    precision_categoria  = pd.DataFrame(MC.diagonal()/np.sum(MC,axis = 1)).T\n",
    "    if nombres!=None:\n",
    "        precision_categoria.columns = nombres\n",
    "    return {\"Matriz de Confusión\":MC, \n",
    "            \"Precisión Global\":precision_global, \n",
    "            \"Error Global\":error_global, \n",
    "            \"Precisión por categoría\":precision_categoria}\n",
    "\n",
    "instancia_svm = SVC(kernel=\"rbf\", degree = 3, random_state = 0, C = 7)\n",
    "\n",
    "instancia_svm.fit(datos2.values,y_train)\n",
    "\n",
    "prediccion = instancia_svm.predict(datos_nuevos3.values)\n",
    "\n",
    "labels = [\"Diabetes\", \"No diabetes\"]\n",
    "\n",
    "MC = confusion_matrix(y_test, prediccion,labels=labels)\n",
    "\n",
    "indices = indices_general(MC,labels)\n",
    "for k in indices:\n",
    "    print(\"\\n%s:\\n%s\"%(k,str(indices[k])))"
   ]
  },
  {
   "cell_type": "markdown",
   "metadata": {},
   "source": [
    "# Ejercicio 3: [25 puntos] Según el ejemplo de los hiperplanos visto en clase realice lo siguiente:"
   ]
  },
  {
   "cell_type": "code",
   "execution_count": 11,
   "metadata": {},
   "outputs": [
    {
     "data": {
      "text/html": [
       "        <script type=\"text/javascript\">\n",
       "        window.PlotlyConfig = {MathJaxConfig: 'local'};\n",
       "        if (window.MathJax) {MathJax.Hub.Config({SVG: {font: \"STIX-Web\"}});}\n",
       "        if (typeof require !== 'undefined') {\n",
       "        require.undef(\"plotly\");\n",
       "        requirejs.config({\n",
       "            paths: {\n",
       "                'plotly': ['https://cdn.plot.ly/plotly-2.2.0.min']\n",
       "            }\n",
       "        });\n",
       "        require(['plotly'], function(Plotly) {\n",
       "            window._Plotly = Plotly;\n",
       "        });\n",
       "        }\n",
       "        </script>\n",
       "        "
      ]
     },
     "metadata": {},
     "output_type": "display_data"
    }
   ],
   "source": [
    "from plotly.offline import init_notebook_mode\n",
    "init_notebook_mode(connected = True)\n",
    "import plotly.graph_objs as go\n",
    "import plotly.express as px"
   ]
  },
  {
   "cell_type": "code",
   "execution_count": 16,
   "metadata": {},
   "outputs": [
    {
     "data": {
      "text/html": [
       "<div>\n",
       "<style scoped>\n",
       "    .dataframe tbody tr th:only-of-type {\n",
       "        vertical-align: middle;\n",
       "    }\n",
       "\n",
       "    .dataframe tbody tr th {\n",
       "        vertical-align: top;\n",
       "    }\n",
       "\n",
       "    .dataframe thead th {\n",
       "        text-align: right;\n",
       "    }\n",
       "</style>\n",
       "<table border=\"1\" class=\"dataframe\">\n",
       "  <thead>\n",
       "    <tr style=\"text-align: right;\">\n",
       "      <th></th>\n",
       "      <th>x</th>\n",
       "      <th>y</th>\n",
       "      <th>z</th>\n",
       "      <th>Clase</th>\n",
       "    </tr>\n",
       "  </thead>\n",
       "  <tbody>\n",
       "    <tr>\n",
       "      <th>0</th>\n",
       "      <td>1</td>\n",
       "      <td>0</td>\n",
       "      <td>1</td>\n",
       "      <td>Rojo</td>\n",
       "    </tr>\n",
       "    <tr>\n",
       "      <th>1</th>\n",
       "      <td>1</td>\n",
       "      <td>0</td>\n",
       "      <td>2</td>\n",
       "      <td>Rojo</td>\n",
       "    </tr>\n",
       "    <tr>\n",
       "      <th>2</th>\n",
       "      <td>1</td>\n",
       "      <td>1</td>\n",
       "      <td>2</td>\n",
       "      <td>Rojo</td>\n",
       "    </tr>\n",
       "    <tr>\n",
       "      <th>3</th>\n",
       "      <td>3</td>\n",
       "      <td>1</td>\n",
       "      <td>4</td>\n",
       "      <td>Rojo</td>\n",
       "    </tr>\n",
       "    <tr>\n",
       "      <th>4</th>\n",
       "      <td>1</td>\n",
       "      <td>1</td>\n",
       "      <td>3</td>\n",
       "      <td>Rojo</td>\n",
       "    </tr>\n",
       "    <tr>\n",
       "      <th>5</th>\n",
       "      <td>3</td>\n",
       "      <td>2</td>\n",
       "      <td>3</td>\n",
       "      <td>Azul</td>\n",
       "    </tr>\n",
       "    <tr>\n",
       "      <th>6</th>\n",
       "      <td>1</td>\n",
       "      <td>2</td>\n",
       "      <td>1</td>\n",
       "      <td>Azul</td>\n",
       "    </tr>\n",
       "    <tr>\n",
       "      <th>7</th>\n",
       "      <td>3</td>\n",
       "      <td>2</td>\n",
       "      <td>1</td>\n",
       "      <td>Azul</td>\n",
       "    </tr>\n",
       "    <tr>\n",
       "      <th>8</th>\n",
       "      <td>1</td>\n",
       "      <td>1</td>\n",
       "      <td>0</td>\n",
       "      <td>Azul</td>\n",
       "    </tr>\n",
       "  </tbody>\n",
       "</table>\n",
       "</div>"
      ],
      "text/plain": [
       "   x  y  z Clase\n",
       "0  1  0  1  Rojo\n",
       "1  1  0  2  Rojo\n",
       "2  1  1  2  Rojo\n",
       "3  3  1  4  Rojo\n",
       "4  1  1  3  Rojo\n",
       "5  3  2  3  Azul\n",
       "6  1  2  1  Azul\n",
       "7  3  2  1  Azul\n",
       "8  1  1  0  Azul"
      ]
     },
     "execution_count": 16,
     "metadata": {},
     "output_type": "execute_result"
    }
   ],
   "source": [
    "d = {'x': [1, 1, 1, 3, 1, 3, 1, 3, 1], 'y': [0, 0, 1, 1, 1, 2, 2, 2, 1], \n",
    "  'z': [1, 2, 2, 4, 3, 3, 1, 1, 0], \n",
    "  'Clase': ['Rojo', 'Rojo', 'Rojo', 'Rojo', 'Rojo', 'Azul', 'Azul', 'Azul', 'Azul']}\n",
    "df = pd.DataFrame(data = d)\n",
    "df"
   ]
  },
  {
   "cell_type": "markdown",
   "metadata": {},
   "source": [
    "## 1. Escriba la regla de clasificación para el clasificador con margen máximo. Debe ser algo como lo siguiente: $w = (w_1, w_2, w_3)$ se clasifica como $Rojo$ si $ax + by + cz + d > 0$, de otra manera se clasifica como $Azul$."
   ]
  },
  {
   "cell_type": "markdown",
   "metadata": {},
   "source": [
    "Rojo si:\n",
    "\n",
    "$$-x - y + z > 0$$\n",
    "\n",
    "Azul si:\n",
    "\n",
    "$$\n",
    "-x -y +z +2 >0\n",
    "$$"
   ]
  },
  {
   "cell_type": "markdown",
   "metadata": {},
   "source": [
    "## 2. Indique la medida del margen entre el hiperplano óptimo de separación y los vectores de soporte.\n"
   ]
  },
  {
   "cell_type": "code",
   "execution_count": 17,
   "metadata": {},
   "outputs": [
    {
     "data": {
      "text/html": [
       "<div>\n",
       "<style scoped>\n",
       "    .dataframe tbody tr th:only-of-type {\n",
       "        vertical-align: middle;\n",
       "    }\n",
       "\n",
       "    .dataframe tbody tr th {\n",
       "        vertical-align: top;\n",
       "    }\n",
       "\n",
       "    .dataframe thead th {\n",
       "        text-align: right;\n",
       "    }\n",
       "</style>\n",
       "<table border=\"1\" class=\"dataframe\">\n",
       "  <thead>\n",
       "    <tr style=\"text-align: right;\">\n",
       "      <th></th>\n",
       "      <th>x</th>\n",
       "      <th>y</th>\n",
       "      <th>z</th>\n",
       "      <th>Clase</th>\n",
       "      <th>esSoporte</th>\n",
       "    </tr>\n",
       "  </thead>\n",
       "  <tbody>\n",
       "    <tr>\n",
       "      <th>0</th>\n",
       "      <td>1</td>\n",
       "      <td>0</td>\n",
       "      <td>1</td>\n",
       "      <td>Rojo</td>\n",
       "      <td>True</td>\n",
       "    </tr>\n",
       "    <tr>\n",
       "      <th>1</th>\n",
       "      <td>1</td>\n",
       "      <td>0</td>\n",
       "      <td>2</td>\n",
       "      <td>Rojo</td>\n",
       "      <td>False</td>\n",
       "    </tr>\n",
       "    <tr>\n",
       "      <th>2</th>\n",
       "      <td>1</td>\n",
       "      <td>1</td>\n",
       "      <td>2</td>\n",
       "      <td>Rojo</td>\n",
       "      <td>True</td>\n",
       "    </tr>\n",
       "    <tr>\n",
       "      <th>3</th>\n",
       "      <td>3</td>\n",
       "      <td>1</td>\n",
       "      <td>4</td>\n",
       "      <td>Rojo</td>\n",
       "      <td>True</td>\n",
       "    </tr>\n",
       "    <tr>\n",
       "      <th>4</th>\n",
       "      <td>1</td>\n",
       "      <td>1</td>\n",
       "      <td>3</td>\n",
       "      <td>Rojo</td>\n",
       "      <td>False</td>\n",
       "    </tr>\n",
       "    <tr>\n",
       "      <th>5</th>\n",
       "      <td>3</td>\n",
       "      <td>2</td>\n",
       "      <td>3</td>\n",
       "      <td>Azul</td>\n",
       "      <td>True</td>\n",
       "    </tr>\n",
       "    <tr>\n",
       "      <th>6</th>\n",
       "      <td>1</td>\n",
       "      <td>2</td>\n",
       "      <td>1</td>\n",
       "      <td>Azul</td>\n",
       "      <td>True</td>\n",
       "    </tr>\n",
       "    <tr>\n",
       "      <th>7</th>\n",
       "      <td>3</td>\n",
       "      <td>2</td>\n",
       "      <td>1</td>\n",
       "      <td>Azul</td>\n",
       "      <td>False</td>\n",
       "    </tr>\n",
       "    <tr>\n",
       "      <th>8</th>\n",
       "      <td>1</td>\n",
       "      <td>1</td>\n",
       "      <td>0</td>\n",
       "      <td>Azul</td>\n",
       "      <td>True</td>\n",
       "    </tr>\n",
       "  </tbody>\n",
       "</table>\n",
       "</div>"
      ],
      "text/plain": [
       "   x  y  z Clase  esSoporte\n",
       "0  1  0  1  Rojo       True\n",
       "1  1  0  2  Rojo      False\n",
       "2  1  1  2  Rojo       True\n",
       "3  3  1  4  Rojo       True\n",
       "4  1  1  3  Rojo      False\n",
       "5  3  2  3  Azul       True\n",
       "6  1  2  1  Azul       True\n",
       "7  3  2  1  Azul      False\n",
       "8  1  1  0  Azul       True"
      ]
     },
     "execution_count": 17,
     "metadata": {},
     "output_type": "execute_result"
    }
   ],
   "source": [
    "df.insert(4, \"esSoporte\", [True,False,True,True,False,True,True,False,True], True)\n",
    "\n",
    "df"
   ]
  },
  {
   "cell_type": "code",
   "execution_count": 22,
   "metadata": {},
   "outputs": [],
   "source": [
    "x, y = np.meshgrid(range(5), range(5))\n",
    "z_rojo = x + y\n",
    "z_azul = x + y - 2\n",
    "z_optimo = x + y - 1"
   ]
  },
  {
   "cell_type": "code",
   "execution_count": 23,
   "metadata": {},
   "outputs": [
    {
     "data": {
      "application/vnd.plotly.v1+json": {
       "config": {
        "plotlyServerURL": "https://plot.ly"
       },
       "data": [
        {
         "marker": {
          "color": "red"
         },
         "mode": "markers",
         "name": "Rojo",
         "type": "scatter3d",
         "x": [
          1,
          1
         ],
         "y": [
          0,
          1
         ],
         "z": [
          2,
          3
         ]
        },
        {
         "marker": {
          "color": "blue"
         },
         "mode": "markers",
         "name": "Azul",
         "type": "scatter3d",
         "x": [
          3
         ],
         "y": [
          2
         ],
         "z": [
          1
         ]
        },
        {
         "marker": {
          "color": "pink"
         },
         "mode": "markers",
         "name": "Soporte Rojo",
         "type": "scatter3d",
         "x": [
          1,
          1,
          3
         ],
         "y": [
          0,
          1,
          1
         ],
         "z": [
          1,
          2,
          4
         ]
        },
        {
         "marker": {
          "color": "aqua"
         },
         "mode": "markers",
         "name": "Soporte Azul",
         "type": "scatter3d",
         "x": [
          3,
          1,
          1
         ],
         "y": [
          2,
          2,
          1
         ],
         "z": [
          3,
          1,
          0
         ]
        },
        {
         "colorscale": [
          [
           0,
           "brown"
          ],
          [
           0.041666666666666664,
           "brown"
          ],
          [
           0.08333333333333333,
           "brown"
          ],
          [
           0.125,
           "brown"
          ],
          [
           0.16666666666666666,
           "brown"
          ],
          [
           0.20833333333333334,
           "brown"
          ],
          [
           0.25,
           "brown"
          ],
          [
           0.2916666666666667,
           "brown"
          ],
          [
           0.3333333333333333,
           "brown"
          ],
          [
           0.375,
           "brown"
          ],
          [
           0.4166666666666667,
           "brown"
          ],
          [
           0.4583333333333333,
           "brown"
          ],
          [
           0.5,
           "brown"
          ],
          [
           0.5416666666666666,
           "brown"
          ],
          [
           0.5833333333333334,
           "brown"
          ],
          [
           0.625,
           "brown"
          ],
          [
           0.6666666666666666,
           "brown"
          ],
          [
           0.7083333333333334,
           "brown"
          ],
          [
           0.75,
           "brown"
          ],
          [
           0.7916666666666666,
           "brown"
          ],
          [
           0.8333333333333334,
           "brown"
          ],
          [
           0.875,
           "brown"
          ],
          [
           0.9166666666666666,
           "brown"
          ],
          [
           0.9583333333333334,
           "brown"
          ],
          [
           1,
           "brown"
          ]
         ],
         "name": "Margen",
         "opacity": 0.7,
         "showscale": false,
         "type": "surface",
         "x": [
          [
           0,
           1,
           2,
           3,
           4
          ],
          [
           0,
           1,
           2,
           3,
           4
          ],
          [
           0,
           1,
           2,
           3,
           4
          ],
          [
           0,
           1,
           2,
           3,
           4
          ],
          [
           0,
           1,
           2,
           3,
           4
          ]
         ],
         "y": [
          [
           0,
           0,
           0,
           0,
           0
          ],
          [
           1,
           1,
           1,
           1,
           1
          ],
          [
           2,
           2,
           2,
           2,
           2
          ],
          [
           3,
           3,
           3,
           3,
           3
          ],
          [
           4,
           4,
           4,
           4,
           4
          ]
         ],
         "z": [
          [
           0,
           1,
           2,
           3,
           4
          ],
          [
           1,
           2,
           3,
           4,
           5
          ],
          [
           2,
           3,
           4,
           5,
           6
          ],
          [
           3,
           4,
           5,
           6,
           7
          ],
          [
           4,
           5,
           6,
           7,
           8
          ]
         ]
        },
        {
         "colorscale": [
          [
           0,
           "brown"
          ],
          [
           0.041666666666666664,
           "brown"
          ],
          [
           0.08333333333333333,
           "brown"
          ],
          [
           0.125,
           "brown"
          ],
          [
           0.16666666666666666,
           "brown"
          ],
          [
           0.20833333333333334,
           "brown"
          ],
          [
           0.25,
           "brown"
          ],
          [
           0.2916666666666667,
           "brown"
          ],
          [
           0.3333333333333333,
           "brown"
          ],
          [
           0.375,
           "brown"
          ],
          [
           0.4166666666666667,
           "brown"
          ],
          [
           0.4583333333333333,
           "brown"
          ],
          [
           0.5,
           "brown"
          ],
          [
           0.5416666666666666,
           "brown"
          ],
          [
           0.5833333333333334,
           "brown"
          ],
          [
           0.625,
           "brown"
          ],
          [
           0.6666666666666666,
           "brown"
          ],
          [
           0.7083333333333334,
           "brown"
          ],
          [
           0.75,
           "brown"
          ],
          [
           0.7916666666666666,
           "brown"
          ],
          [
           0.8333333333333334,
           "brown"
          ],
          [
           0.875,
           "brown"
          ],
          [
           0.9166666666666666,
           "brown"
          ],
          [
           0.9583333333333334,
           "brown"
          ],
          [
           1,
           "brown"
          ]
         ],
         "name": "Margen",
         "opacity": 0.7,
         "showscale": false,
         "type": "surface",
         "x": [
          [
           0,
           1,
           2,
           3,
           4
          ],
          [
           0,
           1,
           2,
           3,
           4
          ],
          [
           0,
           1,
           2,
           3,
           4
          ],
          [
           0,
           1,
           2,
           3,
           4
          ],
          [
           0,
           1,
           2,
           3,
           4
          ]
         ],
         "y": [
          [
           0,
           0,
           0,
           0,
           0
          ],
          [
           1,
           1,
           1,
           1,
           1
          ],
          [
           2,
           2,
           2,
           2,
           2
          ],
          [
           3,
           3,
           3,
           3,
           3
          ],
          [
           4,
           4,
           4,
           4,
           4
          ]
         ],
         "z": [
          [
           -2,
           -1,
           0,
           1,
           2
          ],
          [
           -1,
           0,
           1,
           2,
           3
          ],
          [
           0,
           1,
           2,
           3,
           4
          ],
          [
           1,
           2,
           3,
           4,
           5
          ],
          [
           2,
           3,
           4,
           5,
           6
          ]
         ]
        }
       ],
       "layout": {
        "template": {
         "data": {
          "bar": [
           {
            "error_x": {
             "color": "#2a3f5f"
            },
            "error_y": {
             "color": "#2a3f5f"
            },
            "marker": {
             "line": {
              "color": "#E5ECF6",
              "width": 0.5
             },
             "pattern": {
              "fillmode": "overlay",
              "size": 10,
              "solidity": 0.2
             }
            },
            "type": "bar"
           }
          ],
          "barpolar": [
           {
            "marker": {
             "line": {
              "color": "#E5ECF6",
              "width": 0.5
             },
             "pattern": {
              "fillmode": "overlay",
              "size": 10,
              "solidity": 0.2
             }
            },
            "type": "barpolar"
           }
          ],
          "carpet": [
           {
            "aaxis": {
             "endlinecolor": "#2a3f5f",
             "gridcolor": "white",
             "linecolor": "white",
             "minorgridcolor": "white",
             "startlinecolor": "#2a3f5f"
            },
            "baxis": {
             "endlinecolor": "#2a3f5f",
             "gridcolor": "white",
             "linecolor": "white",
             "minorgridcolor": "white",
             "startlinecolor": "#2a3f5f"
            },
            "type": "carpet"
           }
          ],
          "choropleth": [
           {
            "colorbar": {
             "outlinewidth": 0,
             "ticks": ""
            },
            "type": "choropleth"
           }
          ],
          "contour": [
           {
            "colorbar": {
             "outlinewidth": 0,
             "ticks": ""
            },
            "colorscale": [
             [
              0,
              "#0d0887"
             ],
             [
              0.1111111111111111,
              "#46039f"
             ],
             [
              0.2222222222222222,
              "#7201a8"
             ],
             [
              0.3333333333333333,
              "#9c179e"
             ],
             [
              0.4444444444444444,
              "#bd3786"
             ],
             [
              0.5555555555555556,
              "#d8576b"
             ],
             [
              0.6666666666666666,
              "#ed7953"
             ],
             [
              0.7777777777777778,
              "#fb9f3a"
             ],
             [
              0.8888888888888888,
              "#fdca26"
             ],
             [
              1,
              "#f0f921"
             ]
            ],
            "type": "contour"
           }
          ],
          "contourcarpet": [
           {
            "colorbar": {
             "outlinewidth": 0,
             "ticks": ""
            },
            "type": "contourcarpet"
           }
          ],
          "heatmap": [
           {
            "colorbar": {
             "outlinewidth": 0,
             "ticks": ""
            },
            "colorscale": [
             [
              0,
              "#0d0887"
             ],
             [
              0.1111111111111111,
              "#46039f"
             ],
             [
              0.2222222222222222,
              "#7201a8"
             ],
             [
              0.3333333333333333,
              "#9c179e"
             ],
             [
              0.4444444444444444,
              "#bd3786"
             ],
             [
              0.5555555555555556,
              "#d8576b"
             ],
             [
              0.6666666666666666,
              "#ed7953"
             ],
             [
              0.7777777777777778,
              "#fb9f3a"
             ],
             [
              0.8888888888888888,
              "#fdca26"
             ],
             [
              1,
              "#f0f921"
             ]
            ],
            "type": "heatmap"
           }
          ],
          "heatmapgl": [
           {
            "colorbar": {
             "outlinewidth": 0,
             "ticks": ""
            },
            "colorscale": [
             [
              0,
              "#0d0887"
             ],
             [
              0.1111111111111111,
              "#46039f"
             ],
             [
              0.2222222222222222,
              "#7201a8"
             ],
             [
              0.3333333333333333,
              "#9c179e"
             ],
             [
              0.4444444444444444,
              "#bd3786"
             ],
             [
              0.5555555555555556,
              "#d8576b"
             ],
             [
              0.6666666666666666,
              "#ed7953"
             ],
             [
              0.7777777777777778,
              "#fb9f3a"
             ],
             [
              0.8888888888888888,
              "#fdca26"
             ],
             [
              1,
              "#f0f921"
             ]
            ],
            "type": "heatmapgl"
           }
          ],
          "histogram": [
           {
            "marker": {
             "pattern": {
              "fillmode": "overlay",
              "size": 10,
              "solidity": 0.2
             }
            },
            "type": "histogram"
           }
          ],
          "histogram2d": [
           {
            "colorbar": {
             "outlinewidth": 0,
             "ticks": ""
            },
            "colorscale": [
             [
              0,
              "#0d0887"
             ],
             [
              0.1111111111111111,
              "#46039f"
             ],
             [
              0.2222222222222222,
              "#7201a8"
             ],
             [
              0.3333333333333333,
              "#9c179e"
             ],
             [
              0.4444444444444444,
              "#bd3786"
             ],
             [
              0.5555555555555556,
              "#d8576b"
             ],
             [
              0.6666666666666666,
              "#ed7953"
             ],
             [
              0.7777777777777778,
              "#fb9f3a"
             ],
             [
              0.8888888888888888,
              "#fdca26"
             ],
             [
              1,
              "#f0f921"
             ]
            ],
            "type": "histogram2d"
           }
          ],
          "histogram2dcontour": [
           {
            "colorbar": {
             "outlinewidth": 0,
             "ticks": ""
            },
            "colorscale": [
             [
              0,
              "#0d0887"
             ],
             [
              0.1111111111111111,
              "#46039f"
             ],
             [
              0.2222222222222222,
              "#7201a8"
             ],
             [
              0.3333333333333333,
              "#9c179e"
             ],
             [
              0.4444444444444444,
              "#bd3786"
             ],
             [
              0.5555555555555556,
              "#d8576b"
             ],
             [
              0.6666666666666666,
              "#ed7953"
             ],
             [
              0.7777777777777778,
              "#fb9f3a"
             ],
             [
              0.8888888888888888,
              "#fdca26"
             ],
             [
              1,
              "#f0f921"
             ]
            ],
            "type": "histogram2dcontour"
           }
          ],
          "mesh3d": [
           {
            "colorbar": {
             "outlinewidth": 0,
             "ticks": ""
            },
            "type": "mesh3d"
           }
          ],
          "parcoords": [
           {
            "line": {
             "colorbar": {
              "outlinewidth": 0,
              "ticks": ""
             }
            },
            "type": "parcoords"
           }
          ],
          "pie": [
           {
            "automargin": true,
            "type": "pie"
           }
          ],
          "scatter": [
           {
            "marker": {
             "colorbar": {
              "outlinewidth": 0,
              "ticks": ""
             }
            },
            "type": "scatter"
           }
          ],
          "scatter3d": [
           {
            "line": {
             "colorbar": {
              "outlinewidth": 0,
              "ticks": ""
             }
            },
            "marker": {
             "colorbar": {
              "outlinewidth": 0,
              "ticks": ""
             }
            },
            "type": "scatter3d"
           }
          ],
          "scattercarpet": [
           {
            "marker": {
             "colorbar": {
              "outlinewidth": 0,
              "ticks": ""
             }
            },
            "type": "scattercarpet"
           }
          ],
          "scattergeo": [
           {
            "marker": {
             "colorbar": {
              "outlinewidth": 0,
              "ticks": ""
             }
            },
            "type": "scattergeo"
           }
          ],
          "scattergl": [
           {
            "marker": {
             "colorbar": {
              "outlinewidth": 0,
              "ticks": ""
             }
            },
            "type": "scattergl"
           }
          ],
          "scattermapbox": [
           {
            "marker": {
             "colorbar": {
              "outlinewidth": 0,
              "ticks": ""
             }
            },
            "type": "scattermapbox"
           }
          ],
          "scatterpolar": [
           {
            "marker": {
             "colorbar": {
              "outlinewidth": 0,
              "ticks": ""
             }
            },
            "type": "scatterpolar"
           }
          ],
          "scatterpolargl": [
           {
            "marker": {
             "colorbar": {
              "outlinewidth": 0,
              "ticks": ""
             }
            },
            "type": "scatterpolargl"
           }
          ],
          "scatterternary": [
           {
            "marker": {
             "colorbar": {
              "outlinewidth": 0,
              "ticks": ""
             }
            },
            "type": "scatterternary"
           }
          ],
          "surface": [
           {
            "colorbar": {
             "outlinewidth": 0,
             "ticks": ""
            },
            "colorscale": [
             [
              0,
              "#0d0887"
             ],
             [
              0.1111111111111111,
              "#46039f"
             ],
             [
              0.2222222222222222,
              "#7201a8"
             ],
             [
              0.3333333333333333,
              "#9c179e"
             ],
             [
              0.4444444444444444,
              "#bd3786"
             ],
             [
              0.5555555555555556,
              "#d8576b"
             ],
             [
              0.6666666666666666,
              "#ed7953"
             ],
             [
              0.7777777777777778,
              "#fb9f3a"
             ],
             [
              0.8888888888888888,
              "#fdca26"
             ],
             [
              1,
              "#f0f921"
             ]
            ],
            "type": "surface"
           }
          ],
          "table": [
           {
            "cells": {
             "fill": {
              "color": "#EBF0F8"
             },
             "line": {
              "color": "white"
             }
            },
            "header": {
             "fill": {
              "color": "#C8D4E3"
             },
             "line": {
              "color": "white"
             }
            },
            "type": "table"
           }
          ]
         },
         "layout": {
          "annotationdefaults": {
           "arrowcolor": "#2a3f5f",
           "arrowhead": 0,
           "arrowwidth": 1
          },
          "autotypenumbers": "strict",
          "coloraxis": {
           "colorbar": {
            "outlinewidth": 0,
            "ticks": ""
           }
          },
          "colorscale": {
           "diverging": [
            [
             0,
             "#8e0152"
            ],
            [
             0.1,
             "#c51b7d"
            ],
            [
             0.2,
             "#de77ae"
            ],
            [
             0.3,
             "#f1b6da"
            ],
            [
             0.4,
             "#fde0ef"
            ],
            [
             0.5,
             "#f7f7f7"
            ],
            [
             0.6,
             "#e6f5d0"
            ],
            [
             0.7,
             "#b8e186"
            ],
            [
             0.8,
             "#7fbc41"
            ],
            [
             0.9,
             "#4d9221"
            ],
            [
             1,
             "#276419"
            ]
           ],
           "sequential": [
            [
             0,
             "#0d0887"
            ],
            [
             0.1111111111111111,
             "#46039f"
            ],
            [
             0.2222222222222222,
             "#7201a8"
            ],
            [
             0.3333333333333333,
             "#9c179e"
            ],
            [
             0.4444444444444444,
             "#bd3786"
            ],
            [
             0.5555555555555556,
             "#d8576b"
            ],
            [
             0.6666666666666666,
             "#ed7953"
            ],
            [
             0.7777777777777778,
             "#fb9f3a"
            ],
            [
             0.8888888888888888,
             "#fdca26"
            ],
            [
             1,
             "#f0f921"
            ]
           ],
           "sequentialminus": [
            [
             0,
             "#0d0887"
            ],
            [
             0.1111111111111111,
             "#46039f"
            ],
            [
             0.2222222222222222,
             "#7201a8"
            ],
            [
             0.3333333333333333,
             "#9c179e"
            ],
            [
             0.4444444444444444,
             "#bd3786"
            ],
            [
             0.5555555555555556,
             "#d8576b"
            ],
            [
             0.6666666666666666,
             "#ed7953"
            ],
            [
             0.7777777777777778,
             "#fb9f3a"
            ],
            [
             0.8888888888888888,
             "#fdca26"
            ],
            [
             1,
             "#f0f921"
            ]
           ]
          },
          "colorway": [
           "#636efa",
           "#EF553B",
           "#00cc96",
           "#ab63fa",
           "#FFA15A",
           "#19d3f3",
           "#FF6692",
           "#B6E880",
           "#FF97FF",
           "#FECB52"
          ],
          "font": {
           "color": "#2a3f5f"
          },
          "geo": {
           "bgcolor": "white",
           "lakecolor": "white",
           "landcolor": "#E5ECF6",
           "showlakes": true,
           "showland": true,
           "subunitcolor": "white"
          },
          "hoverlabel": {
           "align": "left"
          },
          "hovermode": "closest",
          "mapbox": {
           "style": "light"
          },
          "paper_bgcolor": "white",
          "plot_bgcolor": "#E5ECF6",
          "polar": {
           "angularaxis": {
            "gridcolor": "white",
            "linecolor": "white",
            "ticks": ""
           },
           "bgcolor": "#E5ECF6",
           "radialaxis": {
            "gridcolor": "white",
            "linecolor": "white",
            "ticks": ""
           }
          },
          "scene": {
           "xaxis": {
            "backgroundcolor": "#E5ECF6",
            "gridcolor": "white",
            "gridwidth": 2,
            "linecolor": "white",
            "showbackground": true,
            "ticks": "",
            "zerolinecolor": "white"
           },
           "yaxis": {
            "backgroundcolor": "#E5ECF6",
            "gridcolor": "white",
            "gridwidth": 2,
            "linecolor": "white",
            "showbackground": true,
            "ticks": "",
            "zerolinecolor": "white"
           },
           "zaxis": {
            "backgroundcolor": "#E5ECF6",
            "gridcolor": "white",
            "gridwidth": 2,
            "linecolor": "white",
            "showbackground": true,
            "ticks": "",
            "zerolinecolor": "white"
           }
          },
          "shapedefaults": {
           "line": {
            "color": "#2a3f5f"
           }
          },
          "ternary": {
           "aaxis": {
            "gridcolor": "white",
            "linecolor": "white",
            "ticks": ""
           },
           "baxis": {
            "gridcolor": "white",
            "linecolor": "white",
            "ticks": ""
           },
           "bgcolor": "#E5ECF6",
           "caxis": {
            "gridcolor": "white",
            "linecolor": "white",
            "ticks": ""
           }
          },
          "title": {
           "x": 0.05
          },
          "xaxis": {
           "automargin": true,
           "gridcolor": "white",
           "linecolor": "white",
           "ticks": "",
           "title": {
            "standoff": 15
           },
           "zerolinecolor": "white",
           "zerolinewidth": 2
          },
          "yaxis": {
           "automargin": true,
           "gridcolor": "white",
           "linecolor": "white",
           "ticks": "",
           "title": {
            "standoff": 15
           },
           "zerolinecolor": "white",
           "zerolinewidth": 2
          }
         }
        }
       }
      },
      "text/html": [
       "<div>                            <div id=\"0fa3567a-a684-4487-acee-c5b7d9b72007\" class=\"plotly-graph-div\" style=\"height:525px; width:100%;\"></div>            <script type=\"text/javascript\">                require([\"plotly\"], function(Plotly) {                    window.PLOTLYENV=window.PLOTLYENV || {};                                    if (document.getElementById(\"0fa3567a-a684-4487-acee-c5b7d9b72007\")) {                    Plotly.newPlot(                        \"0fa3567a-a684-4487-acee-c5b7d9b72007\",                        [{\"marker\":{\"color\":\"red\"},\"mode\":\"markers\",\"name\":\"Rojo\",\"type\":\"scatter3d\",\"x\":[1,1],\"y\":[0,1],\"z\":[2,3]},{\"marker\":{\"color\":\"blue\"},\"mode\":\"markers\",\"name\":\"Azul\",\"type\":\"scatter3d\",\"x\":[3],\"y\":[2],\"z\":[1]},{\"marker\":{\"color\":\"pink\"},\"mode\":\"markers\",\"name\":\"Soporte Rojo\",\"type\":\"scatter3d\",\"x\":[1,1,3],\"y\":[0,1,1],\"z\":[1,2,4]},{\"marker\":{\"color\":\"aqua\"},\"mode\":\"markers\",\"name\":\"Soporte Azul\",\"type\":\"scatter3d\",\"x\":[3,1,1],\"y\":[2,2,1],\"z\":[3,1,0]},{\"colorscale\":[[0.0,\"brown\"],[0.041666666666666664,\"brown\"],[0.08333333333333333,\"brown\"],[0.125,\"brown\"],[0.16666666666666666,\"brown\"],[0.20833333333333334,\"brown\"],[0.25,\"brown\"],[0.2916666666666667,\"brown\"],[0.3333333333333333,\"brown\"],[0.375,\"brown\"],[0.4166666666666667,\"brown\"],[0.4583333333333333,\"brown\"],[0.5,\"brown\"],[0.5416666666666666,\"brown\"],[0.5833333333333334,\"brown\"],[0.625,\"brown\"],[0.6666666666666666,\"brown\"],[0.7083333333333334,\"brown\"],[0.75,\"brown\"],[0.7916666666666666,\"brown\"],[0.8333333333333334,\"brown\"],[0.875,\"brown\"],[0.9166666666666666,\"brown\"],[0.9583333333333334,\"brown\"],[1.0,\"brown\"]],\"name\":\"Margen\",\"opacity\":0.7,\"showscale\":false,\"type\":\"surface\",\"x\":[[0,1,2,3,4],[0,1,2,3,4],[0,1,2,3,4],[0,1,2,3,4],[0,1,2,3,4]],\"y\":[[0,0,0,0,0],[1,1,1,1,1],[2,2,2,2,2],[3,3,3,3,3],[4,4,4,4,4]],\"z\":[[0,1,2,3,4],[1,2,3,4,5],[2,3,4,5,6],[3,4,5,6,7],[4,5,6,7,8]]},{\"colorscale\":[[0.0,\"brown\"],[0.041666666666666664,\"brown\"],[0.08333333333333333,\"brown\"],[0.125,\"brown\"],[0.16666666666666666,\"brown\"],[0.20833333333333334,\"brown\"],[0.25,\"brown\"],[0.2916666666666667,\"brown\"],[0.3333333333333333,\"brown\"],[0.375,\"brown\"],[0.4166666666666667,\"brown\"],[0.4583333333333333,\"brown\"],[0.5,\"brown\"],[0.5416666666666666,\"brown\"],[0.5833333333333334,\"brown\"],[0.625,\"brown\"],[0.6666666666666666,\"brown\"],[0.7083333333333334,\"brown\"],[0.75,\"brown\"],[0.7916666666666666,\"brown\"],[0.8333333333333334,\"brown\"],[0.875,\"brown\"],[0.9166666666666666,\"brown\"],[0.9583333333333334,\"brown\"],[1.0,\"brown\"]],\"name\":\"Margen\",\"opacity\":0.7,\"showscale\":false,\"type\":\"surface\",\"x\":[[0,1,2,3,4],[0,1,2,3,4],[0,1,2,3,4],[0,1,2,3,4],[0,1,2,3,4]],\"y\":[[0,0,0,0,0],[1,1,1,1,1],[2,2,2,2,2],[3,3,3,3,3],[4,4,4,4,4]],\"z\":[[-2,-1,0,1,2],[-1,0,1,2,3],[0,1,2,3,4],[1,2,3,4,5],[2,3,4,5,6]]}],                        {\"template\":{\"data\":{\"bar\":[{\"error_x\":{\"color\":\"#2a3f5f\"},\"error_y\":{\"color\":\"#2a3f5f\"},\"marker\":{\"line\":{\"color\":\"#E5ECF6\",\"width\":0.5},\"pattern\":{\"fillmode\":\"overlay\",\"size\":10,\"solidity\":0.2}},\"type\":\"bar\"}],\"barpolar\":[{\"marker\":{\"line\":{\"color\":\"#E5ECF6\",\"width\":0.5},\"pattern\":{\"fillmode\":\"overlay\",\"size\":10,\"solidity\":0.2}},\"type\":\"barpolar\"}],\"carpet\":[{\"aaxis\":{\"endlinecolor\":\"#2a3f5f\",\"gridcolor\":\"white\",\"linecolor\":\"white\",\"minorgridcolor\":\"white\",\"startlinecolor\":\"#2a3f5f\"},\"baxis\":{\"endlinecolor\":\"#2a3f5f\",\"gridcolor\":\"white\",\"linecolor\":\"white\",\"minorgridcolor\":\"white\",\"startlinecolor\":\"#2a3f5f\"},\"type\":\"carpet\"}],\"choropleth\":[{\"colorbar\":{\"outlinewidth\":0,\"ticks\":\"\"},\"type\":\"choropleth\"}],\"contour\":[{\"colorbar\":{\"outlinewidth\":0,\"ticks\":\"\"},\"colorscale\":[[0.0,\"#0d0887\"],[0.1111111111111111,\"#46039f\"],[0.2222222222222222,\"#7201a8\"],[0.3333333333333333,\"#9c179e\"],[0.4444444444444444,\"#bd3786\"],[0.5555555555555556,\"#d8576b\"],[0.6666666666666666,\"#ed7953\"],[0.7777777777777778,\"#fb9f3a\"],[0.8888888888888888,\"#fdca26\"],[1.0,\"#f0f921\"]],\"type\":\"contour\"}],\"contourcarpet\":[{\"colorbar\":{\"outlinewidth\":0,\"ticks\":\"\"},\"type\":\"contourcarpet\"}],\"heatmap\":[{\"colorbar\":{\"outlinewidth\":0,\"ticks\":\"\"},\"colorscale\":[[0.0,\"#0d0887\"],[0.1111111111111111,\"#46039f\"],[0.2222222222222222,\"#7201a8\"],[0.3333333333333333,\"#9c179e\"],[0.4444444444444444,\"#bd3786\"],[0.5555555555555556,\"#d8576b\"],[0.6666666666666666,\"#ed7953\"],[0.7777777777777778,\"#fb9f3a\"],[0.8888888888888888,\"#fdca26\"],[1.0,\"#f0f921\"]],\"type\":\"heatmap\"}],\"heatmapgl\":[{\"colorbar\":{\"outlinewidth\":0,\"ticks\":\"\"},\"colorscale\":[[0.0,\"#0d0887\"],[0.1111111111111111,\"#46039f\"],[0.2222222222222222,\"#7201a8\"],[0.3333333333333333,\"#9c179e\"],[0.4444444444444444,\"#bd3786\"],[0.5555555555555556,\"#d8576b\"],[0.6666666666666666,\"#ed7953\"],[0.7777777777777778,\"#fb9f3a\"],[0.8888888888888888,\"#fdca26\"],[1.0,\"#f0f921\"]],\"type\":\"heatmapgl\"}],\"histogram\":[{\"marker\":{\"pattern\":{\"fillmode\":\"overlay\",\"size\":10,\"solidity\":0.2}},\"type\":\"histogram\"}],\"histogram2d\":[{\"colorbar\":{\"outlinewidth\":0,\"ticks\":\"\"},\"colorscale\":[[0.0,\"#0d0887\"],[0.1111111111111111,\"#46039f\"],[0.2222222222222222,\"#7201a8\"],[0.3333333333333333,\"#9c179e\"],[0.4444444444444444,\"#bd3786\"],[0.5555555555555556,\"#d8576b\"],[0.6666666666666666,\"#ed7953\"],[0.7777777777777778,\"#fb9f3a\"],[0.8888888888888888,\"#fdca26\"],[1.0,\"#f0f921\"]],\"type\":\"histogram2d\"}],\"histogram2dcontour\":[{\"colorbar\":{\"outlinewidth\":0,\"ticks\":\"\"},\"colorscale\":[[0.0,\"#0d0887\"],[0.1111111111111111,\"#46039f\"],[0.2222222222222222,\"#7201a8\"],[0.3333333333333333,\"#9c179e\"],[0.4444444444444444,\"#bd3786\"],[0.5555555555555556,\"#d8576b\"],[0.6666666666666666,\"#ed7953\"],[0.7777777777777778,\"#fb9f3a\"],[0.8888888888888888,\"#fdca26\"],[1.0,\"#f0f921\"]],\"type\":\"histogram2dcontour\"}],\"mesh3d\":[{\"colorbar\":{\"outlinewidth\":0,\"ticks\":\"\"},\"type\":\"mesh3d\"}],\"parcoords\":[{\"line\":{\"colorbar\":{\"outlinewidth\":0,\"ticks\":\"\"}},\"type\":\"parcoords\"}],\"pie\":[{\"automargin\":true,\"type\":\"pie\"}],\"scatter\":[{\"marker\":{\"colorbar\":{\"outlinewidth\":0,\"ticks\":\"\"}},\"type\":\"scatter\"}],\"scatter3d\":[{\"line\":{\"colorbar\":{\"outlinewidth\":0,\"ticks\":\"\"}},\"marker\":{\"colorbar\":{\"outlinewidth\":0,\"ticks\":\"\"}},\"type\":\"scatter3d\"}],\"scattercarpet\":[{\"marker\":{\"colorbar\":{\"outlinewidth\":0,\"ticks\":\"\"}},\"type\":\"scattercarpet\"}],\"scattergeo\":[{\"marker\":{\"colorbar\":{\"outlinewidth\":0,\"ticks\":\"\"}},\"type\":\"scattergeo\"}],\"scattergl\":[{\"marker\":{\"colorbar\":{\"outlinewidth\":0,\"ticks\":\"\"}},\"type\":\"scattergl\"}],\"scattermapbox\":[{\"marker\":{\"colorbar\":{\"outlinewidth\":0,\"ticks\":\"\"}},\"type\":\"scattermapbox\"}],\"scatterpolar\":[{\"marker\":{\"colorbar\":{\"outlinewidth\":0,\"ticks\":\"\"}},\"type\":\"scatterpolar\"}],\"scatterpolargl\":[{\"marker\":{\"colorbar\":{\"outlinewidth\":0,\"ticks\":\"\"}},\"type\":\"scatterpolargl\"}],\"scatterternary\":[{\"marker\":{\"colorbar\":{\"outlinewidth\":0,\"ticks\":\"\"}},\"type\":\"scatterternary\"}],\"surface\":[{\"colorbar\":{\"outlinewidth\":0,\"ticks\":\"\"},\"colorscale\":[[0.0,\"#0d0887\"],[0.1111111111111111,\"#46039f\"],[0.2222222222222222,\"#7201a8\"],[0.3333333333333333,\"#9c179e\"],[0.4444444444444444,\"#bd3786\"],[0.5555555555555556,\"#d8576b\"],[0.6666666666666666,\"#ed7953\"],[0.7777777777777778,\"#fb9f3a\"],[0.8888888888888888,\"#fdca26\"],[1.0,\"#f0f921\"]],\"type\":\"surface\"}],\"table\":[{\"cells\":{\"fill\":{\"color\":\"#EBF0F8\"},\"line\":{\"color\":\"white\"}},\"header\":{\"fill\":{\"color\":\"#C8D4E3\"},\"line\":{\"color\":\"white\"}},\"type\":\"table\"}]},\"layout\":{\"annotationdefaults\":{\"arrowcolor\":\"#2a3f5f\",\"arrowhead\":0,\"arrowwidth\":1},\"autotypenumbers\":\"strict\",\"coloraxis\":{\"colorbar\":{\"outlinewidth\":0,\"ticks\":\"\"}},\"colorscale\":{\"diverging\":[[0,\"#8e0152\"],[0.1,\"#c51b7d\"],[0.2,\"#de77ae\"],[0.3,\"#f1b6da\"],[0.4,\"#fde0ef\"],[0.5,\"#f7f7f7\"],[0.6,\"#e6f5d0\"],[0.7,\"#b8e186\"],[0.8,\"#7fbc41\"],[0.9,\"#4d9221\"],[1,\"#276419\"]],\"sequential\":[[0.0,\"#0d0887\"],[0.1111111111111111,\"#46039f\"],[0.2222222222222222,\"#7201a8\"],[0.3333333333333333,\"#9c179e\"],[0.4444444444444444,\"#bd3786\"],[0.5555555555555556,\"#d8576b\"],[0.6666666666666666,\"#ed7953\"],[0.7777777777777778,\"#fb9f3a\"],[0.8888888888888888,\"#fdca26\"],[1.0,\"#f0f921\"]],\"sequentialminus\":[[0.0,\"#0d0887\"],[0.1111111111111111,\"#46039f\"],[0.2222222222222222,\"#7201a8\"],[0.3333333333333333,\"#9c179e\"],[0.4444444444444444,\"#bd3786\"],[0.5555555555555556,\"#d8576b\"],[0.6666666666666666,\"#ed7953\"],[0.7777777777777778,\"#fb9f3a\"],[0.8888888888888888,\"#fdca26\"],[1.0,\"#f0f921\"]]},\"colorway\":[\"#636efa\",\"#EF553B\",\"#00cc96\",\"#ab63fa\",\"#FFA15A\",\"#19d3f3\",\"#FF6692\",\"#B6E880\",\"#FF97FF\",\"#FECB52\"],\"font\":{\"color\":\"#2a3f5f\"},\"geo\":{\"bgcolor\":\"white\",\"lakecolor\":\"white\",\"landcolor\":\"#E5ECF6\",\"showlakes\":true,\"showland\":true,\"subunitcolor\":\"white\"},\"hoverlabel\":{\"align\":\"left\"},\"hovermode\":\"closest\",\"mapbox\":{\"style\":\"light\"},\"paper_bgcolor\":\"white\",\"plot_bgcolor\":\"#E5ECF6\",\"polar\":{\"angularaxis\":{\"gridcolor\":\"white\",\"linecolor\":\"white\",\"ticks\":\"\"},\"bgcolor\":\"#E5ECF6\",\"radialaxis\":{\"gridcolor\":\"white\",\"linecolor\":\"white\",\"ticks\":\"\"}},\"scene\":{\"xaxis\":{\"backgroundcolor\":\"#E5ECF6\",\"gridcolor\":\"white\",\"gridwidth\":2,\"linecolor\":\"white\",\"showbackground\":true,\"ticks\":\"\",\"zerolinecolor\":\"white\"},\"yaxis\":{\"backgroundcolor\":\"#E5ECF6\",\"gridcolor\":\"white\",\"gridwidth\":2,\"linecolor\":\"white\",\"showbackground\":true,\"ticks\":\"\",\"zerolinecolor\":\"white\"},\"zaxis\":{\"backgroundcolor\":\"#E5ECF6\",\"gridcolor\":\"white\",\"gridwidth\":2,\"linecolor\":\"white\",\"showbackground\":true,\"ticks\":\"\",\"zerolinecolor\":\"white\"}},\"shapedefaults\":{\"line\":{\"color\":\"#2a3f5f\"}},\"ternary\":{\"aaxis\":{\"gridcolor\":\"white\",\"linecolor\":\"white\",\"ticks\":\"\"},\"baxis\":{\"gridcolor\":\"white\",\"linecolor\":\"white\",\"ticks\":\"\"},\"bgcolor\":\"#E5ECF6\",\"caxis\":{\"gridcolor\":\"white\",\"linecolor\":\"white\",\"ticks\":\"\"}},\"title\":{\"x\":0.05},\"xaxis\":{\"automargin\":true,\"gridcolor\":\"white\",\"linecolor\":\"white\",\"ticks\":\"\",\"title\":{\"standoff\":15},\"zerolinecolor\":\"white\",\"zerolinewidth\":2},\"yaxis\":{\"automargin\":true,\"gridcolor\":\"white\",\"linecolor\":\"white\",\"ticks\":\"\",\"title\":{\"standoff\":15},\"zerolinecolor\":\"white\",\"zerolinewidth\":2}}}},                        {\"responsive\": true}                    ).then(function(){\n",
       "                            \n",
       "var gd = document.getElementById('0fa3567a-a684-4487-acee-c5b7d9b72007');\n",
       "var x = new MutationObserver(function (mutations, observer) {{\n",
       "        var display = window.getComputedStyle(gd).display;\n",
       "        if (!display || display === 'none') {{\n",
       "            console.log([gd, 'removed!']);\n",
       "            Plotly.purge(gd);\n",
       "            observer.disconnect();\n",
       "        }}\n",
       "}});\n",
       "\n",
       "// Listen for the removal of the full notebook cells\n",
       "var notebookContainer = gd.closest('#notebook-container');\n",
       "if (notebookContainer) {{\n",
       "    x.observe(notebookContainer, {childList: true});\n",
       "}}\n",
       "\n",
       "// Listen for the clearing of the current output cell\n",
       "var outputEl = gd.closest('.output');\n",
       "if (outputEl) {{\n",
       "    x.observe(outputEl, {childList: true});\n",
       "}}\n",
       "\n",
       "                        })                };                });            </script>        </div>"
      ]
     },
     "metadata": {},
     "output_type": "display_data"
    }
   ],
   "source": [
    "fig = go.Figure()\n",
    "\n",
    "fig.add_trace(go.Scatter3d(\n",
    "    x = df[(df['esSoporte'] == False) & (df['Clase'] == 'Rojo')]['x'],\n",
    "    y = df[(df['esSoporte'] == False) & (df['Clase'] == 'Rojo')]['y'],\n",
    "    z = df[(df['esSoporte'] == False) & (df['Clase'] == 'Rojo')]['z'],\n",
    "    mode = \"markers\", marker = dict(color = \"red\"),\n",
    "    name = \"Rojo\"\n",
    "))\n",
    "\n",
    "fig.add_trace(go.Scatter3d(\n",
    "    x = df[(df['esSoporte'] == False) & (df['Clase'] == 'Azul')]['x'],\n",
    "    y = df[(df['esSoporte'] == False) & (df['Clase'] == 'Azul')]['y'],\n",
    "    z = df[(df['esSoporte'] == False) & (df['Clase'] == 'Azul')]['z'],\n",
    "    mode = \"markers\", marker = dict(color = \"blue\"),\n",
    "    name = \"Azul\"\n",
    "))\n",
    "\n",
    "fig.add_trace(go.Scatter3d(\n",
    "    x = df[(df['esSoporte'] == True) & (df['Clase'] == 'Rojo')]['x'],\n",
    "    y = df[(df['esSoporte'] == True) & (df['Clase'] == 'Rojo')]['y'],\n",
    "    z = df[(df['esSoporte'] == True) & (df['Clase'] == 'Rojo')]['z'],\n",
    "    mode = \"markers\", marker = dict(color = \"pink\"),\n",
    "    name = \"Soporte Rojo\"\n",
    "))\n",
    "\n",
    "fig.add_trace(go.Scatter3d(\n",
    "    x = df[(df['esSoporte'] == True) & (df['Clase'] == 'Azul')]['x'],\n",
    "    y = df[(df['esSoporte'] == True) & (df['Clase'] == 'Azul')]['y'],\n",
    "    z = df[(df['esSoporte'] == True) & (df['Clase'] == 'Azul')]['z'],\n",
    "    mode = \"markers\", marker = dict(color = \"aqua\"),\n",
    "    name = \"Soporte Azul\"\n",
    "))\n",
    "\n",
    "fig.add_trace(go.Surface(\n",
    "    x = x,\n",
    "    y = y,\n",
    "    z = z_rojo,\n",
    "    opacity = .7, showscale = False, \n",
    "    colorscale = np.repeat('brown', x.size, axis = 0),\n",
    "    name=\"Margen\"\n",
    "))\n",
    "\n",
    "fig.add_trace(go.Surface(\n",
    "    x = x,\n",
    "    y = y,\n",
    "    z = z_azul,\n",
    "    opacity = .7, showscale = False, \n",
    "    colorscale = np.repeat('brown', x.size, axis = 0),\n",
    "    name=\"Margen\"\n",
    "))"
   ]
  },
  {
   "cell_type": "markdown",
   "metadata": {},
   "source": [
    "## 3. Explique por qué un ligero movimiento de la octava observación no afectaría el hiperplano de margen máximo."
   ]
  },
  {
   "cell_type": "code",
   "execution_count": 29,
   "metadata": {},
   "outputs": [
    {
     "data": {
      "text/plain": [
       "x                3\n",
       "y                2\n",
       "z                1\n",
       "Clase         Azul\n",
       "esSoporte    False\n",
       "Name: 7, dtype: object"
      ]
     },
     "execution_count": 29,
     "metadata": {},
     "output_type": "execute_result"
    }
   ],
   "source": [
    "df.iloc[7, :]\n"
   ]
  },
  {
   "cell_type": "code",
   "execution_count": 30,
   "metadata": {},
   "outputs": [
    {
     "data": {
      "text/html": [
       "<div>\n",
       "<style scoped>\n",
       "    .dataframe tbody tr th:only-of-type {\n",
       "        vertical-align: middle;\n",
       "    }\n",
       "\n",
       "    .dataframe tbody tr th {\n",
       "        vertical-align: top;\n",
       "    }\n",
       "\n",
       "    .dataframe thead th {\n",
       "        text-align: right;\n",
       "    }\n",
       "</style>\n",
       "<table border=\"1\" class=\"dataframe\">\n",
       "  <thead>\n",
       "    <tr style=\"text-align: right;\">\n",
       "      <th></th>\n",
       "      <th>x</th>\n",
       "      <th>y</th>\n",
       "      <th>z</th>\n",
       "    </tr>\n",
       "  </thead>\n",
       "  <tbody>\n",
       "    <tr>\n",
       "      <th>0</th>\n",
       "      <td>2</td>\n",
       "      <td>2</td>\n",
       "      <td>1</td>\n",
       "    </tr>\n",
       "    <tr>\n",
       "      <th>1</th>\n",
       "      <td>4</td>\n",
       "      <td>2</td>\n",
       "      <td>1</td>\n",
       "    </tr>\n",
       "    <tr>\n",
       "      <th>2</th>\n",
       "      <td>3</td>\n",
       "      <td>3</td>\n",
       "      <td>1</td>\n",
       "    </tr>\n",
       "    <tr>\n",
       "      <th>3</th>\n",
       "      <td>3</td>\n",
       "      <td>1</td>\n",
       "      <td>1</td>\n",
       "    </tr>\n",
       "    <tr>\n",
       "      <th>4</th>\n",
       "      <td>3</td>\n",
       "      <td>2</td>\n",
       "      <td>2</td>\n",
       "    </tr>\n",
       "    <tr>\n",
       "      <th>5</th>\n",
       "      <td>3</td>\n",
       "      <td>2</td>\n",
       "      <td>2</td>\n",
       "    </tr>\n",
       "  </tbody>\n",
       "</table>\n",
       "</div>"
      ],
      "text/plain": [
       "   x  y  z\n",
       "0  2  2  1\n",
       "1  4  2  1\n",
       "2  3  3  1\n",
       "3  3  1  1\n",
       "4  3  2  2\n",
       "5  3  2  2"
      ]
     },
     "execution_count": 30,
     "metadata": {},
     "output_type": "execute_result"
    }
   ],
   "source": [
    "# Posibles lijeros movimientos de de la octava observación\n",
    "d = {'x': [2, 4, 3, 3, 3, 3], 'y': [2, 2, 3, 1, 2, 2], 'z': [1, 1, 1, 1, 2, 2]}\n",
    "ocatava_observacion = pd.DataFrame(data = d)\n",
    "ocatava_observacion"
   ]
  },
  {
   "cell_type": "code",
   "execution_count": 31,
   "metadata": {},
   "outputs": [
    {
     "data": {
      "application/vnd.plotly.v1+json": {
       "config": {
        "plotlyServerURL": "https://plot.ly"
       },
       "data": [
        {
         "marker": {
          "color": "red"
         },
         "mode": "markers",
         "name": "Rojo",
         "type": "scatter3d",
         "x": [
          1,
          1,
          1,
          3,
          1
         ],
         "y": [
          0,
          0,
          1,
          1,
          1
         ],
         "z": [
          1,
          2,
          2,
          4,
          3
         ]
        },
        {
         "marker": {
          "color": "blue"
         },
         "mode": "markers",
         "name": "Azul",
         "type": "scatter3d",
         "x": [
          3,
          1,
          3,
          1
         ],
         "y": [
          2,
          2,
          2,
          1
         ],
         "z": [
          3,
          1,
          1,
          0
         ]
        },
        {
         "marker": {
          "color": "aqua"
         },
         "mode": "markers",
         "name": "Octava observación",
         "type": "scatter3d",
         "x": [
          2,
          4,
          3,
          3,
          3,
          3
         ],
         "y": [
          2,
          2,
          3,
          1,
          2,
          2
         ],
         "z": [
          1,
          1,
          1,
          1,
          2,
          2
         ]
        },
        {
         "colorscale": [
          [
           0,
           "red"
          ],
          [
           0.041666666666666664,
           "red"
          ],
          [
           0.08333333333333333,
           "red"
          ],
          [
           0.125,
           "red"
          ],
          [
           0.16666666666666666,
           "red"
          ],
          [
           0.20833333333333334,
           "red"
          ],
          [
           0.25,
           "red"
          ],
          [
           0.2916666666666667,
           "red"
          ],
          [
           0.3333333333333333,
           "red"
          ],
          [
           0.375,
           "red"
          ],
          [
           0.4166666666666667,
           "red"
          ],
          [
           0.4583333333333333,
           "red"
          ],
          [
           0.5,
           "red"
          ],
          [
           0.5416666666666666,
           "red"
          ],
          [
           0.5833333333333334,
           "red"
          ],
          [
           0.625,
           "red"
          ],
          [
           0.6666666666666666,
           "red"
          ],
          [
           0.7083333333333334,
           "red"
          ],
          [
           0.75,
           "red"
          ],
          [
           0.7916666666666666,
           "red"
          ],
          [
           0.8333333333333334,
           "red"
          ],
          [
           0.875,
           "red"
          ],
          [
           0.9166666666666666,
           "red"
          ],
          [
           0.9583333333333334,
           "red"
          ],
          [
           1,
           "red"
          ]
         ],
         "opacity": 0.7,
         "showscale": false,
         "type": "surface",
         "x": [
          [
           0,
           1,
           2,
           3,
           4
          ],
          [
           0,
           1,
           2,
           3,
           4
          ],
          [
           0,
           1,
           2,
           3,
           4
          ],
          [
           0,
           1,
           2,
           3,
           4
          ],
          [
           0,
           1,
           2,
           3,
           4
          ]
         ],
         "y": [
          [
           0,
           0,
           0,
           0,
           0
          ],
          [
           1,
           1,
           1,
           1,
           1
          ],
          [
           2,
           2,
           2,
           2,
           2
          ],
          [
           3,
           3,
           3,
           3,
           3
          ],
          [
           4,
           4,
           4,
           4,
           4
          ]
         ],
         "z": [
          [
           0,
           1,
           2,
           3,
           4
          ],
          [
           1,
           2,
           3,
           4,
           5
          ],
          [
           2,
           3,
           4,
           5,
           6
          ],
          [
           3,
           4,
           5,
           6,
           7
          ],
          [
           4,
           5,
           6,
           7,
           8
          ]
         ]
        },
        {
         "colorscale": [
          [
           0,
           "blue"
          ],
          [
           0.041666666666666664,
           "blue"
          ],
          [
           0.08333333333333333,
           "blue"
          ],
          [
           0.125,
           "blue"
          ],
          [
           0.16666666666666666,
           "blue"
          ],
          [
           0.20833333333333334,
           "blue"
          ],
          [
           0.25,
           "blue"
          ],
          [
           0.2916666666666667,
           "blue"
          ],
          [
           0.3333333333333333,
           "blue"
          ],
          [
           0.375,
           "blue"
          ],
          [
           0.4166666666666667,
           "blue"
          ],
          [
           0.4583333333333333,
           "blue"
          ],
          [
           0.5,
           "blue"
          ],
          [
           0.5416666666666666,
           "blue"
          ],
          [
           0.5833333333333334,
           "blue"
          ],
          [
           0.625,
           "blue"
          ],
          [
           0.6666666666666666,
           "blue"
          ],
          [
           0.7083333333333334,
           "blue"
          ],
          [
           0.75,
           "blue"
          ],
          [
           0.7916666666666666,
           "blue"
          ],
          [
           0.8333333333333334,
           "blue"
          ],
          [
           0.875,
           "blue"
          ],
          [
           0.9166666666666666,
           "blue"
          ],
          [
           0.9583333333333334,
           "blue"
          ],
          [
           1,
           "blue"
          ]
         ],
         "opacity": 0.7,
         "showscale": false,
         "type": "surface",
         "x": [
          [
           0,
           1,
           2,
           3,
           4
          ],
          [
           0,
           1,
           2,
           3,
           4
          ],
          [
           0,
           1,
           2,
           3,
           4
          ],
          [
           0,
           1,
           2,
           3,
           4
          ],
          [
           0,
           1,
           2,
           3,
           4
          ]
         ],
         "y": [
          [
           0,
           0,
           0,
           0,
           0
          ],
          [
           1,
           1,
           1,
           1,
           1
          ],
          [
           2,
           2,
           2,
           2,
           2
          ],
          [
           3,
           3,
           3,
           3,
           3
          ],
          [
           4,
           4,
           4,
           4,
           4
          ]
         ],
         "z": [
          [
           -2,
           -1,
           0,
           1,
           2
          ],
          [
           -1,
           0,
           1,
           2,
           3
          ],
          [
           0,
           1,
           2,
           3,
           4
          ],
          [
           1,
           2,
           3,
           4,
           5
          ],
          [
           2,
           3,
           4,
           5,
           6
          ]
         ]
        },
        {
         "colorscale": [
          [
           0,
           "green"
          ],
          [
           0.041666666666666664,
           "green"
          ],
          [
           0.08333333333333333,
           "green"
          ],
          [
           0.125,
           "green"
          ],
          [
           0.16666666666666666,
           "green"
          ],
          [
           0.20833333333333334,
           "green"
          ],
          [
           0.25,
           "green"
          ],
          [
           0.2916666666666667,
           "green"
          ],
          [
           0.3333333333333333,
           "green"
          ],
          [
           0.375,
           "green"
          ],
          [
           0.4166666666666667,
           "green"
          ],
          [
           0.4583333333333333,
           "green"
          ],
          [
           0.5,
           "green"
          ],
          [
           0.5416666666666666,
           "green"
          ],
          [
           0.5833333333333334,
           "green"
          ],
          [
           0.625,
           "green"
          ],
          [
           0.6666666666666666,
           "green"
          ],
          [
           0.7083333333333334,
           "green"
          ],
          [
           0.75,
           "green"
          ],
          [
           0.7916666666666666,
           "green"
          ],
          [
           0.8333333333333334,
           "green"
          ],
          [
           0.875,
           "green"
          ],
          [
           0.9166666666666666,
           "green"
          ],
          [
           0.9583333333333334,
           "green"
          ],
          [
           1,
           "green"
          ]
         ],
         "opacity": 0.7,
         "showscale": false,
         "type": "surface",
         "x": [
          [
           0,
           1,
           2,
           3,
           4
          ],
          [
           0,
           1,
           2,
           3,
           4
          ],
          [
           0,
           1,
           2,
           3,
           4
          ],
          [
           0,
           1,
           2,
           3,
           4
          ],
          [
           0,
           1,
           2,
           3,
           4
          ]
         ],
         "y": [
          [
           0,
           0,
           0,
           0,
           0
          ],
          [
           1,
           1,
           1,
           1,
           1
          ],
          [
           2,
           2,
           2,
           2,
           2
          ],
          [
           3,
           3,
           3,
           3,
           3
          ],
          [
           4,
           4,
           4,
           4,
           4
          ]
         ],
         "z": [
          [
           -1,
           0,
           1,
           2,
           3
          ],
          [
           0,
           1,
           2,
           3,
           4
          ],
          [
           1,
           2,
           3,
           4,
           5
          ],
          [
           2,
           3,
           4,
           5,
           6
          ],
          [
           3,
           4,
           5,
           6,
           7
          ]
         ]
        }
       ],
       "layout": {
        "template": {
         "data": {
          "bar": [
           {
            "error_x": {
             "color": "#2a3f5f"
            },
            "error_y": {
             "color": "#2a3f5f"
            },
            "marker": {
             "line": {
              "color": "#E5ECF6",
              "width": 0.5
             },
             "pattern": {
              "fillmode": "overlay",
              "size": 10,
              "solidity": 0.2
             }
            },
            "type": "bar"
           }
          ],
          "barpolar": [
           {
            "marker": {
             "line": {
              "color": "#E5ECF6",
              "width": 0.5
             },
             "pattern": {
              "fillmode": "overlay",
              "size": 10,
              "solidity": 0.2
             }
            },
            "type": "barpolar"
           }
          ],
          "carpet": [
           {
            "aaxis": {
             "endlinecolor": "#2a3f5f",
             "gridcolor": "white",
             "linecolor": "white",
             "minorgridcolor": "white",
             "startlinecolor": "#2a3f5f"
            },
            "baxis": {
             "endlinecolor": "#2a3f5f",
             "gridcolor": "white",
             "linecolor": "white",
             "minorgridcolor": "white",
             "startlinecolor": "#2a3f5f"
            },
            "type": "carpet"
           }
          ],
          "choropleth": [
           {
            "colorbar": {
             "outlinewidth": 0,
             "ticks": ""
            },
            "type": "choropleth"
           }
          ],
          "contour": [
           {
            "colorbar": {
             "outlinewidth": 0,
             "ticks": ""
            },
            "colorscale": [
             [
              0,
              "#0d0887"
             ],
             [
              0.1111111111111111,
              "#46039f"
             ],
             [
              0.2222222222222222,
              "#7201a8"
             ],
             [
              0.3333333333333333,
              "#9c179e"
             ],
             [
              0.4444444444444444,
              "#bd3786"
             ],
             [
              0.5555555555555556,
              "#d8576b"
             ],
             [
              0.6666666666666666,
              "#ed7953"
             ],
             [
              0.7777777777777778,
              "#fb9f3a"
             ],
             [
              0.8888888888888888,
              "#fdca26"
             ],
             [
              1,
              "#f0f921"
             ]
            ],
            "type": "contour"
           }
          ],
          "contourcarpet": [
           {
            "colorbar": {
             "outlinewidth": 0,
             "ticks": ""
            },
            "type": "contourcarpet"
           }
          ],
          "heatmap": [
           {
            "colorbar": {
             "outlinewidth": 0,
             "ticks": ""
            },
            "colorscale": [
             [
              0,
              "#0d0887"
             ],
             [
              0.1111111111111111,
              "#46039f"
             ],
             [
              0.2222222222222222,
              "#7201a8"
             ],
             [
              0.3333333333333333,
              "#9c179e"
             ],
             [
              0.4444444444444444,
              "#bd3786"
             ],
             [
              0.5555555555555556,
              "#d8576b"
             ],
             [
              0.6666666666666666,
              "#ed7953"
             ],
             [
              0.7777777777777778,
              "#fb9f3a"
             ],
             [
              0.8888888888888888,
              "#fdca26"
             ],
             [
              1,
              "#f0f921"
             ]
            ],
            "type": "heatmap"
           }
          ],
          "heatmapgl": [
           {
            "colorbar": {
             "outlinewidth": 0,
             "ticks": ""
            },
            "colorscale": [
             [
              0,
              "#0d0887"
             ],
             [
              0.1111111111111111,
              "#46039f"
             ],
             [
              0.2222222222222222,
              "#7201a8"
             ],
             [
              0.3333333333333333,
              "#9c179e"
             ],
             [
              0.4444444444444444,
              "#bd3786"
             ],
             [
              0.5555555555555556,
              "#d8576b"
             ],
             [
              0.6666666666666666,
              "#ed7953"
             ],
             [
              0.7777777777777778,
              "#fb9f3a"
             ],
             [
              0.8888888888888888,
              "#fdca26"
             ],
             [
              1,
              "#f0f921"
             ]
            ],
            "type": "heatmapgl"
           }
          ],
          "histogram": [
           {
            "marker": {
             "pattern": {
              "fillmode": "overlay",
              "size": 10,
              "solidity": 0.2
             }
            },
            "type": "histogram"
           }
          ],
          "histogram2d": [
           {
            "colorbar": {
             "outlinewidth": 0,
             "ticks": ""
            },
            "colorscale": [
             [
              0,
              "#0d0887"
             ],
             [
              0.1111111111111111,
              "#46039f"
             ],
             [
              0.2222222222222222,
              "#7201a8"
             ],
             [
              0.3333333333333333,
              "#9c179e"
             ],
             [
              0.4444444444444444,
              "#bd3786"
             ],
             [
              0.5555555555555556,
              "#d8576b"
             ],
             [
              0.6666666666666666,
              "#ed7953"
             ],
             [
              0.7777777777777778,
              "#fb9f3a"
             ],
             [
              0.8888888888888888,
              "#fdca26"
             ],
             [
              1,
              "#f0f921"
             ]
            ],
            "type": "histogram2d"
           }
          ],
          "histogram2dcontour": [
           {
            "colorbar": {
             "outlinewidth": 0,
             "ticks": ""
            },
            "colorscale": [
             [
              0,
              "#0d0887"
             ],
             [
              0.1111111111111111,
              "#46039f"
             ],
             [
              0.2222222222222222,
              "#7201a8"
             ],
             [
              0.3333333333333333,
              "#9c179e"
             ],
             [
              0.4444444444444444,
              "#bd3786"
             ],
             [
              0.5555555555555556,
              "#d8576b"
             ],
             [
              0.6666666666666666,
              "#ed7953"
             ],
             [
              0.7777777777777778,
              "#fb9f3a"
             ],
             [
              0.8888888888888888,
              "#fdca26"
             ],
             [
              1,
              "#f0f921"
             ]
            ],
            "type": "histogram2dcontour"
           }
          ],
          "mesh3d": [
           {
            "colorbar": {
             "outlinewidth": 0,
             "ticks": ""
            },
            "type": "mesh3d"
           }
          ],
          "parcoords": [
           {
            "line": {
             "colorbar": {
              "outlinewidth": 0,
              "ticks": ""
             }
            },
            "type": "parcoords"
           }
          ],
          "pie": [
           {
            "automargin": true,
            "type": "pie"
           }
          ],
          "scatter": [
           {
            "marker": {
             "colorbar": {
              "outlinewidth": 0,
              "ticks": ""
             }
            },
            "type": "scatter"
           }
          ],
          "scatter3d": [
           {
            "line": {
             "colorbar": {
              "outlinewidth": 0,
              "ticks": ""
             }
            },
            "marker": {
             "colorbar": {
              "outlinewidth": 0,
              "ticks": ""
             }
            },
            "type": "scatter3d"
           }
          ],
          "scattercarpet": [
           {
            "marker": {
             "colorbar": {
              "outlinewidth": 0,
              "ticks": ""
             }
            },
            "type": "scattercarpet"
           }
          ],
          "scattergeo": [
           {
            "marker": {
             "colorbar": {
              "outlinewidth": 0,
              "ticks": ""
             }
            },
            "type": "scattergeo"
           }
          ],
          "scattergl": [
           {
            "marker": {
             "colorbar": {
              "outlinewidth": 0,
              "ticks": ""
             }
            },
            "type": "scattergl"
           }
          ],
          "scattermapbox": [
           {
            "marker": {
             "colorbar": {
              "outlinewidth": 0,
              "ticks": ""
             }
            },
            "type": "scattermapbox"
           }
          ],
          "scatterpolar": [
           {
            "marker": {
             "colorbar": {
              "outlinewidth": 0,
              "ticks": ""
             }
            },
            "type": "scatterpolar"
           }
          ],
          "scatterpolargl": [
           {
            "marker": {
             "colorbar": {
              "outlinewidth": 0,
              "ticks": ""
             }
            },
            "type": "scatterpolargl"
           }
          ],
          "scatterternary": [
           {
            "marker": {
             "colorbar": {
              "outlinewidth": 0,
              "ticks": ""
             }
            },
            "type": "scatterternary"
           }
          ],
          "surface": [
           {
            "colorbar": {
             "outlinewidth": 0,
             "ticks": ""
            },
            "colorscale": [
             [
              0,
              "#0d0887"
             ],
             [
              0.1111111111111111,
              "#46039f"
             ],
             [
              0.2222222222222222,
              "#7201a8"
             ],
             [
              0.3333333333333333,
              "#9c179e"
             ],
             [
              0.4444444444444444,
              "#bd3786"
             ],
             [
              0.5555555555555556,
              "#d8576b"
             ],
             [
              0.6666666666666666,
              "#ed7953"
             ],
             [
              0.7777777777777778,
              "#fb9f3a"
             ],
             [
              0.8888888888888888,
              "#fdca26"
             ],
             [
              1,
              "#f0f921"
             ]
            ],
            "type": "surface"
           }
          ],
          "table": [
           {
            "cells": {
             "fill": {
              "color": "#EBF0F8"
             },
             "line": {
              "color": "white"
             }
            },
            "header": {
             "fill": {
              "color": "#C8D4E3"
             },
             "line": {
              "color": "white"
             }
            },
            "type": "table"
           }
          ]
         },
         "layout": {
          "annotationdefaults": {
           "arrowcolor": "#2a3f5f",
           "arrowhead": 0,
           "arrowwidth": 1
          },
          "autotypenumbers": "strict",
          "coloraxis": {
           "colorbar": {
            "outlinewidth": 0,
            "ticks": ""
           }
          },
          "colorscale": {
           "diverging": [
            [
             0,
             "#8e0152"
            ],
            [
             0.1,
             "#c51b7d"
            ],
            [
             0.2,
             "#de77ae"
            ],
            [
             0.3,
             "#f1b6da"
            ],
            [
             0.4,
             "#fde0ef"
            ],
            [
             0.5,
             "#f7f7f7"
            ],
            [
             0.6,
             "#e6f5d0"
            ],
            [
             0.7,
             "#b8e186"
            ],
            [
             0.8,
             "#7fbc41"
            ],
            [
             0.9,
             "#4d9221"
            ],
            [
             1,
             "#276419"
            ]
           ],
           "sequential": [
            [
             0,
             "#0d0887"
            ],
            [
             0.1111111111111111,
             "#46039f"
            ],
            [
             0.2222222222222222,
             "#7201a8"
            ],
            [
             0.3333333333333333,
             "#9c179e"
            ],
            [
             0.4444444444444444,
             "#bd3786"
            ],
            [
             0.5555555555555556,
             "#d8576b"
            ],
            [
             0.6666666666666666,
             "#ed7953"
            ],
            [
             0.7777777777777778,
             "#fb9f3a"
            ],
            [
             0.8888888888888888,
             "#fdca26"
            ],
            [
             1,
             "#f0f921"
            ]
           ],
           "sequentialminus": [
            [
             0,
             "#0d0887"
            ],
            [
             0.1111111111111111,
             "#46039f"
            ],
            [
             0.2222222222222222,
             "#7201a8"
            ],
            [
             0.3333333333333333,
             "#9c179e"
            ],
            [
             0.4444444444444444,
             "#bd3786"
            ],
            [
             0.5555555555555556,
             "#d8576b"
            ],
            [
             0.6666666666666666,
             "#ed7953"
            ],
            [
             0.7777777777777778,
             "#fb9f3a"
            ],
            [
             0.8888888888888888,
             "#fdca26"
            ],
            [
             1,
             "#f0f921"
            ]
           ]
          },
          "colorway": [
           "#636efa",
           "#EF553B",
           "#00cc96",
           "#ab63fa",
           "#FFA15A",
           "#19d3f3",
           "#FF6692",
           "#B6E880",
           "#FF97FF",
           "#FECB52"
          ],
          "font": {
           "color": "#2a3f5f"
          },
          "geo": {
           "bgcolor": "white",
           "lakecolor": "white",
           "landcolor": "#E5ECF6",
           "showlakes": true,
           "showland": true,
           "subunitcolor": "white"
          },
          "hoverlabel": {
           "align": "left"
          },
          "hovermode": "closest",
          "mapbox": {
           "style": "light"
          },
          "paper_bgcolor": "white",
          "plot_bgcolor": "#E5ECF6",
          "polar": {
           "angularaxis": {
            "gridcolor": "white",
            "linecolor": "white",
            "ticks": ""
           },
           "bgcolor": "#E5ECF6",
           "radialaxis": {
            "gridcolor": "white",
            "linecolor": "white",
            "ticks": ""
           }
          },
          "scene": {
           "xaxis": {
            "backgroundcolor": "#E5ECF6",
            "gridcolor": "white",
            "gridwidth": 2,
            "linecolor": "white",
            "showbackground": true,
            "ticks": "",
            "zerolinecolor": "white"
           },
           "yaxis": {
            "backgroundcolor": "#E5ECF6",
            "gridcolor": "white",
            "gridwidth": 2,
            "linecolor": "white",
            "showbackground": true,
            "ticks": "",
            "zerolinecolor": "white"
           },
           "zaxis": {
            "backgroundcolor": "#E5ECF6",
            "gridcolor": "white",
            "gridwidth": 2,
            "linecolor": "white",
            "showbackground": true,
            "ticks": "",
            "zerolinecolor": "white"
           }
          },
          "shapedefaults": {
           "line": {
            "color": "#2a3f5f"
           }
          },
          "ternary": {
           "aaxis": {
            "gridcolor": "white",
            "linecolor": "white",
            "ticks": ""
           },
           "baxis": {
            "gridcolor": "white",
            "linecolor": "white",
            "ticks": ""
           },
           "bgcolor": "#E5ECF6",
           "caxis": {
            "gridcolor": "white",
            "linecolor": "white",
            "ticks": ""
           }
          },
          "title": {
           "x": 0.05
          },
          "xaxis": {
           "automargin": true,
           "gridcolor": "white",
           "linecolor": "white",
           "ticks": "",
           "title": {
            "standoff": 15
           },
           "zerolinecolor": "white",
           "zerolinewidth": 2
          },
          "yaxis": {
           "automargin": true,
           "gridcolor": "white",
           "linecolor": "white",
           "ticks": "",
           "title": {
            "standoff": 15
           },
           "zerolinecolor": "white",
           "zerolinewidth": 2
          }
         }
        }
       }
      },
      "text/html": [
       "<div>                            <div id=\"4563f055-d377-4a29-952d-d1d5b0210482\" class=\"plotly-graph-div\" style=\"height:525px; width:100%;\"></div>            <script type=\"text/javascript\">                require([\"plotly\"], function(Plotly) {                    window.PLOTLYENV=window.PLOTLYENV || {};                                    if (document.getElementById(\"4563f055-d377-4a29-952d-d1d5b0210482\")) {                    Plotly.newPlot(                        \"4563f055-d377-4a29-952d-d1d5b0210482\",                        [{\"marker\":{\"color\":\"red\"},\"mode\":\"markers\",\"name\":\"Rojo\",\"type\":\"scatter3d\",\"x\":[1,1,1,3,1],\"y\":[0,0,1,1,1],\"z\":[1,2,2,4,3]},{\"marker\":{\"color\":\"blue\"},\"mode\":\"markers\",\"name\":\"Azul\",\"type\":\"scatter3d\",\"x\":[3,1,3,1],\"y\":[2,2,2,1],\"z\":[3,1,1,0]},{\"marker\":{\"color\":\"aqua\"},\"mode\":\"markers\",\"name\":\"Octava observaci\\u00f3n\",\"type\":\"scatter3d\",\"x\":[2,4,3,3,3,3],\"y\":[2,2,3,1,2,2],\"z\":[1,1,1,1,2,2]},{\"colorscale\":[[0.0,\"red\"],[0.041666666666666664,\"red\"],[0.08333333333333333,\"red\"],[0.125,\"red\"],[0.16666666666666666,\"red\"],[0.20833333333333334,\"red\"],[0.25,\"red\"],[0.2916666666666667,\"red\"],[0.3333333333333333,\"red\"],[0.375,\"red\"],[0.4166666666666667,\"red\"],[0.4583333333333333,\"red\"],[0.5,\"red\"],[0.5416666666666666,\"red\"],[0.5833333333333334,\"red\"],[0.625,\"red\"],[0.6666666666666666,\"red\"],[0.7083333333333334,\"red\"],[0.75,\"red\"],[0.7916666666666666,\"red\"],[0.8333333333333334,\"red\"],[0.875,\"red\"],[0.9166666666666666,\"red\"],[0.9583333333333334,\"red\"],[1.0,\"red\"]],\"opacity\":0.7,\"showscale\":false,\"type\":\"surface\",\"x\":[[0,1,2,3,4],[0,1,2,3,4],[0,1,2,3,4],[0,1,2,3,4],[0,1,2,3,4]],\"y\":[[0,0,0,0,0],[1,1,1,1,1],[2,2,2,2,2],[3,3,3,3,3],[4,4,4,4,4]],\"z\":[[0,1,2,3,4],[1,2,3,4,5],[2,3,4,5,6],[3,4,5,6,7],[4,5,6,7,8]]},{\"colorscale\":[[0.0,\"blue\"],[0.041666666666666664,\"blue\"],[0.08333333333333333,\"blue\"],[0.125,\"blue\"],[0.16666666666666666,\"blue\"],[0.20833333333333334,\"blue\"],[0.25,\"blue\"],[0.2916666666666667,\"blue\"],[0.3333333333333333,\"blue\"],[0.375,\"blue\"],[0.4166666666666667,\"blue\"],[0.4583333333333333,\"blue\"],[0.5,\"blue\"],[0.5416666666666666,\"blue\"],[0.5833333333333334,\"blue\"],[0.625,\"blue\"],[0.6666666666666666,\"blue\"],[0.7083333333333334,\"blue\"],[0.75,\"blue\"],[0.7916666666666666,\"blue\"],[0.8333333333333334,\"blue\"],[0.875,\"blue\"],[0.9166666666666666,\"blue\"],[0.9583333333333334,\"blue\"],[1.0,\"blue\"]],\"opacity\":0.7,\"showscale\":false,\"type\":\"surface\",\"x\":[[0,1,2,3,4],[0,1,2,3,4],[0,1,2,3,4],[0,1,2,3,4],[0,1,2,3,4]],\"y\":[[0,0,0,0,0],[1,1,1,1,1],[2,2,2,2,2],[3,3,3,3,3],[4,4,4,4,4]],\"z\":[[-2,-1,0,1,2],[-1,0,1,2,3],[0,1,2,3,4],[1,2,3,4,5],[2,3,4,5,6]]},{\"colorscale\":[[0.0,\"green\"],[0.041666666666666664,\"green\"],[0.08333333333333333,\"green\"],[0.125,\"green\"],[0.16666666666666666,\"green\"],[0.20833333333333334,\"green\"],[0.25,\"green\"],[0.2916666666666667,\"green\"],[0.3333333333333333,\"green\"],[0.375,\"green\"],[0.4166666666666667,\"green\"],[0.4583333333333333,\"green\"],[0.5,\"green\"],[0.5416666666666666,\"green\"],[0.5833333333333334,\"green\"],[0.625,\"green\"],[0.6666666666666666,\"green\"],[0.7083333333333334,\"green\"],[0.75,\"green\"],[0.7916666666666666,\"green\"],[0.8333333333333334,\"green\"],[0.875,\"green\"],[0.9166666666666666,\"green\"],[0.9583333333333334,\"green\"],[1.0,\"green\"]],\"opacity\":0.7,\"showscale\":false,\"type\":\"surface\",\"x\":[[0,1,2,3,4],[0,1,2,3,4],[0,1,2,3,4],[0,1,2,3,4],[0,1,2,3,4]],\"y\":[[0,0,0,0,0],[1,1,1,1,1],[2,2,2,2,2],[3,3,3,3,3],[4,4,4,4,4]],\"z\":[[-1,0,1,2,3],[0,1,2,3,4],[1,2,3,4,5],[2,3,4,5,6],[3,4,5,6,7]]}],                        {\"template\":{\"data\":{\"bar\":[{\"error_x\":{\"color\":\"#2a3f5f\"},\"error_y\":{\"color\":\"#2a3f5f\"},\"marker\":{\"line\":{\"color\":\"#E5ECF6\",\"width\":0.5},\"pattern\":{\"fillmode\":\"overlay\",\"size\":10,\"solidity\":0.2}},\"type\":\"bar\"}],\"barpolar\":[{\"marker\":{\"line\":{\"color\":\"#E5ECF6\",\"width\":0.5},\"pattern\":{\"fillmode\":\"overlay\",\"size\":10,\"solidity\":0.2}},\"type\":\"barpolar\"}],\"carpet\":[{\"aaxis\":{\"endlinecolor\":\"#2a3f5f\",\"gridcolor\":\"white\",\"linecolor\":\"white\",\"minorgridcolor\":\"white\",\"startlinecolor\":\"#2a3f5f\"},\"baxis\":{\"endlinecolor\":\"#2a3f5f\",\"gridcolor\":\"white\",\"linecolor\":\"white\",\"minorgridcolor\":\"white\",\"startlinecolor\":\"#2a3f5f\"},\"type\":\"carpet\"}],\"choropleth\":[{\"colorbar\":{\"outlinewidth\":0,\"ticks\":\"\"},\"type\":\"choropleth\"}],\"contour\":[{\"colorbar\":{\"outlinewidth\":0,\"ticks\":\"\"},\"colorscale\":[[0.0,\"#0d0887\"],[0.1111111111111111,\"#46039f\"],[0.2222222222222222,\"#7201a8\"],[0.3333333333333333,\"#9c179e\"],[0.4444444444444444,\"#bd3786\"],[0.5555555555555556,\"#d8576b\"],[0.6666666666666666,\"#ed7953\"],[0.7777777777777778,\"#fb9f3a\"],[0.8888888888888888,\"#fdca26\"],[1.0,\"#f0f921\"]],\"type\":\"contour\"}],\"contourcarpet\":[{\"colorbar\":{\"outlinewidth\":0,\"ticks\":\"\"},\"type\":\"contourcarpet\"}],\"heatmap\":[{\"colorbar\":{\"outlinewidth\":0,\"ticks\":\"\"},\"colorscale\":[[0.0,\"#0d0887\"],[0.1111111111111111,\"#46039f\"],[0.2222222222222222,\"#7201a8\"],[0.3333333333333333,\"#9c179e\"],[0.4444444444444444,\"#bd3786\"],[0.5555555555555556,\"#d8576b\"],[0.6666666666666666,\"#ed7953\"],[0.7777777777777778,\"#fb9f3a\"],[0.8888888888888888,\"#fdca26\"],[1.0,\"#f0f921\"]],\"type\":\"heatmap\"}],\"heatmapgl\":[{\"colorbar\":{\"outlinewidth\":0,\"ticks\":\"\"},\"colorscale\":[[0.0,\"#0d0887\"],[0.1111111111111111,\"#46039f\"],[0.2222222222222222,\"#7201a8\"],[0.3333333333333333,\"#9c179e\"],[0.4444444444444444,\"#bd3786\"],[0.5555555555555556,\"#d8576b\"],[0.6666666666666666,\"#ed7953\"],[0.7777777777777778,\"#fb9f3a\"],[0.8888888888888888,\"#fdca26\"],[1.0,\"#f0f921\"]],\"type\":\"heatmapgl\"}],\"histogram\":[{\"marker\":{\"pattern\":{\"fillmode\":\"overlay\",\"size\":10,\"solidity\":0.2}},\"type\":\"histogram\"}],\"histogram2d\":[{\"colorbar\":{\"outlinewidth\":0,\"ticks\":\"\"},\"colorscale\":[[0.0,\"#0d0887\"],[0.1111111111111111,\"#46039f\"],[0.2222222222222222,\"#7201a8\"],[0.3333333333333333,\"#9c179e\"],[0.4444444444444444,\"#bd3786\"],[0.5555555555555556,\"#d8576b\"],[0.6666666666666666,\"#ed7953\"],[0.7777777777777778,\"#fb9f3a\"],[0.8888888888888888,\"#fdca26\"],[1.0,\"#f0f921\"]],\"type\":\"histogram2d\"}],\"histogram2dcontour\":[{\"colorbar\":{\"outlinewidth\":0,\"ticks\":\"\"},\"colorscale\":[[0.0,\"#0d0887\"],[0.1111111111111111,\"#46039f\"],[0.2222222222222222,\"#7201a8\"],[0.3333333333333333,\"#9c179e\"],[0.4444444444444444,\"#bd3786\"],[0.5555555555555556,\"#d8576b\"],[0.6666666666666666,\"#ed7953\"],[0.7777777777777778,\"#fb9f3a\"],[0.8888888888888888,\"#fdca26\"],[1.0,\"#f0f921\"]],\"type\":\"histogram2dcontour\"}],\"mesh3d\":[{\"colorbar\":{\"outlinewidth\":0,\"ticks\":\"\"},\"type\":\"mesh3d\"}],\"parcoords\":[{\"line\":{\"colorbar\":{\"outlinewidth\":0,\"ticks\":\"\"}},\"type\":\"parcoords\"}],\"pie\":[{\"automargin\":true,\"type\":\"pie\"}],\"scatter\":[{\"marker\":{\"colorbar\":{\"outlinewidth\":0,\"ticks\":\"\"}},\"type\":\"scatter\"}],\"scatter3d\":[{\"line\":{\"colorbar\":{\"outlinewidth\":0,\"ticks\":\"\"}},\"marker\":{\"colorbar\":{\"outlinewidth\":0,\"ticks\":\"\"}},\"type\":\"scatter3d\"}],\"scattercarpet\":[{\"marker\":{\"colorbar\":{\"outlinewidth\":0,\"ticks\":\"\"}},\"type\":\"scattercarpet\"}],\"scattergeo\":[{\"marker\":{\"colorbar\":{\"outlinewidth\":0,\"ticks\":\"\"}},\"type\":\"scattergeo\"}],\"scattergl\":[{\"marker\":{\"colorbar\":{\"outlinewidth\":0,\"ticks\":\"\"}},\"type\":\"scattergl\"}],\"scattermapbox\":[{\"marker\":{\"colorbar\":{\"outlinewidth\":0,\"ticks\":\"\"}},\"type\":\"scattermapbox\"}],\"scatterpolar\":[{\"marker\":{\"colorbar\":{\"outlinewidth\":0,\"ticks\":\"\"}},\"type\":\"scatterpolar\"}],\"scatterpolargl\":[{\"marker\":{\"colorbar\":{\"outlinewidth\":0,\"ticks\":\"\"}},\"type\":\"scatterpolargl\"}],\"scatterternary\":[{\"marker\":{\"colorbar\":{\"outlinewidth\":0,\"ticks\":\"\"}},\"type\":\"scatterternary\"}],\"surface\":[{\"colorbar\":{\"outlinewidth\":0,\"ticks\":\"\"},\"colorscale\":[[0.0,\"#0d0887\"],[0.1111111111111111,\"#46039f\"],[0.2222222222222222,\"#7201a8\"],[0.3333333333333333,\"#9c179e\"],[0.4444444444444444,\"#bd3786\"],[0.5555555555555556,\"#d8576b\"],[0.6666666666666666,\"#ed7953\"],[0.7777777777777778,\"#fb9f3a\"],[0.8888888888888888,\"#fdca26\"],[1.0,\"#f0f921\"]],\"type\":\"surface\"}],\"table\":[{\"cells\":{\"fill\":{\"color\":\"#EBF0F8\"},\"line\":{\"color\":\"white\"}},\"header\":{\"fill\":{\"color\":\"#C8D4E3\"},\"line\":{\"color\":\"white\"}},\"type\":\"table\"}]},\"layout\":{\"annotationdefaults\":{\"arrowcolor\":\"#2a3f5f\",\"arrowhead\":0,\"arrowwidth\":1},\"autotypenumbers\":\"strict\",\"coloraxis\":{\"colorbar\":{\"outlinewidth\":0,\"ticks\":\"\"}},\"colorscale\":{\"diverging\":[[0,\"#8e0152\"],[0.1,\"#c51b7d\"],[0.2,\"#de77ae\"],[0.3,\"#f1b6da\"],[0.4,\"#fde0ef\"],[0.5,\"#f7f7f7\"],[0.6,\"#e6f5d0\"],[0.7,\"#b8e186\"],[0.8,\"#7fbc41\"],[0.9,\"#4d9221\"],[1,\"#276419\"]],\"sequential\":[[0.0,\"#0d0887\"],[0.1111111111111111,\"#46039f\"],[0.2222222222222222,\"#7201a8\"],[0.3333333333333333,\"#9c179e\"],[0.4444444444444444,\"#bd3786\"],[0.5555555555555556,\"#d8576b\"],[0.6666666666666666,\"#ed7953\"],[0.7777777777777778,\"#fb9f3a\"],[0.8888888888888888,\"#fdca26\"],[1.0,\"#f0f921\"]],\"sequentialminus\":[[0.0,\"#0d0887\"],[0.1111111111111111,\"#46039f\"],[0.2222222222222222,\"#7201a8\"],[0.3333333333333333,\"#9c179e\"],[0.4444444444444444,\"#bd3786\"],[0.5555555555555556,\"#d8576b\"],[0.6666666666666666,\"#ed7953\"],[0.7777777777777778,\"#fb9f3a\"],[0.8888888888888888,\"#fdca26\"],[1.0,\"#f0f921\"]]},\"colorway\":[\"#636efa\",\"#EF553B\",\"#00cc96\",\"#ab63fa\",\"#FFA15A\",\"#19d3f3\",\"#FF6692\",\"#B6E880\",\"#FF97FF\",\"#FECB52\"],\"font\":{\"color\":\"#2a3f5f\"},\"geo\":{\"bgcolor\":\"white\",\"lakecolor\":\"white\",\"landcolor\":\"#E5ECF6\",\"showlakes\":true,\"showland\":true,\"subunitcolor\":\"white\"},\"hoverlabel\":{\"align\":\"left\"},\"hovermode\":\"closest\",\"mapbox\":{\"style\":\"light\"},\"paper_bgcolor\":\"white\",\"plot_bgcolor\":\"#E5ECF6\",\"polar\":{\"angularaxis\":{\"gridcolor\":\"white\",\"linecolor\":\"white\",\"ticks\":\"\"},\"bgcolor\":\"#E5ECF6\",\"radialaxis\":{\"gridcolor\":\"white\",\"linecolor\":\"white\",\"ticks\":\"\"}},\"scene\":{\"xaxis\":{\"backgroundcolor\":\"#E5ECF6\",\"gridcolor\":\"white\",\"gridwidth\":2,\"linecolor\":\"white\",\"showbackground\":true,\"ticks\":\"\",\"zerolinecolor\":\"white\"},\"yaxis\":{\"backgroundcolor\":\"#E5ECF6\",\"gridcolor\":\"white\",\"gridwidth\":2,\"linecolor\":\"white\",\"showbackground\":true,\"ticks\":\"\",\"zerolinecolor\":\"white\"},\"zaxis\":{\"backgroundcolor\":\"#E5ECF6\",\"gridcolor\":\"white\",\"gridwidth\":2,\"linecolor\":\"white\",\"showbackground\":true,\"ticks\":\"\",\"zerolinecolor\":\"white\"}},\"shapedefaults\":{\"line\":{\"color\":\"#2a3f5f\"}},\"ternary\":{\"aaxis\":{\"gridcolor\":\"white\",\"linecolor\":\"white\",\"ticks\":\"\"},\"baxis\":{\"gridcolor\":\"white\",\"linecolor\":\"white\",\"ticks\":\"\"},\"bgcolor\":\"#E5ECF6\",\"caxis\":{\"gridcolor\":\"white\",\"linecolor\":\"white\",\"ticks\":\"\"}},\"title\":{\"x\":0.05},\"xaxis\":{\"automargin\":true,\"gridcolor\":\"white\",\"linecolor\":\"white\",\"ticks\":\"\",\"title\":{\"standoff\":15},\"zerolinecolor\":\"white\",\"zerolinewidth\":2},\"yaxis\":{\"automargin\":true,\"gridcolor\":\"white\",\"linecolor\":\"white\",\"ticks\":\"\",\"title\":{\"standoff\":15},\"zerolinecolor\":\"white\",\"zerolinewidth\":2}}}},                        {\"responsive\": true}                    ).then(function(){\n",
       "                            \n",
       "var gd = document.getElementById('4563f055-d377-4a29-952d-d1d5b0210482');\n",
       "var x = new MutationObserver(function (mutations, observer) {{\n",
       "        var display = window.getComputedStyle(gd).display;\n",
       "        if (!display || display === 'none') {{\n",
       "            console.log([gd, 'removed!']);\n",
       "            Plotly.purge(gd);\n",
       "            observer.disconnect();\n",
       "        }}\n",
       "}});\n",
       "\n",
       "// Listen for the removal of the full notebook cells\n",
       "var notebookContainer = gd.closest('#notebook-container');\n",
       "if (notebookContainer) {{\n",
       "    x.observe(notebookContainer, {childList: true});\n",
       "}}\n",
       "\n",
       "// Listen for the clearing of the current output cell\n",
       "var outputEl = gd.closest('.output');\n",
       "if (outputEl) {{\n",
       "    x.observe(outputEl, {childList: true});\n",
       "}}\n",
       "\n",
       "                        })                };                });            </script>        </div>"
      ]
     },
     "metadata": {},
     "output_type": "display_data"
    }
   ],
   "source": [
    "fig = go.Figure()\n",
    "\n",
    "fig.add_trace(go.Scatter3d(\n",
    "    x = df[df['Clase'] == 'Rojo']['x'],\n",
    "    y = df[df['Clase'] == 'Rojo']['y'],\n",
    "    z = df[df['Clase'] == 'Rojo']['z'],\n",
    "    mode = \"markers\", marker = dict(color = \"red\"),\n",
    "    name = \"Rojo\"\n",
    "))\n",
    "\n",
    "fig.add_trace(go.Scatter3d(\n",
    "    x = df[df['Clase'] == 'Azul']['x'],\n",
    "    y = df[df['Clase'] == 'Azul']['y'],\n",
    "    z = df[df['Clase'] == 'Azul']['z'],\n",
    "    mode = \"markers\", marker = dict(color = \"blue\"),\n",
    "    name = \"Azul\"\n",
    "))\n",
    "\n",
    "fig.add_trace(go.Scatter3d(\n",
    "    x = ocatava_observacion['x'],\n",
    "    y = ocatava_observacion['y'],\n",
    "    z = ocatava_observacion['z'],\n",
    "    mode = \"markers\", marker = dict(color = \"aqua\"),\n",
    "    name = \"Octava observación\"\n",
    "))\n",
    "\n",
    "fig.add_trace(go.Surface(\n",
    "    x = x,\n",
    "    y = y,\n",
    "    z = z_rojo,\n",
    "    opacity = .7, showscale = False, \n",
    "    colorscale = np.repeat('red', x.size, axis = 0)\n",
    "))\n",
    "\n",
    "fig.add_trace(go.Surface(\n",
    "    x = x,\n",
    "    y = y,\n",
    "    z = z_azul,\n",
    "    opacity = .7, showscale = False, \n",
    "    colorscale = np.repeat('blue', x.size, axis = 0)\n",
    "))\n",
    "\n",
    "fig.add_trace(go.Surface(\n",
    "    x = x,\n",
    "    y = y,\n",
    "    z = z_optimo,\n",
    "    opacity = .7, showscale = False, \n",
    "    colorscale = np.repeat('green', x.size, axis = 0)\n",
    "))"
   ]
  },
  {
   "cell_type": "markdown",
   "metadata": {},
   "source": [
    "Observar que en ninguno de los movimientos traspasa el vector de soporte, por tanto no afecta el resultado"
   ]
  }
 ],
 "metadata": {
  "kernelspec": {
   "display_name": "Python 3",
   "language": "python",
   "name": "python3"
  },
  "language_info": {
   "codemirror_mode": {
    "name": "ipython",
    "version": 3
   },
   "file_extension": ".py",
   "mimetype": "text/x-python",
   "name": "python",
   "nbconvert_exporter": "python",
   "pygments_lexer": "ipython3",
   "version": "3.8.2"
  }
 },
 "nbformat": 4,
 "nbformat_minor": 4
}
