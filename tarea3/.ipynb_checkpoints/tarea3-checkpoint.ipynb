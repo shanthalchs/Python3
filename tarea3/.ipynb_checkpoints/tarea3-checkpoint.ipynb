{
 "cells": [
  {
   "cell_type": "code",
   "execution_count": 109,
   "metadata": {},
   "outputs": [],
   "source": [
    "import os\n",
    "import pandas as pd\n",
    "import numpy  as np\n",
    "import matplotlib.pyplot as plt\n",
    "from predictPy import Analisis_Predictivo\n",
    "from sklearn.preprocessing import StandardScaler\n",
    "from sklearn.model_selection import train_test_split\n",
    "from sklearn.ensemble import RandomForestClassifier\n",
    "from sklearn.metrics import confusion_matrix\n",
    "from sklearn.tree import DecisionTreeClassifier\n",
    "from sklearn.ensemble import AdaBoostClassifier\n",
    "from sklearn.ensemble import GradientBoostingClassifier\n",
    "from sklearn.utils import resample \n",
    "from sklearn.neighbors import KNeighborsClassifier"
   ]
  },
  {
   "cell_type": "markdown",
   "metadata": {},
   "source": [
    "<p style = \"color: blue; font-size :40px;text-align:center;font-family:Times New Roman\"> Tarea 2\n"
   ]
  },
  {
   "cell_type": "markdown",
   "metadata": {},
   "source": [
    "# Ejercicio 1: [30 puntos] En este ejercicio vamos a usar la tabla de datos `potabilidad_v2.csv`, que contiene diferentes métricas de calidad del agua para cuerpos de agua distintos. Para esta tabla, las 9 primeras columnas corresponden a las variables predictoras y la variable `Potability` es la variable a predecir, la cual indica si el agua es segura para el consumo humano o no.\n",
    "\n",
    "Realice lo siguiente:"
   ]
  },
  {
   "cell_type": "markdown",
   "metadata": {},
   "source": [
    "## 1. Use Bosques Aleatorios, ADABoosting y XGBoosting en __Python__ para generar un modelo predictivo para la tabla `potabilidad_v2.csv` usando el 75 % de los datos para la tabla aprendizaje y un 25% para la tabla testing. Use la configuración de parámetros que usted mejor considere o identifique."
   ]
  },
  {
   "cell_type": "code",
   "execution_count": 2,
   "metadata": {},
   "outputs": [
    {
     "name": "stdout",
     "output_type": "stream",
     "text": [
      "<class 'pandas.core.frame.DataFrame'>\n",
      "Int64Index: 2011 entries, 4 to 3272\n",
      "Data columns (total 10 columns):\n",
      " #   Column           Non-Null Count  Dtype  \n",
      "---  ------           --------------  -----  \n",
      " 0   ph               2011 non-null   float64\n",
      " 1   Hardness         2011 non-null   float64\n",
      " 2   Solids           2011 non-null   float64\n",
      " 3   Chloramines      2011 non-null   float64\n",
      " 4   Sulfate          2011 non-null   float64\n",
      " 5   Conductivity     2011 non-null   float64\n",
      " 6   Organic_carbon   2011 non-null   float64\n",
      " 7   Trihalomethanes  2011 non-null   float64\n",
      " 8   Turbidity        2011 non-null   float64\n",
      " 9   Potability       2011 non-null   object \n",
      "dtypes: float64(9), object(1)\n",
      "memory usage: 172.8+ KB\n",
      "None \n",
      "\n"
     ]
    },
    {
     "data": {
      "text/html": [
       "<div>\n",
       "<style scoped>\n",
       "    .dataframe tbody tr th:only-of-type {\n",
       "        vertical-align: middle;\n",
       "    }\n",
       "\n",
       "    .dataframe tbody tr th {\n",
       "        vertical-align: top;\n",
       "    }\n",
       "\n",
       "    .dataframe thead th {\n",
       "        text-align: right;\n",
       "    }\n",
       "</style>\n",
       "<table border=\"1\" class=\"dataframe\">\n",
       "  <thead>\n",
       "    <tr style=\"text-align: right;\">\n",
       "      <th></th>\n",
       "      <th>ph</th>\n",
       "      <th>Hardness</th>\n",
       "      <th>Solids</th>\n",
       "      <th>Chloramines</th>\n",
       "      <th>Sulfate</th>\n",
       "      <th>Conductivity</th>\n",
       "      <th>Organic_carbon</th>\n",
       "      <th>Trihalomethanes</th>\n",
       "      <th>Turbidity</th>\n",
       "      <th>Potability</th>\n",
       "    </tr>\n",
       "  </thead>\n",
       "  <tbody>\n",
       "    <tr>\n",
       "      <th>4</th>\n",
       "      <td>8.316766</td>\n",
       "      <td>214.373394</td>\n",
       "      <td>22018.417441</td>\n",
       "      <td>8.059332</td>\n",
       "      <td>356.886136</td>\n",
       "      <td>363.266516</td>\n",
       "      <td>18.436524</td>\n",
       "      <td>100.341674</td>\n",
       "      <td>4.628771</td>\n",
       "      <td>No</td>\n",
       "    </tr>\n",
       "    <tr>\n",
       "      <th>5</th>\n",
       "      <td>9.092223</td>\n",
       "      <td>181.101509</td>\n",
       "      <td>17978.986339</td>\n",
       "      <td>6.546600</td>\n",
       "      <td>310.135738</td>\n",
       "      <td>398.410813</td>\n",
       "      <td>11.558279</td>\n",
       "      <td>31.997993</td>\n",
       "      <td>4.075075</td>\n",
       "      <td>No</td>\n",
       "    </tr>\n",
       "    <tr>\n",
       "      <th>6</th>\n",
       "      <td>5.584087</td>\n",
       "      <td>188.313324</td>\n",
       "      <td>28748.687739</td>\n",
       "      <td>7.544869</td>\n",
       "      <td>326.678363</td>\n",
       "      <td>280.467916</td>\n",
       "      <td>8.399735</td>\n",
       "      <td>54.917862</td>\n",
       "      <td>2.559708</td>\n",
       "      <td>No</td>\n",
       "    </tr>\n",
       "    <tr>\n",
       "      <th>7</th>\n",
       "      <td>10.223862</td>\n",
       "      <td>248.071735</td>\n",
       "      <td>28749.716544</td>\n",
       "      <td>7.513408</td>\n",
       "      <td>393.663396</td>\n",
       "      <td>283.651634</td>\n",
       "      <td>13.789695</td>\n",
       "      <td>84.603556</td>\n",
       "      <td>2.672989</td>\n",
       "      <td>No</td>\n",
       "    </tr>\n",
       "    <tr>\n",
       "      <th>8</th>\n",
       "      <td>8.635849</td>\n",
       "      <td>203.361523</td>\n",
       "      <td>13672.091764</td>\n",
       "      <td>4.563009</td>\n",
       "      <td>303.309771</td>\n",
       "      <td>474.607645</td>\n",
       "      <td>12.363817</td>\n",
       "      <td>62.798309</td>\n",
       "      <td>4.401425</td>\n",
       "      <td>No</td>\n",
       "    </tr>\n",
       "  </tbody>\n",
       "</table>\n",
       "</div>"
      ],
      "text/plain": [
       "          ph    Hardness        Solids  Chloramines     Sulfate  Conductivity  \\\n",
       "4   8.316766  214.373394  22018.417441     8.059332  356.886136    363.266516   \n",
       "5   9.092223  181.101509  17978.986339     6.546600  310.135738    398.410813   \n",
       "6   5.584087  188.313324  28748.687739     7.544869  326.678363    280.467916   \n",
       "7  10.223862  248.071735  28749.716544     7.513408  393.663396    283.651634   \n",
       "8   8.635849  203.361523  13672.091764     4.563009  303.309771    474.607645   \n",
       "\n",
       "   Organic_carbon  Trihalomethanes  Turbidity Potability  \n",
       "4       18.436524       100.341674   4.628771         No  \n",
       "5       11.558279        31.997993   4.075075         No  \n",
       "6        8.399735        54.917862   2.559708         No  \n",
       "7       13.789695        84.603556   2.672989         No  \n",
       "8       12.363817        62.798309   4.401425         No  "
      ]
     },
     "execution_count": 2,
     "metadata": {},
     "output_type": "execute_result"
    }
   ],
   "source": [
    "datos = pd.read_csv('../datos/potabilidad_v2.csv',delimiter=',',decimal=\".\", index_col =0 )\n",
    "\n",
    "print(datos.info(), \"\\n\")\n",
    "datos.head()"
   ]
  },
  {
   "cell_type": "markdown",
   "metadata": {},
   "source": [
    "### Bosques Aleatorios"
   ]
  },
  {
   "cell_type": "code",
   "execution_count": 3,
   "metadata": {},
   "outputs": [
    {
     "name": "stdout",
     "output_type": "stream",
     "text": [
      "\n",
      "Matriz de Confusión:\n",
      "[[232  77]\n",
      " [117  77]]\n",
      "\n",
      "Precisión Global:\n",
      "0.614314115308151\n",
      "\n",
      "Error Global:\n",
      "0.38568588469184895\n",
      "\n",
      "Precisión por categoría:\n",
      "         No        Si\n",
      "0  0.750809  0.396907\n"
     ]
    }
   ],
   "source": [
    "instancia_bosques = RandomForestClassifier(n_estimators = 5, criterion = \"gini\", min_samples_split = 27,random_state=0)\n",
    "\n",
    "\n",
    "analisis_bosques = Analisis_Predictivo(datos,predecir= \"Potability\",modelo=instancia_bosques,estandarizar= True,\n",
    "                                       train_size= 0.75, random_state=0)\n",
    "\n",
    "resultados_bosques = analisis_bosques.fit_predict_resultados()"
   ]
  },
  {
   "cell_type": "markdown",
   "metadata": {},
   "source": [
    "### ADA Boosting"
   ]
  },
  {
   "cell_type": "code",
   "execution_count": 4,
   "metadata": {},
   "outputs": [
    {
     "name": "stdout",
     "output_type": "stream",
     "text": [
      "\n",
      "Matriz de Confusión:\n",
      "[[260  38]\n",
      " [136  69]]\n",
      "\n",
      "Precisión Global:\n",
      "0.6540755467196819\n",
      "\n",
      "Error Global:\n",
      "0.34592445328031807\n",
      "\n",
      "Precisión por categoría:\n",
      "         No        Si\n",
      "0  0.872483  0.336585\n"
     ]
    }
   ],
   "source": [
    "# Instancia Árboles de decisión\n",
    "instancia_tree = DecisionTreeClassifier(min_samples_split=3, max_depth=None,\n",
    "                                        criterion=\"gini\")\n",
    "\n",
    "instancia_ada = AdaBoostClassifier(base_estimator=instancia_tree,\n",
    "                                            n_estimators=200)\n",
    "\n",
    "analisis_ada = Analisis_Predictivo(datos,predecir= \"Potability\",modelo=instancia_ada,estandarizar= True,\n",
    "                                       train_size= 0.75)\n",
    "\n",
    "resultados_ada = analisis_ada.fit_predict_resultados()"
   ]
  },
  {
   "cell_type": "markdown",
   "metadata": {},
   "source": [
    "### XGBoosting"
   ]
  },
  {
   "cell_type": "code",
   "execution_count": 5,
   "metadata": {},
   "outputs": [
    {
     "name": "stdout",
     "output_type": "stream",
     "text": [
      "\n",
      "Matriz de Confusión:\n",
      "[[267  42]\n",
      " [129  65]]\n",
      "\n",
      "Precisión Global:\n",
      "0.6600397614314115\n",
      "\n",
      "Error Global:\n",
      "0.3399602385685885\n",
      "\n",
      "Precisión por categoría:\n",
      "         No        Si\n",
      "0  0.864078  0.335052\n"
     ]
    }
   ],
   "source": [
    "instancia_gbc = GradientBoostingClassifier(n_estimators=100,min_samples_split=2, random_state=0)\n",
    "\n",
    "analisis_xgb = Analisis_Predictivo(datos,predecir= \"Potability\",modelo=instancia_gbc,train_size= 0.75, random_state = 0)\n",
    "\n",
    "\n",
    "resultados_xgb = analisis_xgb.fit_predict_resultados()"
   ]
  },
  {
   "cell_type": "markdown",
   "metadata": {},
   "source": [
    "## 2. Según los gráficos de importancia de variables, indique cuáles son las 4 variables más importantes para los modelos."
   ]
  },
  {
   "cell_type": "markdown",
   "metadata": {},
   "source": [
    "###  Bosques Aleatorios"
   ]
  },
  {
   "cell_type": "code",
   "execution_count": 6,
   "metadata": {},
   "outputs": [
    {
     "name": "stdout",
     "output_type": "stream",
     "text": [
      "Importancia de las variables:  [0.06309903 0.07729126 0.08994259 0.09227216 0.10741969 0.1088457\n",
      " 0.12781656 0.16029753 0.17301549] \n",
      "\n",
      "['Organic_carbon' 'Turbidity' 'Conductivity' 'Trihalomethanes'\n",
      " 'Chloramines' 'Solids' 'Hardness' 'ph' 'Sulfate']\n"
     ]
    },
    {
     "data": {
      "text/plain": [
       "<BarContainer object of 9 artists>"
      ]
     },
     "execution_count": 6,
     "metadata": {},
     "output_type": "execute_result"
    },
    {
     "data": {
      "image/png": "[encoded data removed]",
      "text/plain": [
       "<Figure size 2400x1200 with 1 Axes>"
      ]
     },
     "metadata": {
      "needs_background": "light"
     },
     "output_type": "display_data"
    }
   ],
   "source": [
    "#Obtenemos valores\n",
    "importancia = np.array(analisis_bosques.modelo.feature_importances_)\n",
    "etiquetas = np.array(analisis_bosques.predictoras)\n",
    "\n",
    "#Ordenar\n",
    "orden = np.argsort(importancia)\n",
    "importancia = importancia[orden]\n",
    "etiquetas = etiquetas[orden]\n",
    "\n",
    "print(\"Importancia de las variables: \",importancia, \"\\n\")\n",
    "print(etiquetas)\n",
    "\n",
    "#Gráfico\n",
    "fig, ax = plt.subplots(1,1, figsize = (12,6), dpi = 200)\n",
    "ax.barh(etiquetas, importancia)"
   ]
  },
  {
   "cell_type": "markdown",
   "metadata": {},
   "source": [
    "### ADA Boosting"
   ]
  },
  {
   "cell_type": "code",
   "execution_count": 7,
   "metadata": {},
   "outputs": [
    {
     "name": "stdout",
     "output_type": "stream",
     "text": [
      "Importancia de las variables:  [nan nan nan nan nan nan nan nan nan] \n",
      "\n",
      "['ph' 'Hardness' 'Solids' 'Chloramines' 'Sulfate' 'Conductivity'\n",
      " 'Organic_carbon' 'Trihalomethanes' 'Turbidity']\n"
     ]
    },
    {
     "name": "stderr",
     "output_type": "stream",
     "text": [
      "/Users/promidat04/opt/anaconda3/lib/python3.8/site-packages/sklearn/tree/_classes.py:605: RuntimeWarning: invalid value encountered in true_divide\n",
      "  return self.tree_.compute_feature_importances()\n"
     ]
    },
    {
     "data": {
      "text/plain": [
       "<BarContainer object of 9 artists>"
      ]
     },
     "execution_count": 7,
     "metadata": {},
     "output_type": "execute_result"
    },
    {
     "data": {
      "image/png": "[encoded data removed]",
      "text/plain": [
       "<Figure size 2400x1200 with 1 Axes>"
      ]
     },
     "metadata": {
      "needs_background": "light"
     },
     "output_type": "display_data"
    }
   ],
   "source": [
    "#Obtenemos valores\n",
    "importancia = np.array(analisis_ada.modelo.feature_importances_)\n",
    "etiquetas = np.array(analisis_ada.predictoras)\n",
    "\n",
    "#Ordenar\n",
    "orden = np.argsort(importancia)\n",
    "importancia = importancia[orden]\n",
    "etiquetas = etiquetas[orden]\n",
    "\n",
    "print(\"Importancia de las variables: \",importancia, \"\\n\")\n",
    "print(etiquetas)\n",
    "\n",
    "#Gráfico\n",
    "fig, ax = plt.subplots(1,1, figsize = (12,6), dpi = 200)\n",
    "ax.barh(etiquetas, importancia)"
   ]
  },
  {
   "cell_type": "code",
   "execution_count": 36,
   "metadata": {},
   "outputs": [
    {
     "data": {
      "text/plain": [
       "array(['ph', 'Hardness', 'Solids', 'Chloramines', 'Sulfate',\n",
       "       'Conductivity', 'Organic_carbon', 'Trihalomethanes', 'Turbidity'],\n",
       "      dtype='<U15')"
      ]
     },
     "execution_count": 36,
     "metadata": {},
     "output_type": "execute_result"
    }
   ],
   "source": [
    "etiquetas"
   ]
  },
  {
   "cell_type": "markdown",
   "metadata": {},
   "source": [
    "### XGBoosting"
   ]
  },
  {
   "cell_type": "code",
   "execution_count": 8,
   "metadata": {},
   "outputs": [
    {
     "name": "stdout",
     "output_type": "stream",
     "text": [
      "Importancia de las variables:  [0.03730494 0.04014261 0.04562832 0.06330668 0.11553462 0.11784121\n",
      " 0.1191442  0.22332529 0.23777213] \n",
      "\n",
      "['Trihalomethanes' 'Turbidity' 'Organic_carbon' 'Conductivity' 'Hardness'\n",
      " 'Solids' 'Chloramines' 'Sulfate' 'ph']\n"
     ]
    },
    {
     "data": {
      "text/plain": [
       "<BarContainer object of 9 artists>"
      ]
     },
     "execution_count": 8,
     "metadata": {},
     "output_type": "execute_result"
    },
    {
     "data": {
      "image/png": "[encoded data removed]",
      "text/plain": [
       "<Figure size 2400x1200 with 1 Axes>"
      ]
     },
     "metadata": {
      "needs_background": "light"
     },
     "output_type": "display_data"
    }
   ],
   "source": [
    "#Obtenemos valores\n",
    "importancia = np.array(analisis_xgb.modelo.feature_importances_)\n",
    "etiquetas = np.array(analisis_xgb.predictoras)\n",
    "\n",
    "#Ordenar\n",
    "orden = np.argsort(importancia)\n",
    "importancia = importancia[orden]\n",
    "etiquetas = etiquetas[orden]\n",
    "\n",
    "print(\"Importancia de las variables: \",importancia, \"\\n\")\n",
    "print(etiquetas)\n",
    "\n",
    "#Gráfico\n",
    "fig, ax = plt.subplots(1,1, figsize = (12,6), dpi = 200)\n",
    "ax.barh(etiquetas, importancia)"
   ]
  },
  {
   "cell_type": "markdown",
   "metadata": {},
   "source": [
    "## 3. Construya un `DataFrame` que compare los modelos construidos arriba con los mejores modelos generados en tareas anteriores para la tabla `potabilidad_v2.csv`. Para esto en cada una de las filas debe aparecer un modelo predictivo y en las columnas aparezcan los índices Precisión Global, Error Global, Precisión Positiva (PP) y Precisión Negativa (PN). ¿Cuál de los modelos es mejor para estos datos? Guarde los datos de este DataFrame, ya que se irá modificando en próximas tareas."
   ]
  },
  {
   "cell_type": "code",
   "execution_count": 9,
   "metadata": {},
   "outputs": [],
   "source": [
    "### Bosques Aleatorios\n",
    "\n",
    "resultados_bosques.pop(\"Matriz de Confusión\")\n",
    "\n",
    "categorias = resultados_bosques[\"Precisión por categoría\"]\n",
    "\n",
    "resultados_bosques.pop(\"Precisión por categoría\")\n",
    "\n",
    "categorias = categorias.rename(columns={'No': 'PN', 'Si':\"PP\"},index = {0:'bosques'})\n",
    "\n",
    "\n",
    "Bosques = pd.concat([pd.DataFrame([resultados_bosques], index = ['bosques']), categorias], axis=1)"
   ]
  },
  {
   "cell_type": "code",
   "execution_count": 10,
   "metadata": {},
   "outputs": [],
   "source": [
    "### ADA Boosting\n",
    "\n",
    "resultados_ada.pop(\"Matriz de Confusión\")\n",
    "\n",
    "categorias = resultados_ada[\"Precisión por categoría\"]\n",
    "\n",
    "resultados_ada.pop(\"Precisión por categoría\")\n",
    "\n",
    "categorias = categorias.rename(columns={'No': 'PN', 'Si':\"PP\"},index = {0:'ADA'})\n",
    "\n",
    "\n",
    "ADA = pd.concat([pd.DataFrame([resultados_ada], index = ['ADA']), categorias], axis=1)"
   ]
  },
  {
   "cell_type": "code",
   "execution_count": 11,
   "metadata": {},
   "outputs": [],
   "source": [
    "### XG Boosting\n",
    "\n",
    "resultados_xgb.pop(\"Matriz de Confusión\")\n",
    "\n",
    "categorias = resultados_xgb[\"Precisión por categoría\"]\n",
    "\n",
    "resultados_xgb.pop(\"Precisión por categoría\")\n",
    "\n",
    "categorias = categorias.rename(columns={'No': 'PN', 'Si':\"PP\"},index = {0:'XG Boosting'})\n",
    "\n",
    "\n",
    "XG = pd.concat([pd.DataFrame([resultados_xgb], index = ['XG Boosting']), categorias], axis=1)"
   ]
  },
  {
   "cell_type": "code",
   "execution_count": 12,
   "metadata": {},
   "outputs": [
    {
     "data": {
      "text/html": [
       "<div>\n",
       "<style scoped>\n",
       "    .dataframe tbody tr th:only-of-type {\n",
       "        vertical-align: middle;\n",
       "    }\n",
       "\n",
       "    .dataframe tbody tr th {\n",
       "        vertical-align: top;\n",
       "    }\n",
       "\n",
       "    .dataframe thead th {\n",
       "        text-align: right;\n",
       "    }\n",
       "</style>\n",
       "<table border=\"1\" class=\"dataframe\">\n",
       "  <thead>\n",
       "    <tr style=\"text-align: right;\">\n",
       "      <th></th>\n",
       "      <th>Precisión Global</th>\n",
       "      <th>Error Global</th>\n",
       "      <th>PN</th>\n",
       "      <th>PP</th>\n",
       "    </tr>\n",
       "  </thead>\n",
       "  <tbody>\n",
       "    <tr>\n",
       "      <th>bosques</th>\n",
       "      <td>0.614314</td>\n",
       "      <td>0.385686</td>\n",
       "      <td>0.750809</td>\n",
       "      <td>0.396907</td>\n",
       "    </tr>\n",
       "    <tr>\n",
       "      <th>ADA</th>\n",
       "      <td>0.654076</td>\n",
       "      <td>0.345924</td>\n",
       "      <td>0.872483</td>\n",
       "      <td>0.336585</td>\n",
       "    </tr>\n",
       "    <tr>\n",
       "      <th>XG Boosting</th>\n",
       "      <td>0.660040</td>\n",
       "      <td>0.339960</td>\n",
       "      <td>0.864078</td>\n",
       "      <td>0.335052</td>\n",
       "    </tr>\n",
       "    <tr>\n",
       "      <th>arboles</th>\n",
       "      <td>0.689861</td>\n",
       "      <td>0.310139</td>\n",
       "      <td>0.851133</td>\n",
       "      <td>0.432990</td>\n",
       "    </tr>\n",
       "    <tr>\n",
       "      <th>KNN</th>\n",
       "      <td>0.644135</td>\n",
       "      <td>0.355865</td>\n",
       "      <td>0.760518</td>\n",
       "      <td>0.458763</td>\n",
       "    </tr>\n",
       "  </tbody>\n",
       "</table>\n",
       "</div>"
      ],
      "text/plain": [
       "             Precisión Global  Error Global        PN        PP\n",
       "bosques              0.614314      0.385686  0.750809  0.396907\n",
       "ADA                  0.654076      0.345924  0.872483  0.336585\n",
       "XG Boosting          0.660040      0.339960  0.864078  0.335052\n",
       "arboles              0.689861      0.310139  0.851133  0.432990\n",
       "KNN                  0.644135      0.355865  0.760518  0.458763"
      ]
     },
     "execution_count": 12,
     "metadata": {},
     "output_type": "execute_result"
    }
   ],
   "source": [
    "indices = pd.concat([Bosques, ADA, XG], axis=0)\n",
    "\n",
    "indices2 = pd.read_csv('tabla_comparativa1.csv',delimiter=',',decimal=\".\",index_col=0)\n",
    "\n",
    "indices = pd.concat([indices, indices2], axis=0)\n",
    "\n",
    "indices"
   ]
  },
  {
   "cell_type": "markdown",
   "metadata": {},
   "source": [
    "Aunque la precisión global del modelos de árboles binarios sea más alta continua siendo mejor KNN por predecir mejor la potabilidad."
   ]
  },
  {
   "cell_type": "code",
   "execution_count": 13,
   "metadata": {},
   "outputs": [],
   "source": [
    "indices.to_csv('tabla_comparativa2.csv', index = True)"
   ]
  },
  {
   "cell_type": "markdown",
   "metadata": {},
   "source": [
    "# Ejercicio 2: [40 puntos] Este conjunto de datos es originalmente del Instituto Nacional de Diabetes y Enfermedades Digestivas y Renales. El objetivo del conjunto de datos es predecir de forma diagnóstica si un paciente tiene diabetes o no, basándose en determinadas medidas de diagnóstico incluidas en el conjunto de datos.\n",
    "\n",
    "Realice lo siguiente:"
   ]
  },
  {
   "cell_type": "markdown",
   "metadata": {},
   "source": [
    "## 1. Cargue en Python la tabla de datos `diabetes.csv.`"
   ]
  },
  {
   "cell_type": "code",
   "execution_count": 14,
   "metadata": {},
   "outputs": [
    {
     "name": "stdout",
     "output_type": "stream",
     "text": [
      "<class 'pandas.core.frame.DataFrame'>\n",
      "Int64Index: 390 entries, 1 to 390\n",
      "Data columns (total 15 columns):\n",
      " #   Column         Non-Null Count  Dtype  \n",
      "---  ------         --------------  -----  \n",
      " 0   colesterol     390 non-null    int64  \n",
      " 1   glucosa        390 non-null    int64  \n",
      " 2   hdl_chol       390 non-null    int64  \n",
      " 3   prop_col_hdl   390 non-null    float64\n",
      " 4   edad           390 non-null    int64  \n",
      " 5   genero         390 non-null    object \n",
      " 6   altura         390 non-null    int64  \n",
      " 7   peso           390 non-null    int64  \n",
      " 8   IMC            390 non-null    float64\n",
      " 9   ps_sistolica   390 non-null    int64  \n",
      " 10  ps_diastolica  390 non-null    int64  \n",
      " 11  cintura        390 non-null    int64  \n",
      " 12  caderas        390 non-null    int64  \n",
      " 13  prop_cin_cad   390 non-null    float64\n",
      " 14  diabetes       390 non-null    object \n",
      "dtypes: float64(3), int64(10), object(2)\n",
      "memory usage: 48.8+ KB\n",
      "None \n",
      "\n",
      "(390, 15)\n"
     ]
    }
   ],
   "source": [
    "datos = pd.read_csv('../datos/diabetes_V2.csv',delimiter=',',decimal=\".\",index_col=0)\n",
    "print(datos.info(), \"\\n\")\n",
    "print(datos.shape)\n",
    "\n",
    "# Convierte las variables de object a categórica\n",
    "datos['genero'] = datos['genero'].astype('category')\n",
    "\n",
    "#Convertimos a Dummy algunas de las variables predictoras\n",
    "datos = pd.get_dummies(datos,columns=[\"genero\"])"
   ]
  },
  {
   "cell_type": "markdown",
   "metadata": {},
   "source": [
    "## 2. Use Bosques Aleatorios, ADABoosting y XGBoosting en __Python__ para generar modelos predictivos para la tabla datos `diabetes.csv` usando el 75 % de los datos para la tabla aprendizaje y un 25% para la tabla testing. Use la configuración de parámetros que usted mejor considere o identifique. Luego calcule para los datos de testing la matriz de confusión, la precisión global y la precisión para cada una de las dos categorías. ¿Son buenos los resultados? Explique."
   ]
  },
  {
   "cell_type": "markdown",
   "metadata": {},
   "source": [
    "### Bosques Aleatorios"
   ]
  },
  {
   "cell_type": "code",
   "execution_count": 15,
   "metadata": {},
   "outputs": [
    {
     "name": "stdout",
     "output_type": "stream",
     "text": [
      "\n",
      "Matriz de Confusión:\n",
      "[[12  8]\n",
      " [ 1 77]]\n",
      "\n",
      "Precisión Global:\n",
      "0.9081632653061225\n",
      "\n",
      "Error Global:\n",
      "0.09183673469387754\n",
      "\n",
      "Precisión por categoría:\n",
      "   Diabetes  No diabetes\n",
      "0       0.6     0.987179\n"
     ]
    }
   ],
   "source": [
    "instancia_bosques = RandomForestClassifier(n_estimators = 15, criterion = \"gini\", min_samples_split = 10,random_state=0)\n",
    "\n",
    "\n",
    "analisis_bosques = Analisis_Predictivo(datos,predecir= \"diabetes\",modelo=instancia_bosques,estandarizar= True,\n",
    "                                       train_size= 0.75, random_state=0)\n",
    "\n",
    "resultados_bosques = analisis_bosques.fit_predict_resultados()"
   ]
  },
  {
   "cell_type": "markdown",
   "metadata": {},
   "source": [
    "## ADA boosting"
   ]
  },
  {
   "cell_type": "code",
   "execution_count": 41,
   "metadata": {},
   "outputs": [
    {
     "name": "stdout",
     "output_type": "stream",
     "text": [
      "\n",
      "Matriz de Confusión:\n",
      "[[12  4]\n",
      " [ 2 80]]\n",
      "\n",
      "Precisión Global:\n",
      "0.9387755102040817\n",
      "\n",
      "Error Global:\n",
      "0.061224489795918324\n",
      "\n",
      "Precisión por categoría:\n",
      "   Diabetes  No diabetes\n",
      "0      0.75      0.97561\n"
     ]
    }
   ],
   "source": [
    "# Instancia Árboles de decisión\n",
    "instancia_tree = DecisionTreeClassifier(min_samples_split=10, max_depth=None,\n",
    "                                        criterion=\"gini\")\n",
    "\n",
    "instancia_ada = AdaBoostClassifier(base_estimator=instancia_tree,\n",
    "                                            n_estimators=50)\n",
    "\n",
    "analisis_ada = Analisis_Predictivo(datos,predecir= \"diabetes\",modelo=instancia_ada,estandarizar= True,\n",
    "                                       train_size= 0.75)\n",
    "\n",
    "resultados_ada = analisis_ada.fit_predict_resultados()"
   ]
  },
  {
   "cell_type": "markdown",
   "metadata": {},
   "source": [
    "### XG Boosting"
   ]
  },
  {
   "cell_type": "code",
   "execution_count": 50,
   "metadata": {},
   "outputs": [
    {
     "name": "stdout",
     "output_type": "stream",
     "text": [
      "\n",
      "Matriz de Confusión:\n",
      "[[11  9]\n",
      " [ 2 76]]\n",
      "\n",
      "Precisión Global:\n",
      "0.8877551020408163\n",
      "\n",
      "Error Global:\n",
      "0.11224489795918369\n",
      "\n",
      "Precisión por categoría:\n",
      "   Diabetes  No diabetes\n",
      "0      0.55     0.974359\n"
     ]
    }
   ],
   "source": [
    "instancia_gbc = GradientBoostingClassifier(n_estimators=200,min_samples_split=60, random_state=0)\n",
    "\n",
    "analisis_xgb = Analisis_Predictivo(datos,predecir= \"diabetes\",modelo=instancia_gbc,train_size= 0.75, random_state = 0)\n",
    "\n",
    "\n",
    "resultados_xgb = analisis_xgb.fit_predict_resultados()"
   ]
  },
  {
   "cell_type": "markdown",
   "metadata": {},
   "source": [
    "Los resultados son buenos para `ADA Boosting`, además de tener una precisión global alta, su diagnóstico positivo es del 75%"
   ]
  },
  {
   "cell_type": "markdown",
   "metadata": {},
   "source": [
    "## 3. Repita el ítem anterior, pero esta vez seleccione 6 variables predictoras. Para esto utilice el gráfico de importancia de variables del método Bosques Aleatorios. ¿Mejora la predicción?.\n"
   ]
  },
  {
   "cell_type": "code",
   "execution_count": 51,
   "metadata": {},
   "outputs": [
    {
     "name": "stdout",
     "output_type": "stream",
     "text": [
      "Importancia de las variables:  [0.00000000e+00 3.15799264e-04 2.03377201e-02 2.19379156e-02\n",
      " 2.51931620e-02 2.58750912e-02 2.90335135e-02 3.21452095e-02\n",
      " 3.31747282e-02 3.84136443e-02 3.85143842e-02 4.93792411e-02\n",
      " 5.75644077e-02 5.78888890e-02 5.70226294e-01] \n",
      "\n",
      "['genero_female' 'genero_male' 'caderas' 'IMC' 'prop_cin_cad'\n",
      " 'ps_diastolica' 'ps_sistolica' 'altura' 'cintura' 'hdl_chol' 'peso'\n",
      " 'colesterol' 'prop_col_hdl' 'edad' 'glucosa']\n"
     ]
    },
    {
     "data": {
      "text/plain": [
       "<BarContainer object of 15 artists>"
      ]
     },
     "execution_count": 51,
     "metadata": {},
     "output_type": "execute_result"
    },
    {
     "data": {
      "image/png": "[encoded data removed]",
      "text/plain": [
       "<Figure size 2400x1200 with 1 Axes>"
      ]
     },
     "metadata": {
      "needs_background": "light"
     },
     "output_type": "display_data"
    }
   ],
   "source": [
    "#Obtenemos valores\n",
    "importancia = np.array(analisis_bosques.modelo.feature_importances_)\n",
    "etiquetas = np.array(analisis_bosques.predictoras)\n",
    "\n",
    "#Ordenar\n",
    "orden = np.argsort(importancia)\n",
    "importancia = importancia[orden]\n",
    "etiquetas = etiquetas[orden]\n",
    "\n",
    "print(\"Importancia de las variables: \",importancia, \"\\n\")\n",
    "print(etiquetas)\n",
    "\n",
    "#Gráfico\n",
    "fig, ax = plt.subplots(1,1, figsize = (12,6), dpi = 200)\n",
    "ax.barh(etiquetas, importancia)"
   ]
  },
  {
   "cell_type": "code",
   "execution_count": 53,
   "metadata": {},
   "outputs": [
    {
     "data": {
      "text/html": [
       "<div>\n",
       "<style scoped>\n",
       "    .dataframe tbody tr th:only-of-type {\n",
       "        vertical-align: middle;\n",
       "    }\n",
       "\n",
       "    .dataframe tbody tr th {\n",
       "        vertical-align: top;\n",
       "    }\n",
       "\n",
       "    .dataframe thead th {\n",
       "        text-align: right;\n",
       "    }\n",
       "</style>\n",
       "<table border=\"1\" class=\"dataframe\">\n",
       "  <thead>\n",
       "    <tr style=\"text-align: right;\">\n",
       "      <th></th>\n",
       "      <th>glucosa</th>\n",
       "      <th>edad</th>\n",
       "      <th>prop_col_hdl</th>\n",
       "      <th>colesterol</th>\n",
       "      <th>peso</th>\n",
       "      <th>hdl_chol</th>\n",
       "      <th>diabetes</th>\n",
       "    </tr>\n",
       "  </thead>\n",
       "  <tbody>\n",
       "    <tr>\n",
       "      <th>1</th>\n",
       "      <td>77</td>\n",
       "      <td>19</td>\n",
       "      <td>3.9</td>\n",
       "      <td>193</td>\n",
       "      <td>119</td>\n",
       "      <td>49</td>\n",
       "      <td>No diabetes</td>\n",
       "    </tr>\n",
       "    <tr>\n",
       "      <th>2</th>\n",
       "      <td>79</td>\n",
       "      <td>19</td>\n",
       "      <td>3.6</td>\n",
       "      <td>146</td>\n",
       "      <td>135</td>\n",
       "      <td>41</td>\n",
       "      <td>No diabetes</td>\n",
       "    </tr>\n",
       "    <tr>\n",
       "      <th>3</th>\n",
       "      <td>75</td>\n",
       "      <td>20</td>\n",
       "      <td>4.0</td>\n",
       "      <td>217</td>\n",
       "      <td>187</td>\n",
       "      <td>54</td>\n",
       "      <td>No diabetes</td>\n",
       "    </tr>\n",
       "    <tr>\n",
       "      <th>4</th>\n",
       "      <td>97</td>\n",
       "      <td>20</td>\n",
       "      <td>3.2</td>\n",
       "      <td>226</td>\n",
       "      <td>114</td>\n",
       "      <td>70</td>\n",
       "      <td>No diabetes</td>\n",
       "    </tr>\n",
       "    <tr>\n",
       "      <th>5</th>\n",
       "      <td>91</td>\n",
       "      <td>20</td>\n",
       "      <td>2.4</td>\n",
       "      <td>164</td>\n",
       "      <td>141</td>\n",
       "      <td>67</td>\n",
       "      <td>No diabetes</td>\n",
       "    </tr>\n",
       "    <tr>\n",
       "      <th>...</th>\n",
       "      <td>...</td>\n",
       "      <td>...</td>\n",
       "      <td>...</td>\n",
       "      <td>...</td>\n",
       "      <td>...</td>\n",
       "      <td>...</td>\n",
       "      <td>...</td>\n",
       "    </tr>\n",
       "    <tr>\n",
       "      <th>386</th>\n",
       "      <td>105</td>\n",
       "      <td>83</td>\n",
       "      <td>5.2</td>\n",
       "      <td>227</td>\n",
       "      <td>125</td>\n",
       "      <td>44</td>\n",
       "      <td>No diabetes</td>\n",
       "    </tr>\n",
       "    <tr>\n",
       "      <th>387</th>\n",
       "      <td>279</td>\n",
       "      <td>84</td>\n",
       "      <td>4.3</td>\n",
       "      <td>226</td>\n",
       "      <td>192</td>\n",
       "      <td>52</td>\n",
       "      <td>Diabetes</td>\n",
       "    </tr>\n",
       "    <tr>\n",
       "      <th>388</th>\n",
       "      <td>90</td>\n",
       "      <td>89</td>\n",
       "      <td>2.6</td>\n",
       "      <td>301</td>\n",
       "      <td>115</td>\n",
       "      <td>118</td>\n",
       "      <td>No diabetes</td>\n",
       "    </tr>\n",
       "    <tr>\n",
       "      <th>389</th>\n",
       "      <td>184</td>\n",
       "      <td>91</td>\n",
       "      <td>2.0</td>\n",
       "      <td>232</td>\n",
       "      <td>127</td>\n",
       "      <td>114</td>\n",
       "      <td>Diabetes</td>\n",
       "    </tr>\n",
       "    <tr>\n",
       "      <th>390</th>\n",
       "      <td>94</td>\n",
       "      <td>92</td>\n",
       "      <td>2.4</td>\n",
       "      <td>165</td>\n",
       "      <td>217</td>\n",
       "      <td>69</td>\n",
       "      <td>No diabetes</td>\n",
       "    </tr>\n",
       "  </tbody>\n",
       "</table>\n",
       "<p>390 rows × 7 columns</p>\n",
       "</div>"
      ],
      "text/plain": [
       "     glucosa  edad  prop_col_hdl  colesterol  peso  hdl_chol     diabetes\n",
       "1         77    19           3.9         193   119        49  No diabetes\n",
       "2         79    19           3.6         146   135        41  No diabetes\n",
       "3         75    20           4.0         217   187        54  No diabetes\n",
       "4         97    20           3.2         226   114        70  No diabetes\n",
       "5         91    20           2.4         164   141        67  No diabetes\n",
       "..       ...   ...           ...         ...   ...       ...          ...\n",
       "386      105    83           5.2         227   125        44  No diabetes\n",
       "387      279    84           4.3         226   192        52     Diabetes\n",
       "388       90    89           2.6         301   115       118  No diabetes\n",
       "389      184    91           2.0         232   127       114     Diabetes\n",
       "390       94    92           2.4         165   217        69  No diabetes\n",
       "\n",
       "[390 rows x 7 columns]"
      ]
     },
     "execution_count": 53,
     "metadata": {},
     "output_type": "execute_result"
    }
   ],
   "source": [
    "datos1 = datos[[\"glucosa\",\"edad\",\"prop_col_hdl\",\"colesterol\",\"peso\",\"hdl_chol\",\"diabetes\"]]\n",
    "\n",
    "datos1"
   ]
  },
  {
   "cell_type": "code",
   "execution_count": 60,
   "metadata": {},
   "outputs": [
    {
     "name": "stdout",
     "output_type": "stream",
     "text": [
      "\n",
      "Matriz de Confusión:\n",
      "[[ 9 11]\n",
      " [ 1 77]]\n",
      "\n",
      "Precisión Global:\n",
      "0.8775510204081632\n",
      "\n",
      "Error Global:\n",
      "0.12244897959183676\n",
      "\n",
      "Precisión por categoría:\n",
      "   Diabetes  No diabetes\n",
      "0      0.45     0.987179\n"
     ]
    }
   ],
   "source": [
    "## Bosques Aleatorios\n",
    "\n",
    "instancia_bosques = RandomForestClassifier(n_estimators = 15, criterion = \"gini\", min_samples_split = 10,random_state=0)\n",
    "\n",
    "\n",
    "analisis_bosques = Analisis_Predictivo(datos1,predecir= \"diabetes\",modelo=instancia_bosques,estandarizar= True,\n",
    "                                       train_size= 0.75, random_state=0)\n",
    "\n",
    "resultados_bosques = analisis_bosques.fit_predict_resultados()"
   ]
  },
  {
   "cell_type": "code",
   "execution_count": 61,
   "metadata": {},
   "outputs": [
    {
     "name": "stdout",
     "output_type": "stream",
     "text": [
      "\n",
      "Matriz de Confusión:\n",
      "[[10  5]\n",
      " [ 0 83]]\n",
      "\n",
      "Precisión Global:\n",
      "0.9489795918367347\n",
      "\n",
      "Error Global:\n",
      "0.05102040816326525\n",
      "\n",
      "Precisión por categoría:\n",
      "   Diabetes  No diabetes\n",
      "0  0.666667          1.0\n"
     ]
    }
   ],
   "source": [
    "## ADA Boosting\n",
    "\n",
    "\n",
    "instancia_tree = DecisionTreeClassifier(min_samples_split=10, max_depth=None,\n",
    "                                        criterion=\"gini\")\n",
    "\n",
    "instancia_ada = AdaBoostClassifier(base_estimator=instancia_tree,\n",
    "                                            n_estimators=50)\n",
    "\n",
    "analisis_ada = Analisis_Predictivo(datos1,predecir= \"diabetes\",modelo=instancia_ada,estandarizar= True,\n",
    "                                       train_size= 0.75)\n",
    "\n",
    "resultados_ada = analisis_ada.fit_predict_resultados()"
   ]
  },
  {
   "cell_type": "code",
   "execution_count": 62,
   "metadata": {},
   "outputs": [
    {
     "name": "stdout",
     "output_type": "stream",
     "text": [
      "\n",
      "Matriz de Confusión:\n",
      "[[11  9]\n",
      " [ 4 74]]\n",
      "\n",
      "Precisión Global:\n",
      "0.8673469387755102\n",
      "\n",
      "Error Global:\n",
      "0.13265306122448983\n",
      "\n",
      "Precisión por categoría:\n",
      "   Diabetes  No diabetes\n",
      "0      0.55     0.948718\n"
     ]
    }
   ],
   "source": [
    "## XGBoosting\n",
    "\n",
    "instancia_gbc = GradientBoostingClassifier(n_estimators=200,min_samples_split=60, random_state=0)\n",
    "\n",
    "analisis_xgb = Analisis_Predictivo(datos1,predecir= \"diabetes\",modelo=instancia_gbc,train_size= 0.75, random_state = 0)\n",
    "\n",
    "\n",
    "resultados_xgb = analisis_xgb.fit_predict_resultados()"
   ]
  },
  {
   "cell_type": "markdown",
   "metadata": {},
   "source": [
    "Para unos empeora, pero para ADABoosting mejora visiblemente su predicción para el diagnóstico positivo"
   ]
  },
  {
   "cell_type": "markdown",
   "metadata": {},
   "source": [
    "## 4. Construya un `DataFrame` que compare los mejores modelos construidos arriba con los mejores modelos generados en tareas anteriores para la tabla diabetes.csv. Para esto en cada una de las filas debe aparecer un modelo predictivo y en las columnas aparezcan los índices Precisión Global, Error Global, Precisión Positiva (PP) y Precisión Negativa (PN). ¿Cuál de los modelos es mejor para estos datos? Guarde los datos de este DataFrame, ya que se irá modificando en próximas tareas.\n"
   ]
  },
  {
   "cell_type": "code",
   "execution_count": 63,
   "metadata": {},
   "outputs": [],
   "source": [
    "### Bosques Aleatorios\n",
    "\n",
    "resultados_bosques.pop(\"Matriz de Confusión\")\n",
    "\n",
    "categorias = resultados_bosques[\"Precisión por categoría\"]\n",
    "\n",
    "resultados_bosques.pop(\"Precisión por categoría\")\n",
    "\n",
    "categorias = categorias.rename(columns={'No diabetes': 'PN', 'diabetes':\"PP\"},index = {0:'bosques'})\n",
    "\n",
    "\n",
    "Bosques = pd.concat([pd.DataFrame([resultados_bosques], index = ['bosques']), categorias], axis=1)"
   ]
  },
  {
   "cell_type": "code",
   "execution_count": 64,
   "metadata": {},
   "outputs": [],
   "source": [
    "### ADA Boosting\n",
    "\n",
    "resultados_ada.pop(\"Matriz de Confusión\")\n",
    "\n",
    "categorias = resultados_ada[\"Precisión por categoría\"]\n",
    "\n",
    "resultados_ada.pop(\"Precisión por categoría\")\n",
    "\n",
    "categorias = categorias.rename(columns={'No diabetes': 'PN', 'diabetes':\"PP\"},index = {0:'ADA'})\n",
    "\n",
    "\n",
    "ADA = pd.concat([pd.DataFrame([resultados_ada], index = ['ADA']), categorias], axis=1)"
   ]
  },
  {
   "cell_type": "code",
   "execution_count": 65,
   "metadata": {},
   "outputs": [],
   "source": [
    "### XG Boosting\n",
    "\n",
    "resultados_xgb.pop(\"Matriz de Confusión\")\n",
    "\n",
    "categorias = resultados_xgb[\"Precisión por categoría\"]\n",
    "\n",
    "resultados_xgb.pop(\"Precisión por categoría\")\n",
    "\n",
    "categorias = categorias.rename(columns={'No diabetes': 'PN', 'diabetes':\"PP\"},index = {0:'XG Boosting'})\n",
    "\n",
    "\n",
    "XG = pd.concat([pd.DataFrame([resultados_xgb], index = ['XG Boosting']), categorias], axis=1)"
   ]
  },
  {
   "cell_type": "code",
   "execution_count": 66,
   "metadata": {},
   "outputs": [
    {
     "data": {
      "text/html": [
       "<div>\n",
       "<style scoped>\n",
       "    .dataframe tbody tr th:only-of-type {\n",
       "        vertical-align: middle;\n",
       "    }\n",
       "\n",
       "    .dataframe tbody tr th {\n",
       "        vertical-align: top;\n",
       "    }\n",
       "\n",
       "    .dataframe thead th {\n",
       "        text-align: right;\n",
       "    }\n",
       "</style>\n",
       "<table border=\"1\" class=\"dataframe\">\n",
       "  <thead>\n",
       "    <tr style=\"text-align: right;\">\n",
       "      <th></th>\n",
       "      <th>Precisión Global</th>\n",
       "      <th>Error Global</th>\n",
       "      <th>Diabetes</th>\n",
       "      <th>PN</th>\n",
       "    </tr>\n",
       "  </thead>\n",
       "  <tbody>\n",
       "    <tr>\n",
       "      <th>bosques</th>\n",
       "      <td>0.877551</td>\n",
       "      <td>0.122449</td>\n",
       "      <td>0.450000</td>\n",
       "      <td>0.987179</td>\n",
       "    </tr>\n",
       "    <tr>\n",
       "      <th>ADA</th>\n",
       "      <td>0.948980</td>\n",
       "      <td>0.051020</td>\n",
       "      <td>0.666667</td>\n",
       "      <td>1.000000</td>\n",
       "    </tr>\n",
       "    <tr>\n",
       "      <th>XG Boosting</th>\n",
       "      <td>0.867347</td>\n",
       "      <td>0.132653</td>\n",
       "      <td>0.550000</td>\n",
       "      <td>0.948718</td>\n",
       "    </tr>\n",
       "    <tr>\n",
       "      <th>arboles</th>\n",
       "      <td>0.887755</td>\n",
       "      <td>0.112245</td>\n",
       "      <td>0.600000</td>\n",
       "      <td>0.961538</td>\n",
       "    </tr>\n",
       "    <tr>\n",
       "      <th>KNN</th>\n",
       "      <td>0.877551</td>\n",
       "      <td>0.122449</td>\n",
       "      <td>0.650000</td>\n",
       "      <td>0.935897</td>\n",
       "    </tr>\n",
       "  </tbody>\n",
       "</table>\n",
       "</div>"
      ],
      "text/plain": [
       "             Precisión Global  Error Global  Diabetes        PN\n",
       "bosques              0.877551      0.122449  0.450000  0.987179\n",
       "ADA                  0.948980      0.051020  0.666667  1.000000\n",
       "XG Boosting          0.867347      0.132653  0.550000  0.948718\n",
       "arboles              0.887755      0.112245  0.600000  0.961538\n",
       "KNN                  0.877551      0.122449  0.650000  0.935897"
      ]
     },
     "execution_count": 66,
     "metadata": {},
     "output_type": "execute_result"
    }
   ],
   "source": [
    "indices = pd.concat([Bosques, ADA, XG], axis=0)\n",
    "\n",
    "indices2 = pd.read_csv('tabla_comparativa1.2.csv',delimiter=',',decimal=\".\",index_col=0)\n",
    "\n",
    "indices = pd.concat([indices, indices2], axis=0)\n",
    "\n",
    "indices"
   ]
  },
  {
   "cell_type": "markdown",
   "metadata": {},
   "source": [
    "El mejor modelo debido a la precisión global más alta y un mejor pronóstico de la enfermedad es `ADA Boosting`"
   ]
  },
  {
   "cell_type": "code",
   "execution_count": 67,
   "metadata": {},
   "outputs": [],
   "source": [
    "indices.to_csv('tabla_comparativa2.2.csv', index = True)"
   ]
  },
  {
   "cell_type": "markdown",
   "metadata": {},
   "source": [
    "# Ejercicio 3: __[30 puntos]__ La idea de este ejercicio es programar una Clase en Python para un nuevo método de Consenso Propio, esto basado en los métodos K-vecinos más cercanos, Árboles de Decisión, Método de Potenciación (XGBoosting) y Método de Potenciación (ADABoosting), para esto realice los siguiente:"
   ]
  },
  {
   "cell_type": "markdown",
   "metadata": {},
   "source": [
    "## 1. Programe una Clase en `Python` denominada `ConsensoPropio` que tiene, además del constructor, al menos los siguientes métodos `fit(X_train, y_train, ...)` que recibe la tabla de entrenamiento y genera 4 muestras aleatorias con reemplazo (Boostraps) de los datos de aprendizaje y luego aplica en cada una de estas muestras uno de los métodos predictivos mencionados arriba. Este método debe generar un nuevo modelo predictivo que es un atributo de clase, tipo diccionario, que incluya los 4 modelos generados (todos los métodos usarán todas las variables) y las 4 de precisiones globales, respectivamente de cada modelo1, que denotamos por $(PG_1,PG_2,...,PG_4)$, donde $0 \\leq PG_j \\leq 1$ para $j = 1,2,...,4.$"
   ]
  },
  {
   "cell_type": "code",
   "execution_count": null,
   "metadata": {},
   "outputs": [],
   "source": [
    "class ConsensoPropio:\n",
    "    def __init__ (self,):"
   ]
  },
  {
   "cell_type": "markdown",
   "metadata": {},
   "source": [
    "## 2. Programe una función `predict(X_test)` que recibe la tabla de testing. Luego, para predecir aplica en cada una de las filas de la tabla de testing los 4 modelos predictivos que están almacenados dentro de la Clase en el atributo incluido para este efecto; y se establece un consenso de todos los resultados. Se debe programar una fórmula en Python que le dé mayor importancia a los métodos con mejor precisión global.\n",
    "\n",
    "Si denotamos por $M_j(h,i)$ la probabilidad que retorna el j-ésimo modelo en el individuo i-ésimo para la categoría h de variable a predecir, donde $j$ varía de 1 hasta 4, $h$ varía desde 1 hasta $p$=número de categorías de la variable a predecir e $i$ varía de 1 hasta $s$ = cantidad de individuos en la tabla de testing, esta fórmula se define como sigue:\n",
    "\n",
    "$$\n",
    "C(i) = m,\n",
    "$$\n",
    "\n",
    "donde $m$ es el valor que toma $h$ cuando se alcanza el valor máximo en la siguiente fórmula:\n",
    "\n",
    "$$\n",
    "máx_{h=1,2,...,p} \\Big\\{ \\sum_{j=1}^{4} p_jM_j(h,i)\\Big\\};\n",
    "$$\n",
    "\n",
    "y $p_k = \\dfrac{PG_k}{\\sum_{j=1}^{4} PG_j}$ para $k=1,2,3,4$ note que $\\sum_{j=1}^{4} p_j = 1$, pues son pesos.\n",
    "\n",
    "La función `predict(X_test)` debe retornar un vector con las predicciones para todas las filas de la tabla de testing usando la función $C(i)$."
   ]
  },
  {
   "cell_type": "code",
   "execution_count": 105,
   "metadata": {},
   "outputs": [],
   "source": [
    "class consensoPropio:\n",
    "    def __init__(self,datos,porcentajentrenamiento): \n",
    "        self.__datos = datos\n",
    "        self.__porcentajentrenamiento = porcentajentrenamiento\n",
    "      \n",
    "    @property\n",
    "    def datos(self):\n",
    "        return self.__datos\n",
    "    @datos.setter\n",
    "    def datos(self, datos):\n",
    "        self.__datos = datos  \n",
    "        \n",
    "    @property\n",
    "    def porcentajentrenamiento(self):\n",
    "        return self.__porcentajentrenamiento\n",
    "    @porcentajentrenamiento.setter\n",
    "    def porcentaje_entrenamiento(self, porcentajentrenamiento):\n",
    "        self.__porcentajentrenamiento = porcentajentrenamiento    \n",
    "        \n",
    "    @property\n",
    "    def train(self):\n",
    "        return self.__train\n",
    "    @train.setter\n",
    "    def train(self, train):\n",
    "        self.__train = train\n",
    "        \n",
    "    @property\n",
    "    def test(self):\n",
    "        return self.__test\n",
    "    @test.setter\n",
    "    def test(self, test):\n",
    "        self.__test = test \n",
    "        \n",
    "    @property\n",
    "    def sample_size(self):\n",
    "        return self.__sample_size\n",
    "    @sample_size.setter\n",
    "    def sample_size(self, sample_size):\n",
    "        self.__sample_size = sample_size \n",
    "        \n",
    "    @property\n",
    "    def modelos(self):\n",
    "        return self.__modelos\n",
    "    @modelos.setter\n",
    "    def modelos(self, modelos):\n",
    "        self.__modelos = modelos \n",
    "        \n",
    "    @property\n",
    "    def precisiones(self):\n",
    "        return self.__precisiones\n",
    "    @precisiones.setter\n",
    "    def precisiones(self, precisiones):\n",
    "        self.__precisiones = precisiones \n",
    "   \n",
    "    def split(self):\n",
    "        self.train,self.test = train_test_split(self.datos,train_size=self.porcentajentrenamiento, random_state=0)\n",
    "        self.sample_size = 3000\n",
    "        \n",
    "    def fit(self):\n",
    "        precisionesglobales = []\n",
    "        modelo = []\n",
    "        modelos = []\n",
    "        \n",
    "        ## KNN\n",
    "        boot = resample(self.train, replace=True, n_samples=self.sample_size, random_state=1)\n",
    "        columns = boot.shape[1]\n",
    "        X_aux = boot.iloc[:,0:(columns-1)] \n",
    "        y_aux = boot.iloc[:,(columns-1):columns] \n",
    "        X_train, X_test, y_train, y_test = train_test_split(X_aux, y_aux, train_size=self.porcentajentrenamiento, random_state=0)\n",
    "        instancia_knn = KNeighborsClassifier(n_neighbors=3)\n",
    "        instancia_knn.fit(X_train,y_train.iloc[:,0].values)\n",
    "        modelo.append(instancia_knn)\n",
    "        prediccion = instancia_knn.predict(X_test)\n",
    "        matriz = confusion_matrix(y_test, prediccion)\n",
    "        precisionglobal = (matriz[0][0]+matriz[1][1])/(matriz[0][0]+matriz[0][1]+matriz[1][0]+matriz[1][1]) \n",
    "        precisionesglobales.append(round(precisionglobal, 4))    \n",
    "        \n",
    "        \n",
    "        ## DECISIONTREE\n",
    "        boot = resample(self.train, replace=True, n_samples=self.sample_size, random_state=1)\n",
    "        columns = boot.shape[1]\n",
    "        X_aux = boot.iloc[:,0:(columns-1)] \n",
    "        y_aux = boot.iloc[:,(columns-1):columns] \n",
    "        X_train, X_test, y_train, y_test = train_test_split(X_aux, y_aux, train_size=self.porcentajentrenamiento, random_state=0)\n",
    "        instancia_arbol = DecisionTreeClassifier(random_state=0)\n",
    "        instancia_arbol.fit(X_train,y_train)\n",
    "        modelo.append(instancia_arbol)\n",
    "        prediccion = instancia_arbol.predict(X_test)\n",
    "        matriz = confusion_matrix(y_test, prediccion)\n",
    "        precisionglobal = (matriz[0][0]+matriz[1][1])/(matriz[0][0]+matriz[0][1]+matriz[1][0]+matriz[1][1]) \n",
    "        precisionesglobales.append(round(precisionglobal, 4)) \n",
    "        \n",
    "        \n",
    "        ## ADA BOOSTING\n",
    "        boot = resample(self.train, replace=True, n_samples=self.sample_size, random_state=1)\n",
    "        columns = boot.shape[1]\n",
    "        X_aux = boot.iloc[:,0:(columns-1)] \n",
    "        y_aux = boot.iloc[:,(columns-1):columns] \n",
    "        X_train, X_test, y_train, y_test = train_test_split(X_aux, y_aux, train_size=self.porcentajentrenamiento, random_state=0)\n",
    "        instancia_potenciacion = AdaBoostClassifier(n_estimators=10, random_state=0)\n",
    "        instancia_potenciacion.fit(X_train,y_train.iloc[:,0].values)\n",
    "        modelo.append(instancia_potenciacion)\n",
    "        prediccion = instancia_potenciacion.predict(X_test)\n",
    "        matriz = confusion_matrix(y_test, prediccion)\n",
    "        precisionglobal = (matriz[0][0]+matriz[1][1])/(matriz[0][0]+matriz[0][1]+matriz[1][0]+matriz[1][1]) \n",
    "        precisionesglobales.append(round(precisionglobal, 4)) \n",
    "        \n",
    "        \n",
    "        ##XG BOOSTING\n",
    "        boot = resample(self.train, replace=True, n_samples=self.sample_size, random_state=1)\n",
    "        columns = boot.shape[1]\n",
    "        X_aux = boot.iloc[:,0:(columns-1)] \n",
    "        y_aux = boot.iloc[:,(columns-1):columns] \n",
    "        X_train, X_test, y_train, y_test = train_test_split(X_aux, y_aux, train_size=self.porcentajentrenamiento, random_state=0)\n",
    "        instancia_potenciacion = GradientBoostingClassifier(n_estimators=10, random_state=0)\n",
    "        instancia_potenciacion.fit(X_train,y_train.iloc[:,0].values)\n",
    "        modelo.append(instancia_potenciacion)\n",
    "        prediccion = instancia_potenciacion.predict(X_test)\n",
    "        matriz = confusion_matrix(y_test, prediccion)\n",
    "        precisionglobal = (matriz[0][0]+matriz[1][1])/(matriz[0][0]+matriz[0][1]+matriz[1][0]+matriz[1][1]) \n",
    "        precisionesglobales.append(round(precisionglobal, 4))\n",
    "        \n",
    "        modelos.append(modelo)\n",
    "        modelos.append(precisionesglobales)\n",
    "        self.modelos = modelos\n",
    "        \n",
    "        \n",
    "    def predict(self,vector):\n",
    "        columns = self.test.shape[1]\n",
    "        X_aux = self.test.iloc[:,0:(columns-1)] \n",
    "        y_aux = self.test.iloc[:,(columns-1):columns]\n",
    "        knn = self.modelos[0][0]\n",
    "        prediccion_knn = knn.predict_proba(X_aux)\n",
    "        print(\"KNN\")\n",
    "        print(prediccion_knn)\n",
    "        randomtree = self.modelos[0][1]\n",
    "        prediccion_randomtree = randomtree.predict_proba(X_aux)\n",
    "        print(\"Random Tree\")\n",
    "        print(prediccion_randomtree)\n",
    "        ada = self.modelos[0][2]\n",
    "        prediccion_ada = ada.predict_proba(X_aux)\n",
    "        print(\"ADA Boosting\")\n",
    "        print(prediccion_ada)\n",
    "        xg = self.modelos[0][3]\n",
    "        prediccion_xg = xg.predict_proba(X_aux)\n",
    "        print(\"XG Boosting\")\n",
    "        print(prediccion_xg)\n",
    "         ## Se multiplica la probabilidad contra la precisión global para darle mayor peso a los modelos con mejor precisión global\n",
    "        prediccion_knn =  self.modelos[1][0] * prediccion_knn\n",
    "        prediccion_randomtree = self.modelos[1][1] * prediccion_randomtree\n",
    "        prediccion_ada = self.modelos[1][2] * prediccion_ada  \n",
    "        prediccion_xg = self.modelos[1][3] * prediccion_xg\n",
    "        matriz = []\n",
    "        # Se suman las 4 probabilidades y se divide entre 4 para obtener la probabilidad ponderada\n",
    "        for i in range(prediccion_knn.shape[0]):\n",
    "            fila = []\n",
    "            for j in range(prediccion_knn.shape[1]):\n",
    "                prediccion = (prediccion_knn[i][j]+prediccion_randomtree[i][j]+prediccion_randomtree[i][j]+prediccion_ada[i][j])/4\n",
    "                fila.append(prediccion)\n",
    "            matriz.append(fila)\n",
    "        # El valor que tenga más probabilidades es el que se devolverá\n",
    "        predicciones = []\n",
    "        for i in range(prediccion_knn.shape[0]):\n",
    "            indice = matriz[i].index(max(matriz[i]))\n",
    "            predicciones.append(vector[indice])\n",
    "        self.prediccion = predicciones\n",
    "        \n",
    "    def precisiones(self):\n",
    "        columns = self.test.shape[1]\n",
    "        y_aux = self.test.iloc[:,(columns-1):columns]\n",
    "        MC = confusion_matrix(y_aux,self.prediccion )\n",
    "        nombres = list(np.unique(y_aux))\n",
    "        precision_global = np.sum(MC.diagonal()) / np.sum(MC)\n",
    "        error_global = 1 - precision_global\n",
    "        precision_categoria  = pd.DataFrame(MC.diagonal()/np.sum(MC,axis = 1)).T\n",
    "        if nombres!=None:\n",
    "            precision_categoria.columns = nombres\n",
    "            indices = {\"Matriz de Confusión\":MC, \n",
    "            \"Precisión Global\":precision_global, \n",
    "            \"Error Global\":error_global, \n",
    "            \"Precisión por categoría\":precision_categoria}\n",
    "        for k in indices:\n",
    "            print(\"\\n%s:\\n%s\"%(k,str(indices[k])))\n",
    "        return MC\n"
   ]
  },
  {
   "cell_type": "markdown",
   "metadata": {},
   "source": [
    "## 3. Usando la tabla de datos datos `potabilidad_v2.csv` genere al azar una tabla de testing con un 20 % de los datos y con el resto de los datos construya una tabla de aprendizaje.\n"
   ]
  },
  {
   "cell_type": "code",
   "execution_count": 106,
   "metadata": {},
   "outputs": [
    {
     "data": {
      "text/html": [
       "<div>\n",
       "<style scoped>\n",
       "    .dataframe tbody tr th:only-of-type {\n",
       "        vertical-align: middle;\n",
       "    }\n",
       "\n",
       "    .dataframe tbody tr th {\n",
       "        vertical-align: top;\n",
       "    }\n",
       "\n",
       "    .dataframe thead th {\n",
       "        text-align: right;\n",
       "    }\n",
       "</style>\n",
       "<table border=\"1\" class=\"dataframe\">\n",
       "  <thead>\n",
       "    <tr style=\"text-align: right;\">\n",
       "      <th></th>\n",
       "      <th>ph</th>\n",
       "      <th>Hardness</th>\n",
       "      <th>Solids</th>\n",
       "      <th>Chloramines</th>\n",
       "      <th>Sulfate</th>\n",
       "      <th>Conductivity</th>\n",
       "      <th>Organic_carbon</th>\n",
       "      <th>Trihalomethanes</th>\n",
       "      <th>Turbidity</th>\n",
       "      <th>Potability</th>\n",
       "    </tr>\n",
       "  </thead>\n",
       "  <tbody>\n",
       "    <tr>\n",
       "      <th>4</th>\n",
       "      <td>8.316766</td>\n",
       "      <td>214.373394</td>\n",
       "      <td>22018.417441</td>\n",
       "      <td>8.059332</td>\n",
       "      <td>356.886136</td>\n",
       "      <td>363.266516</td>\n",
       "      <td>18.436524</td>\n",
       "      <td>100.341674</td>\n",
       "      <td>4.628771</td>\n",
       "      <td>No</td>\n",
       "    </tr>\n",
       "    <tr>\n",
       "      <th>5</th>\n",
       "      <td>9.092223</td>\n",
       "      <td>181.101509</td>\n",
       "      <td>17978.986339</td>\n",
       "      <td>6.546600</td>\n",
       "      <td>310.135738</td>\n",
       "      <td>398.410813</td>\n",
       "      <td>11.558279</td>\n",
       "      <td>31.997993</td>\n",
       "      <td>4.075075</td>\n",
       "      <td>No</td>\n",
       "    </tr>\n",
       "    <tr>\n",
       "      <th>6</th>\n",
       "      <td>5.584087</td>\n",
       "      <td>188.313324</td>\n",
       "      <td>28748.687739</td>\n",
       "      <td>7.544869</td>\n",
       "      <td>326.678363</td>\n",
       "      <td>280.467916</td>\n",
       "      <td>8.399735</td>\n",
       "      <td>54.917862</td>\n",
       "      <td>2.559708</td>\n",
       "      <td>No</td>\n",
       "    </tr>\n",
       "    <tr>\n",
       "      <th>7</th>\n",
       "      <td>10.223862</td>\n",
       "      <td>248.071735</td>\n",
       "      <td>28749.716544</td>\n",
       "      <td>7.513408</td>\n",
       "      <td>393.663396</td>\n",
       "      <td>283.651634</td>\n",
       "      <td>13.789695</td>\n",
       "      <td>84.603556</td>\n",
       "      <td>2.672989</td>\n",
       "      <td>No</td>\n",
       "    </tr>\n",
       "    <tr>\n",
       "      <th>8</th>\n",
       "      <td>8.635849</td>\n",
       "      <td>203.361523</td>\n",
       "      <td>13672.091764</td>\n",
       "      <td>4.563009</td>\n",
       "      <td>303.309771</td>\n",
       "      <td>474.607645</td>\n",
       "      <td>12.363817</td>\n",
       "      <td>62.798309</td>\n",
       "      <td>4.401425</td>\n",
       "      <td>No</td>\n",
       "    </tr>\n",
       "  </tbody>\n",
       "</table>\n",
       "</div>"
      ],
      "text/plain": [
       "          ph    Hardness        Solids  Chloramines     Sulfate  Conductivity  \\\n",
       "4   8.316766  214.373394  22018.417441     8.059332  356.886136    363.266516   \n",
       "5   9.092223  181.101509  17978.986339     6.546600  310.135738    398.410813   \n",
       "6   5.584087  188.313324  28748.687739     7.544869  326.678363    280.467916   \n",
       "7  10.223862  248.071735  28749.716544     7.513408  393.663396    283.651634   \n",
       "8   8.635849  203.361523  13672.091764     4.563009  303.309771    474.607645   \n",
       "\n",
       "   Organic_carbon  Trihalomethanes  Turbidity Potability  \n",
       "4       18.436524       100.341674   4.628771         No  \n",
       "5       11.558279        31.997993   4.075075         No  \n",
       "6        8.399735        54.917862   2.559708         No  \n",
       "7       13.789695        84.603556   2.672989         No  \n",
       "8       12.363817        62.798309   4.401425         No  "
      ]
     },
     "execution_count": 106,
     "metadata": {},
     "output_type": "execute_result"
    }
   ],
   "source": [
    "datos = pd.read_csv('../datos/potabilidad_v2.csv',delimiter=',',decimal=\".\", index_col =0 )\n",
    "\n",
    "datos.head()"
   ]
  },
  {
   "cell_type": "code",
   "execution_count": 107,
   "metadata": {},
   "outputs": [
    {
     "data": {
      "text/html": [
       "<div>\n",
       "<style scoped>\n",
       "    .dataframe tbody tr th:only-of-type {\n",
       "        vertical-align: middle;\n",
       "    }\n",
       "\n",
       "    .dataframe tbody tr th {\n",
       "        vertical-align: top;\n",
       "    }\n",
       "\n",
       "    .dataframe thead th {\n",
       "        text-align: right;\n",
       "    }\n",
       "</style>\n",
       "<table border=\"1\" class=\"dataframe\">\n",
       "  <thead>\n",
       "    <tr style=\"text-align: right;\">\n",
       "      <th></th>\n",
       "      <th>ph</th>\n",
       "      <th>Hardness</th>\n",
       "      <th>Solids</th>\n",
       "      <th>Chloramines</th>\n",
       "      <th>Sulfate</th>\n",
       "      <th>Conductivity</th>\n",
       "      <th>Organic_carbon</th>\n",
       "      <th>Trihalomethanes</th>\n",
       "      <th>Turbidity</th>\n",
       "      <th>Potability</th>\n",
       "    </tr>\n",
       "  </thead>\n",
       "  <tbody>\n",
       "    <tr>\n",
       "      <th>1595</th>\n",
       "      <td>8.733525</td>\n",
       "      <td>203.396130</td>\n",
       "      <td>24578.421221</td>\n",
       "      <td>6.594145</td>\n",
       "      <td>288.678463</td>\n",
       "      <td>336.824656</td>\n",
       "      <td>16.701920</td>\n",
       "      <td>68.793062</td>\n",
       "      <td>3.149202</td>\n",
       "      <td>Si</td>\n",
       "    </tr>\n",
       "    <tr>\n",
       "      <th>846</th>\n",
       "      <td>6.592443</td>\n",
       "      <td>242.480473</td>\n",
       "      <td>9381.239931</td>\n",
       "      <td>7.303184</td>\n",
       "      <td>312.814395</td>\n",
       "      <td>440.601135</td>\n",
       "      <td>14.027297</td>\n",
       "      <td>70.929879</td>\n",
       "      <td>3.060827</td>\n",
       "      <td>No</td>\n",
       "    </tr>\n",
       "    <tr>\n",
       "      <th>3212</th>\n",
       "      <td>6.817608</td>\n",
       "      <td>219.337429</td>\n",
       "      <td>27548.614177</td>\n",
       "      <td>6.298121</td>\n",
       "      <td>340.937614</td>\n",
       "      <td>530.710026</td>\n",
       "      <td>19.486791</td>\n",
       "      <td>68.568791</td>\n",
       "      <td>3.048292</td>\n",
       "      <td>Si</td>\n",
       "    </tr>\n",
       "    <tr>\n",
       "      <th>573</th>\n",
       "      <td>8.805178</td>\n",
       "      <td>157.231982</td>\n",
       "      <td>4728.650671</td>\n",
       "      <td>8.848262</td>\n",
       "      <td>356.773638</td>\n",
       "      <td>299.279775</td>\n",
       "      <td>9.439925</td>\n",
       "      <td>61.640597</td>\n",
       "      <td>5.176205</td>\n",
       "      <td>No</td>\n",
       "    </tr>\n",
       "    <tr>\n",
       "      <th>2966</th>\n",
       "      <td>9.459931</td>\n",
       "      <td>222.894659</td>\n",
       "      <td>14450.175747</td>\n",
       "      <td>6.790914</td>\n",
       "      <td>293.746321</td>\n",
       "      <td>433.145005</td>\n",
       "      <td>9.069161</td>\n",
       "      <td>67.906813</td>\n",
       "      <td>3.322890</td>\n",
       "      <td>No</td>\n",
       "    </tr>\n",
       "    <tr>\n",
       "      <th>...</th>\n",
       "      <td>...</td>\n",
       "      <td>...</td>\n",
       "      <td>...</td>\n",
       "      <td>...</td>\n",
       "      <td>...</td>\n",
       "      <td>...</td>\n",
       "      <td>...</td>\n",
       "      <td>...</td>\n",
       "      <td>...</td>\n",
       "      <td>...</td>\n",
       "    </tr>\n",
       "    <tr>\n",
       "      <th>1355</th>\n",
       "      <td>6.453065</td>\n",
       "      <td>178.998245</td>\n",
       "      <td>23129.460178</td>\n",
       "      <td>6.354508</td>\n",
       "      <td>326.853185</td>\n",
       "      <td>371.882763</td>\n",
       "      <td>13.178301</td>\n",
       "      <td>41.525863</td>\n",
       "      <td>3.440859</td>\n",
       "      <td>No</td>\n",
       "    </tr>\n",
       "    <tr>\n",
       "      <th>1980</th>\n",
       "      <td>7.201702</td>\n",
       "      <td>147.711086</td>\n",
       "      <td>37308.994159</td>\n",
       "      <td>5.677451</td>\n",
       "      <td>279.164446</td>\n",
       "      <td>395.976824</td>\n",
       "      <td>13.326125</td>\n",
       "      <td>63.626894</td>\n",
       "      <td>3.883250</td>\n",
       "      <td>Si</td>\n",
       "    </tr>\n",
       "    <tr>\n",
       "      <th>2701</th>\n",
       "      <td>7.117579</td>\n",
       "      <td>186.199680</td>\n",
       "      <td>31528.948690</td>\n",
       "      <td>6.387037</td>\n",
       "      <td>335.348881</td>\n",
       "      <td>380.578265</td>\n",
       "      <td>19.073996</td>\n",
       "      <td>75.903072</td>\n",
       "      <td>4.333402</td>\n",
       "      <td>No</td>\n",
       "    </tr>\n",
       "    <tr>\n",
       "      <th>909</th>\n",
       "      <td>10.282068</td>\n",
       "      <td>198.546363</td>\n",
       "      <td>8108.297322</td>\n",
       "      <td>5.548407</td>\n",
       "      <td>332.017935</td>\n",
       "      <td>568.078980</td>\n",
       "      <td>15.661692</td>\n",
       "      <td>28.770619</td>\n",
       "      <td>4.572923</td>\n",
       "      <td>No</td>\n",
       "    </tr>\n",
       "    <tr>\n",
       "      <th>1100</th>\n",
       "      <td>7.269652</td>\n",
       "      <td>155.157520</td>\n",
       "      <td>31161.368388</td>\n",
       "      <td>3.181183</td>\n",
       "      <td>244.795198</td>\n",
       "      <td>506.010135</td>\n",
       "      <td>17.385515</td>\n",
       "      <td>73.115053</td>\n",
       "      <td>3.789237</td>\n",
       "      <td>Si</td>\n",
       "    </tr>\n",
       "  </tbody>\n",
       "</table>\n",
       "<p>1608 rows × 10 columns</p>\n",
       "</div>"
      ],
      "text/plain": [
       "             ph    Hardness        Solids  Chloramines     Sulfate  \\\n",
       "1595   8.733525  203.396130  24578.421221     6.594145  288.678463   \n",
       "846    6.592443  242.480473   9381.239931     7.303184  312.814395   \n",
       "3212   6.817608  219.337429  27548.614177     6.298121  340.937614   \n",
       "573    8.805178  157.231982   4728.650671     8.848262  356.773638   \n",
       "2966   9.459931  222.894659  14450.175747     6.790914  293.746321   \n",
       "...         ...         ...           ...          ...         ...   \n",
       "1355   6.453065  178.998245  23129.460178     6.354508  326.853185   \n",
       "1980   7.201702  147.711086  37308.994159     5.677451  279.164446   \n",
       "2701   7.117579  186.199680  31528.948690     6.387037  335.348881   \n",
       "909   10.282068  198.546363   8108.297322     5.548407  332.017935   \n",
       "1100   7.269652  155.157520  31161.368388     3.181183  244.795198   \n",
       "\n",
       "      Conductivity  Organic_carbon  Trihalomethanes  Turbidity Potability  \n",
       "1595    336.824656       16.701920        68.793062   3.149202         Si  \n",
       "846     440.601135       14.027297        70.929879   3.060827         No  \n",
       "3212    530.710026       19.486791        68.568791   3.048292         Si  \n",
       "573     299.279775        9.439925        61.640597   5.176205         No  \n",
       "2966    433.145005        9.069161        67.906813   3.322890         No  \n",
       "...            ...             ...              ...        ...        ...  \n",
       "1355    371.882763       13.178301        41.525863   3.440859         No  \n",
       "1980    395.976824       13.326125        63.626894   3.883250         Si  \n",
       "2701    380.578265       19.073996        75.903072   4.333402         No  \n",
       "909     568.078980       15.661692        28.770619   4.572923         No  \n",
       "1100    506.010135       17.385515        73.115053   3.789237         Si  \n",
       "\n",
       "[1608 rows x 10 columns]"
      ]
     },
     "execution_count": 107,
     "metadata": {},
     "output_type": "execute_result"
    }
   ],
   "source": [
    "modelo = consensoPropio(datos,0.80)\n",
    "modelo.split()\n",
    "modelo.train"
   ]
  },
  {
   "cell_type": "markdown",
   "metadata": {},
   "source": [
    "## 4. Genere modelos predictivos usando la Clase `ConsensoPropio` y el método `fit` de la clase `RandomForestClassifier` (con solamente 4 árboles, es decir, 4 boostraps), luego para la tabla de testing calcule, para ambos métodos, calcule la precisión global, el error global y la precisión por clases. ¿Cuál método es mejor?"
   ]
  },
  {
   "cell_type": "code",
   "execution_count": 110,
   "metadata": {},
   "outputs": [],
   "source": [
    "modelo.fit()"
   ]
  },
  {
   "cell_type": "code",
   "execution_count": null,
   "metadata": {},
   "outputs": [],
   "source": []
  }
 ],
 "metadata": {
  "kernelspec": {
   "display_name": "Python 3",
   "language": "python",
   "name": "python3"
  },
  "language_info": {
   "codemirror_mode": {
    "name": "ipython",
    "version": 3
   },
   "file_extension": ".py",
   "mimetype": "text/x-python",
   "name": "python",
   "nbconvert_exporter": "python",
   "pygments_lexer": "ipython3",
   "version": "3.8.2"
  }
 },
 "nbformat": 4,
 "nbformat_minor": 4
}
